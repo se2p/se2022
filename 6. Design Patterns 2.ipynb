{
 "cells": [
  {
   "cell_type": "markdown",
   "id": "d5c0661d",
   "metadata": {
    "slideshow": {
     "slide_type": "slide"
    }
   },
   "source": [
    "# Design Patterns 2"
   ]
  },
  {
   "cell_type": "markdown",
   "id": "67fdf255",
   "metadata": {
    "slideshow": {
     "slide_type": "slide"
    }
   },
   "source": [
    "## Bridge"
   ]
  },
  {
   "cell_type": "markdown",
   "id": "d8a0dcbe",
   "metadata": {
    "slideshow": {
     "slide_type": "skip"
    }
   },
   "source": [
    "Angenommen, wir wollen das Maze aus dem vorherigen Kapitel nun sowohl mit Java Swing als auch für Android implementieren. Hierzu muss die Funktionalität der `draw` Methode der `MapSite`s jeweils für Android und Swing implementiert werden, und das für jede Art von Maze-Komponente. Dies kann zu einer Grossen Anzahl an Unterklassen führen. Eine Alternative bietet das Bridge-Pattern: Die Maze-Komponenten interagieren mit einem abstrakten Implementor-Interface, das den Client von der konkreten Umsetzung (Android vs Swing) abstrahiert. "
   ]
  },
  {
   "cell_type": "code",
   "execution_count": 1,
   "id": "291d935e",
   "metadata": {
    "slideshow": {
     "slide_type": "fragment"
    }
   },
   "outputs": [],
   "source": [
    "interface MapRenderer {\n",
    "    void updateGUI(String element);\n",
    "}"
   ]
  },
  {
   "cell_type": "markdown",
   "id": "44c4c343",
   "metadata": {
    "slideshow": {
     "slide_type": "skip"
    }
   },
   "source": [
    "Von diesem Implementor-Interface gibt es nun verschiedene konkrete Umsetzungen."
   ]
  },
  {
   "cell_type": "code",
   "execution_count": 2,
   "id": "cbc1b376",
   "metadata": {
    "slideshow": {
     "slide_type": "fragment"
    }
   },
   "outputs": [],
   "source": [
    "class PrintRenderer implements MapRenderer {\n",
    "    public void updateGUI(String element) {\n",
    "        System.out.println(element);\n",
    "    }\n",
    "}"
   ]
  },
  {
   "cell_type": "code",
   "execution_count": 3,
   "id": "93cc140e",
   "metadata": {
    "slideshow": {
     "slide_type": "fragment"
    }
   },
   "outputs": [],
   "source": [
    "class SwingRenderer implements MapRenderer {\n",
    "    public void updateGUI(String element) {\n",
    "        // Code to handle Java Swing output\n",
    "    }\n",
    "}"
   ]
  },
  {
   "cell_type": "code",
   "execution_count": 4,
   "id": "7585b8b5",
   "metadata": {
    "slideshow": {
     "slide_type": "fragment"
    }
   },
   "outputs": [],
   "source": [
    "class AndroidRenderer implements MapRenderer {\n",
    "    public void updateGUI(String element) {\n",
    "        // Code to handle Android output\n",
    "    }\n",
    "}"
   ]
  },
  {
   "cell_type": "markdown",
   "id": "d6900617",
   "metadata": {
    "slideshow": {
     "slide_type": "skip"
    }
   },
   "source": [
    "Statt für jede Art von Output eine eigene Unterklasse von `MapSite` zu definieren, bekommt die `MapSite` eine Referenz auf ein Implementor-Objekt, und kann damit unabhängig von der Implementierung der GUI umgesetzt werden."
   ]
  },
  {
   "cell_type": "code",
   "execution_count": 5,
   "id": "f3cfe916",
   "metadata": {
    "slideshow": {
     "slide_type": "slide"
    }
   },
   "outputs": [],
   "source": [
    "public abstract class MapSite {\n",
    "    protected MapRenderer impl;\n",
    "    \n",
    "    public MapSite(MapRenderer renderer) {\n",
    "        this.impl = renderer;\n",
    "    }\n",
    "\n",
    "    public MapSite() {\n",
    "        this(new PrintRenderer());\n",
    "    }\n",
    "\n",
    "    public abstract void draw();\n",
    "}"
   ]
  },
  {
   "cell_type": "markdown",
   "id": "8f336891",
   "metadata": {
    "slideshow": {
     "slide_type": "skip"
    }
   },
   "source": [
    "Die konkreten Komponenten bedienen nun das `impl` Objekt."
   ]
  },
  {
   "cell_type": "code",
   "execution_count": 6,
   "id": "5031dfc7",
   "metadata": {
    "slideshow": {
     "slide_type": "slide"
    }
   },
   "outputs": [],
   "source": [
    "class Door extends MapSite {\n",
    "\n",
    "    public Door() {\n",
    "        super();\n",
    "    }\n",
    "\n",
    "    public Door(MapRenderer renderer) {\n",
    "        super(renderer);\n",
    "    }\n",
    "\n",
    "    @Override\n",
    "    public void draw() {\n",
    "        impl.updateGUI(\"Door\");\n",
    "    }\n",
    "}"
   ]
  },
  {
   "cell_type": "code",
   "execution_count": 7,
   "id": "2d431f33",
   "metadata": {
    "slideshow": {
     "slide_type": "slide"
    }
   },
   "outputs": [],
   "source": [
    "class Wall extends MapSite {\n",
    "    @Override\n",
    "    public void draw() {\n",
    "        impl.updateGUI(\"Wall\");\n",
    "    }\n",
    "}"
   ]
  },
  {
   "cell_type": "code",
   "execution_count": 8,
   "id": "b6348c72",
   "metadata": {
    "slideshow": {
     "slide_type": "fragment"
    }
   },
   "outputs": [],
   "source": [
    "public abstract class Composite extends MapSite {\n",
    "    protected List<MapSite> elements = new ArrayList<>();\n",
    "\n",
    "    public void add(MapSite x) {\n",
    "        elements.add(x);\n",
    "    }\n",
    "    \n",
    "    public List<MapSite> getChildren() {\n",
    "        return elements;\n",
    "    }\n",
    "  \n",
    "    @Override\n",
    "    public void draw() {\n",
    "        elements.forEach(e -> e.draw());\n",
    "    }\n",
    "}"
   ]
  },
  {
   "cell_type": "code",
   "execution_count": 9,
   "id": "61f1950e",
   "metadata": {
    "slideshow": {
     "slide_type": "slide"
    }
   },
   "outputs": [],
   "source": [
    "class Room extends Composite {\n",
    "    @Override\n",
    "    public void draw() {\n",
    "        impl.updateGUI(\"Room consisting of:\");\n",
    "        elements.forEach(x -> x.draw());\n",
    "    }\n",
    "}"
   ]
  },
  {
   "cell_type": "code",
   "execution_count": 10,
   "id": "7dd7de9d",
   "metadata": {
    "slideshow": {
     "slide_type": "fragment"
    }
   },
   "outputs": [],
   "source": [
    "class Maze extends Composite {\n",
    "    @Override\n",
    "    public void draw() {\n",
    "        impl.updateGUI(\"Maze consisting of: \");\n",
    "        elements.forEach(x -> x.draw());\n",
    "    }\n",
    "}"
   ]
  },
  {
   "cell_type": "markdown",
   "id": "d2921b59",
   "metadata": {
    "slideshow": {
     "slide_type": "skip"
    }
   },
   "source": [
    "Nachdem wir `MapSite` so implementiert haben, dass per Default ein `PrintRenderer` verwendet wird, können wir wie gehabt unser Maze erzeugen."
   ]
  },
  {
   "cell_type": "code",
   "execution_count": 11,
   "id": "e9242963",
   "metadata": {
    "slideshow": {
     "slide_type": "slide"
    }
   },
   "outputs": [
    {
     "name": "stdout",
     "output_type": "stream",
     "text": [
      "Maze consisting of: \n",
      "Room consisting of:\n",
      "Wall\n",
      "Wall\n",
      "Wall\n",
      "Wall\n",
      "Door\n",
      "Room consisting of:\n",
      "Wall\n",
      "Wall\n",
      "Wall\n",
      "Wall\n",
      "Door\n"
     ]
    }
   ],
   "source": [
    "Maze maze = new Maze();\n",
    "Room room1 = new Room();\n",
    "Room room2 = new Room();\n",
    "room1.add(new Wall());\n",
    "room1.add(new Wall());\n",
    "room1.add(new Wall());\n",
    "room1.add(new Wall());\n",
    "room2.add(new Wall());\n",
    "room2.add(new Wall());\n",
    "room2.add(new Wall());\n",
    "room2.add(new Wall());\n",
    "room1.add(new Door());\n",
    "room2.add(new Door());\n",
    "\n",
    "maze.add(room1);\n",
    "maze.add(room2);\n",
    "\n",
    "maze.draw();"
   ]
  },
  {
   "cell_type": "markdown",
   "id": "7d2e96cc",
   "metadata": {
    "slideshow": {
     "slide_type": "slide"
    }
   },
   "source": [
    "## Facade"
   ]
  },
  {
   "cell_type": "markdown",
   "id": "743032f3",
   "metadata": {
    "slideshow": {
     "slide_type": "skip"
    }
   },
   "source": [
    "Wir haben im obigen Beispiel keine tatsächliche Implementierung von `SwingRenderer` angegeben, und das mit gutem Grund: Um eine Swing-GUI zu verwenden muss eine Vielzahl an Klassen konfiguriert und verwendet werden. Das Facade-Entwurfsmuster versteckt diese Komplexität hinter einer Fassade, die ein einfacheres, abstrakteres Interface zur Verfügrung stellt."
   ]
  },
  {
   "cell_type": "code",
   "execution_count": 12,
   "id": "dc2851fa",
   "metadata": {
    "slideshow": {
     "slide_type": "fragment"
    }
   },
   "outputs": [],
   "source": [
    "class SwingFacade {\n",
    "    public void drawWindow() {\n",
    "        // ...\n",
    "        // Actual Swing code\n",
    "        System.out.println(\"...simulating Swing code...\");\n",
    "    }\n",
    "    \n",
    "    public void renderText(String text) {\n",
    "        // ...\n",
    "        // Actual Swing code\n",
    "        System.out.println(\"...simulating Swing code...\");\n",
    "    }\n",
    "    \n",
    "    public void renderButtons() {\n",
    "        // ...\n",
    "        // Actual Swing code\n",
    "        System.out.println(\"...simulating Swing code...\");\n",
    "    }\n",
    "}"
   ]
  },
  {
   "cell_type": "code",
   "execution_count": 13,
   "id": "5cd0d39b",
   "metadata": {
    "slideshow": {
     "slide_type": "slide"
    }
   },
   "outputs": [],
   "source": [
    "class SwingRenderer implements MapRenderer {\n",
    "    private SwingFacade facade = new SwingFacade();\n",
    "    \n",
    "    public void updateGUI(String element) {\n",
    "        facade.drawWindow();\n",
    "        facade.renderText(element);\n",
    "        facade.renderButtons();\n",
    "    }\n",
    "}"
   ]
  },
  {
   "cell_type": "code",
   "execution_count": 14,
   "id": "8e5f4c41",
   "metadata": {
    "slideshow": {
     "slide_type": "fragment"
    }
   },
   "outputs": [],
   "source": [
    "Door doorUsingFacade = new Door(new SwingRenderer());"
   ]
  },
  {
   "cell_type": "code",
   "execution_count": 15,
   "id": "7a1f52f7",
   "metadata": {
    "slideshow": {
     "slide_type": "fragment"
    }
   },
   "outputs": [
    {
     "name": "stdout",
     "output_type": "stream",
     "text": [
      "...simulating Swing code...\n",
      "...simulating Swing code...\n",
      "...simulating Swing code...\n"
     ]
    }
   ],
   "source": [
    "doorUsingFacade.draw()"
   ]
  },
  {
   "cell_type": "markdown",
   "id": "322c8d82",
   "metadata": {
    "slideshow": {
     "slide_type": "slide"
    }
   },
   "source": [
    "## Adapter"
   ]
  },
  {
   "cell_type": "markdown",
   "id": "57b97ad3",
   "metadata": {
    "slideshow": {
     "slide_type": "skip"
    }
   },
   "source": [
    "Angenommen es gibt bereits eine bestehende Komponente `WebRenderer`, die zwar genau die Funktionalität bietet, die wir in unserem Beispiel von Unterklassen des `MapRenderer` Interfaces erwarten, aber die Klasse `WebRenderer` implementiert dieses Interface nicht und hat anders benannte Methoden. Beispielsweise könnte diese Klasse aus einer verwendeten Bibliothek stammen."
   ]
  },
  {
   "cell_type": "code",
   "execution_count": 16,
   "id": "3952d72c",
   "metadata": {
    "slideshow": {
     "slide_type": "fragment"
    }
   },
   "outputs": [],
   "source": [
    "class WebRenderer {\n",
    "    void renderStuffOnTheWeb(String element) {\n",
    "        System.out.println(\"Web rendering of \" + element);\n",
    "    }\n",
    "}"
   ]
  },
  {
   "cell_type": "markdown",
   "id": "d7ead4d3",
   "metadata": {
    "slideshow": {
     "slide_type": "skip"
    }
   },
   "source": [
    "Das Adapter-Entwurfsmuster erlaubt uns, so eine Komponente in unsere Interfaces einzupassen."
   ]
  },
  {
   "cell_type": "code",
   "execution_count": 17,
   "id": "22fe56e9",
   "metadata": {
    "slideshow": {
     "slide_type": "fragment"
    }
   },
   "outputs": [],
   "source": [
    "class WebRendererAdapter implements MapRenderer {\n",
    "    private WebRenderer adaptee = new WebRenderer();\n",
    "\n",
    "    @Override\n",
    "    public void updateGUI(String element) {\n",
    "        adaptee.renderStuffOnTheWeb(element);\n",
    "    }\n",
    "}"
   ]
  },
  {
   "cell_type": "code",
   "execution_count": 18,
   "id": "c428979b",
   "metadata": {
    "slideshow": {
     "slide_type": "fragment"
    }
   },
   "outputs": [],
   "source": [
    "Door door = new Door(new WebRendererAdapter());"
   ]
  },
  {
   "cell_type": "code",
   "execution_count": 19,
   "id": "affafc71",
   "metadata": {
    "slideshow": {
     "slide_type": "fragment"
    }
   },
   "outputs": [
    {
     "name": "stdout",
     "output_type": "stream",
     "text": [
      "Web rendering of Door\n"
     ]
    }
   ],
   "source": [
    "door.draw();"
   ]
  },
  {
   "cell_type": "markdown",
   "id": "f250f4dd",
   "metadata": {
    "slideshow": {
     "slide_type": "slide"
    }
   },
   "source": [
    "## Proxy"
   ]
  },
  {
   "cell_type": "markdown",
   "id": "53e7036c",
   "metadata": {
    "slideshow": {
     "slide_type": "skip"
    }
   },
   "source": [
    "Ein Proxy ist ein Wrapper-Objekt das vom Client wie das tatsächliche Objekt benutzt wird, und dabei den Zugriff auf das tatsächliche Objekt steuert. Als Beispiel verwenden wir einen Proxy um Lazy Initialisation durchzuführen."
   ]
  },
  {
   "cell_type": "code",
   "execution_count": 20,
   "id": "2f6a1583",
   "metadata": {
    "slideshow": {
     "slide_type": "fragment"
    }
   },
   "outputs": [],
   "source": [
    "class WebRendererProxy implements MapRenderer {\n",
    "    private MapRenderer realSubject = null;\n",
    "    \n",
    "    private void setupCostlyInitialisation() {\n",
    "        if (realSubject == null) {\n",
    "            realSubject = new WebRendererAdapter();\n",
    "        }\n",
    "    }\n",
    "   \n",
    "    public void updateGUI(String element) {\n",
    "        setupCostlyInitialisation();\n",
    "        realSubject.updateGUI(element);\n",
    "    }\n",
    "}"
   ]
  },
  {
   "cell_type": "markdown",
   "id": "ff5c546e",
   "metadata": {
    "slideshow": {
     "slide_type": "skip"
    }
   },
   "source": [
    "Der Proxy ist eine für den Client transparente Schicht zur tatsächlichen Implementierung; wir verwenden diese Schicht für Lazy Initialisation, andere Anwendungsbeispiele sind Remote Proxies, Logging Proxies, oder Zugriffskontrolle."
   ]
  },
  {
   "cell_type": "code",
   "execution_count": 21,
   "id": "63c86140",
   "metadata": {
    "slideshow": {
     "slide_type": "fragment"
    }
   },
   "outputs": [],
   "source": [
    "Door door = new Door(new WebRendererProxy());"
   ]
  },
  {
   "cell_type": "code",
   "execution_count": 22,
   "id": "707fa288",
   "metadata": {
    "slideshow": {
     "slide_type": "fragment"
    }
   },
   "outputs": [
    {
     "name": "stdout",
     "output_type": "stream",
     "text": [
      "Web rendering of Door\n"
     ]
    }
   ],
   "source": [
    "door.draw()"
   ]
  },
  {
   "cell_type": "markdown",
   "id": "3d44dbbc",
   "metadata": {
    "slideshow": {
     "slide_type": "slide"
    }
   },
   "source": [
    "## Visitor"
   ]
  },
  {
   "cell_type": "markdown",
   "id": "a47232ac",
   "metadata": {
    "slideshow": {
     "slide_type": "skip"
    }
   },
   "source": [
    "Angenommen wir wollen eine komplexe Objektstruktur um Funktionalität erweitern, ohne dabei die neue Funktionalität direkt in den Klassen der Objektstruktur zu implementieren. Beispielsweise könnten wir ein Maze als XML Code ausgeben lassen. Ein einfacher Ansatz wäre, die Funktionalität in eine eigene Klasse zu packen."
   ]
  },
  {
   "cell_type": "code",
   "execution_count": 23,
   "id": "e3a382d6",
   "metadata": {
    "slideshow": {
     "slide_type": "slide"
    }
   },
   "outputs": [],
   "source": [
    "class XMLConverter {\n",
    "    void visitDoor(Door door) {\n",
    "        // print out xml for door\n",
    "        System.out.println(\"Door\");\n",
    "    }\n",
    "    \n",
    "    void visitWall(Wall wall) {\n",
    "        // print out xml for wall\n",
    "        System.out.println(\"Wall\");\n",
    "    }\n",
    "\n",
    "    void visitRoom(Room room) {\n",
    "        // print out xml for room\n",
    "        System.out.println(\"Room\");\n",
    "\n",
    "    }\n",
    "\n",
    "    void visitMaze(Maze maze) {\n",
    "        // print out xml for maze\n",
    "        System.out.println(\"Maze\");\n",
    "    }  \n",
    "}"
   ]
  },
  {
   "cell_type": "markdown",
   "id": "ce9f0886",
   "metadata": {
    "slideshow": {
     "slide_type": "skip"
    }
   },
   "source": [
    "Das Problem dabei ist, wie wir entscheiden welche der Funktionen nun aufgerufen werden soll. Wenn wir in irgendeiner Form über unsere Objektstruktur iterieren, müssen wir dabei bei jedem Objekt aufgrund der Klasse entscheiden welche Funktion die passende ist."
   ]
  },
  {
   "cell_type": "code",
   "execution_count": 24,
   "id": "09e019c6",
   "metadata": {
    "slideshow": {
     "slide_type": "subslide"
    }
   },
   "outputs": [
    {
     "name": "stdout",
     "output_type": "stream",
     "text": [
      "Maze\n",
      "Door\n"
     ]
    }
   ],
   "source": [
    "XMLConverter converter = new XMLConverter();\n",
    "\n",
    "for (MapSite mapSite : Arrays.asList(maze, door)) {\n",
    "    if (mapSite instanceof Door) {\n",
    "        converter.visitDoor((Door) mapSite);\n",
    "    } else if (mapSite instanceof Wall) {\n",
    "        converter.visitWall((Wall) mapSite);\n",
    "    } else if (mapSite instanceof Room) {\n",
    "        converter.visitRoom((Room) mapSite);\n",
    "    } else if (mapSite instanceof Maze) {\n",
    "        converter.visitMaze((Maze) mapSite);\n",
    "    } \n",
    "}"
   ]
  },
  {
   "cell_type": "markdown",
   "id": "95a586f0",
   "metadata": {
    "slideshow": {
     "slide_type": "skip"
    }
   },
   "source": [
    "Das ist umständlich, und man fragt sich vielleicht warum man das nicht einfach mit dynamischem Typing löst:"
   ]
  },
  {
   "cell_type": "code",
   "execution_count": 25,
   "id": "73cfdd1b",
   "metadata": {
    "slideshow": {
     "slide_type": "slide"
    }
   },
   "outputs": [],
   "source": [
    "class XMLConverter {\n",
    "    void visit(Door door) {\n",
    "        // print out xml for door\n",
    "        System.out.println(\"Door\");\n",
    "    }\n",
    "    \n",
    "    void visit(Wall wall) {\n",
    "        // print out xml for wall\n",
    "        System.out.println(\"Wall\");\n",
    "\n",
    "    }\n",
    "\n",
    "    void visit(Room room) {\n",
    "        // print out xml for room\n",
    "        System.out.println(\"Room\");\n",
    "\n",
    "    }\n",
    "\n",
    "    void visit(Maze maze) {\n",
    "        // print out xml for maze\n",
    "        System.out.println(\"Maze\");\n",
    "    }  \n",
    "\n",
    "    void visit(MapSite mapsite) {\n",
    "        // fallback, we don't actually want this to be called\n",
    "        System.out.println(\"MapSite\");\n",
    "    }  \n",
    "\n",
    "}"
   ]
  },
  {
   "cell_type": "code",
   "execution_count": 26,
   "id": "8c259d2c",
   "metadata": {
    "slideshow": {
     "slide_type": "subslide"
    }
   },
   "outputs": [
    {
     "name": "stdout",
     "output_type": "stream",
     "text": [
      "MapSite\n"
     ]
    }
   ],
   "source": [
    "MapSite mapSite = maze;\n",
    "new XMLConverter().visit(mapSite)"
   ]
  },
  {
   "cell_type": "markdown",
   "id": "fb48d19c",
   "metadata": {
    "slideshow": {
     "slide_type": "skip"
    }
   },
   "source": [
    "...scheint ja zu funktionieren. Allerdings funktioniert es nicht mehr, wenn der Code die Abstraktion benutzt, so wie es wohl der Fall wäre wenn man über mehrere Elemente iteriert."
   ]
  },
  {
   "cell_type": "code",
   "execution_count": 27,
   "id": "6dd946cc",
   "metadata": {
    "slideshow": {
     "slide_type": "subslide"
    }
   },
   "outputs": [
    {
     "name": "stdout",
     "output_type": "stream",
     "text": [
      "MapSite\n",
      "MapSite\n"
     ]
    }
   ],
   "source": [
    "XMLConverter converter = new XMLConverter();\n",
    "\n",
    "for (MapSite mapSite : Arrays.asList(maze, door)) {\n",
    "    converter.visit(mapSite);\n",
    "}"
   ]
  },
  {
   "cell_type": "markdown",
   "id": "b82a23d7",
   "metadata": {
    "slideshow": {
     "slide_type": "skip"
    }
   },
   "source": [
    "Im Visitor-Pattern wird dieses Problem mit Hilfe von _Double Dispatch_ gelöst. Leider habe ich noch keine gute Möglichkeit gefunden, die Visitor-Klassen/Interfaces in geeigneter Reihenfolge im Jupyter Notebook, sondern muss einen Umweg in den Definition gehen. Diese doppelten Definitionen wären normalerweise nicht notwendig, sondern sind nur ein Problem dass hier im Notebook besteht!"
   ]
  },
  {
   "cell_type": "code",
   "execution_count": 28,
   "id": "9024d662",
   "metadata": {
    "slideshow": {
     "slide_type": "slide"
    }
   },
   "outputs": [],
   "source": [
    "public interface Visitor {\n",
    "    // Jupyter-Hack: Wird weiter unten vervollständigt\n",
    "}"
   ]
  },
  {
   "cell_type": "markdown",
   "id": "9c685551",
   "metadata": {
    "slideshow": {
     "slide_type": "skip"
    }
   },
   "source": [
    "Wir müssen unsere Klassenhierarchie um ein Interface erweitern, sodass alle Objekte eine `accept` Methode erhalten, die das Double Dispatch durchführen kann."
   ]
  },
  {
   "cell_type": "code",
   "execution_count": 29,
   "id": "31f6dd2d",
   "metadata": {
    "slideshow": {
     "slide_type": "fragment"
    }
   },
   "outputs": [],
   "source": [
    "public interface Visitable {\n",
    "    void accept(Visitor v);\n",
    "}"
   ]
  },
  {
   "cell_type": "markdown",
   "id": "18d1ef3c",
   "metadata": {
    "slideshow": {
     "slide_type": "skip"
    }
   },
   "source": [
    "Eine `MapSite` soll `Visitable` sein."
   ]
  },
  {
   "cell_type": "code",
   "execution_count": 30,
   "id": "f64cfa29",
   "metadata": {
    "scrolled": true,
    "slideshow": {
     "slide_type": "fragment"
    }
   },
   "outputs": [],
   "source": [
    "public abstract class MapSite implements Visitable {\n",
    "    protected MapRenderer impl;\n",
    "    \n",
    "    public MapSite(MapRenderer renderer) {\n",
    "        this.impl = renderer;\n",
    "    }\n",
    "\n",
    "    public MapSite() {\n",
    "        this(new PrintRenderer());\n",
    "    }\n",
    "\n",
    "    public abstract void draw();\n",
    "    \n",
    "    public abstract void accept(Visitor v);\n",
    "}"
   ]
  },
  {
   "cell_type": "markdown",
   "id": "3136517b",
   "metadata": {
    "slideshow": {
     "slide_type": "skip"
    }
   },
   "source": [
    "Nachdem sich das Interface verändert hat, müssen alle Klassen der Objektstruktur so erweitert werden, dass sie auch die neue `accept` Methode implementieren.\n",
    "\n",
    "An dieser Stelle nun der Jupyter-Hack: Die `accept` Methode bleibt vorerst noch leer, normalerweise würde hier gleich der Code folgen..."
   ]
  },
  {
   "cell_type": "code",
   "execution_count": 31,
   "id": "fb256fc3",
   "metadata": {
    "slideshow": {
     "slide_type": "slide"
    }
   },
   "outputs": [],
   "source": [
    "class Door extends MapSite {\n",
    "\n",
    "    @Override\n",
    "    public void draw() {\n",
    "        impl.updateGUI(\"Door\");\n",
    "    }\n",
    "    \n",
    "    @Override\n",
    "    public void accept(Visitor v) {\n",
    "        // Jupyter-Hack: Wird weiter unten vervollständigt\n",
    "    }\n",
    "}"
   ]
  },
  {
   "cell_type": "code",
   "execution_count": 32,
   "id": "76bf8380",
   "metadata": {
    "slideshow": {
     "slide_type": "fragment"
    }
   },
   "outputs": [],
   "source": [
    "class Wall extends MapSite {\n",
    "    @Override\n",
    "    public void draw() {\n",
    "        impl.updateGUI(\"Wall\");\n",
    "    }\n",
    "    \n",
    "    @Override\n",
    "    public void accept(Visitor v) {\n",
    "        // Jupyter-Hack: Wird weiter unten vervollständigt\n",
    "    }\n",
    "}"
   ]
  },
  {
   "cell_type": "code",
   "execution_count": 33,
   "id": "98d71a5d",
   "metadata": {
    "slideshow": {
     "slide_type": "slide"
    }
   },
   "outputs": [],
   "source": [
    "public abstract class Composite extends MapSite {\n",
    "    protected List<MapSite> elements = new ArrayList<>();\n",
    "\n",
    "    public void add(MapSite x) {\n",
    "        elements.add(x);\n",
    "    }\n",
    "\n",
    "    public List<MapSite> getChildren() {\n",
    "        return elements;\n",
    "    }\n",
    "\n",
    "    @Override\n",
    "    public void draw() {\n",
    "        elements.forEach(e -> e.draw());\n",
    "    }\n",
    "}"
   ]
  },
  {
   "cell_type": "code",
   "execution_count": 34,
   "id": "8bd15a8e",
   "metadata": {
    "slideshow": {
     "slide_type": "slide"
    }
   },
   "outputs": [],
   "source": [
    "class Room extends Composite {\n",
    "    @Override\n",
    "    public void draw() {\n",
    "        impl.updateGUI(\"Room consisting of:\");\n",
    "        elements.forEach(x -> x.draw());\n",
    "    }\n",
    "    \n",
    "    @Override\n",
    "    public void accept(Visitor v) {\n",
    "        // Jupyter-Hack: Wird weiter unten vervollständigt\n",
    "        elements.forEach(x -> x.accept(v));\n",
    "    }\n",
    "}"
   ]
  },
  {
   "cell_type": "code",
   "execution_count": 35,
   "id": "9571b13f",
   "metadata": {
    "slideshow": {
     "slide_type": "fragment"
    }
   },
   "outputs": [],
   "source": [
    "class Maze extends Composite {\n",
    "    @Override\n",
    "    public void draw() {\n",
    "        impl.updateGUI(\"Maze consisting of: \");\n",
    "        elements.forEach(x -> x.draw());\n",
    "    }\n",
    "    \n",
    "    @Override\n",
    "    public void accept(Visitor v) {\n",
    "        // Jupyter-Hack: Wird weiter unten vervollständigt\n",
    "        elements.forEach(x -> x.accept(v));\n",
    "    }\n",
    "}"
   ]
  },
  {
   "cell_type": "markdown",
   "id": "4ec4ed2a",
   "metadata": {
    "slideshow": {
     "slide_type": "skip"
    }
   },
   "source": [
    "Nachdem wir das gemacht haben, ist nun auch Jupyter bereit die vollständige Definition zu akzeptieren. Unser Visitor benötigt eine eigene Methode für jedes Element der Objektstruktur."
   ]
  },
  {
   "cell_type": "code",
   "execution_count": 36,
   "id": "19090db4",
   "metadata": {
    "slideshow": {
     "slide_type": "slide"
    }
   },
   "outputs": [],
   "source": [
    "public interface Visitor {\n",
    "    void visitDoor(Door d);\n",
    "    void visitRoom(Room r);\n",
    "    void visitMaze(Maze m);\n",
    "    void visitWall(Wall w);\n",
    "}"
   ]
  },
  {
   "cell_type": "markdown",
   "id": "262503b9",
   "metadata": {
    "slideshow": {
     "slide_type": "skip"
    }
   },
   "source": [
    "Die jeweiligen `accept` Methoden der konkreten Klassen der Objektstruktur rufen dann die entsprechende Methode auf (das ist das Double Dispatch)."
   ]
  },
  {
   "cell_type": "code",
   "execution_count": 37,
   "id": "24d43923",
   "metadata": {
    "slideshow": {
     "slide_type": "fragment"
    }
   },
   "outputs": [],
   "source": [
    "class Door extends MapSite {\n",
    "\n",
    "    @Override\n",
    "    public void draw() {\n",
    "        impl.updateGUI(\"Door\");\n",
    "    }\n",
    "    \n",
    "    @Override\n",
    "    public void accept(Visitor v) {\n",
    "        v.visitDoor(this);\n",
    "    }\n",
    "}"
   ]
  },
  {
   "cell_type": "code",
   "execution_count": 38,
   "id": "d86a955c",
   "metadata": {
    "slideshow": {
     "slide_type": "slide"
    }
   },
   "outputs": [],
   "source": [
    "class Wall extends MapSite {\n",
    "    @Override\n",
    "    public void draw() {\n",
    "        impl.updateGUI(\"Wall\");\n",
    "    }\n",
    "    \n",
    "    @Override\n",
    "    public void accept(Visitor v) {\n",
    "       v.visitWall(this);\n",
    "    }\n",
    "}"
   ]
  },
  {
   "cell_type": "code",
   "execution_count": 39,
   "id": "eb0f004e",
   "metadata": {
    "slideshow": {
     "slide_type": "slide"
    }
   },
   "outputs": [],
   "source": [
    "public abstract class Composite extends MapSite {\n",
    "    protected List<MapSite> elements = new ArrayList<>();\n",
    "\n",
    "    public void add(MapSite x) {\n",
    "        elements.add(x);\n",
    "    }\n",
    "\n",
    "    public List<MapSite> getChildren() {\n",
    "        return elements;\n",
    "    }\n",
    "\n",
    "    @Override\n",
    "    public void draw() {\n",
    "        elements.forEach(e -> e.draw());\n",
    "    }\n",
    "}"
   ]
  },
  {
   "cell_type": "code",
   "execution_count": 40,
   "id": "b496bf3d",
   "metadata": {
    "slideshow": {
     "slide_type": "slide"
    }
   },
   "outputs": [],
   "source": [
    "class Room extends Composite {\n",
    "    @Override\n",
    "    public void draw() {\n",
    "        impl.updateGUI(\"Room consisting of:\");\n",
    "        elements.forEach(x -> x.draw());\n",
    "    }\n",
    "    \n",
    "    @Override\n",
    "    public void accept(Visitor v) {\n",
    "        v.visitRoom(this);\n",
    "        elements.forEach(x -> x.accept(v));\n",
    "    }\n",
    "}"
   ]
  },
  {
   "cell_type": "code",
   "execution_count": 41,
   "id": "f6dbc8cf",
   "metadata": {
    "slideshow": {
     "slide_type": "fragment"
    }
   },
   "outputs": [],
   "source": [
    "class Maze extends Composite {\n",
    "    @Override\n",
    "    public void draw() {\n",
    "        impl.updateGUI(\"Maze consisting of: \");\n",
    "        elements.forEach(x -> x.draw());\n",
    "    }\n",
    "    \n",
    "    @Override\n",
    "    public void accept(Visitor v) {\n",
    "        v.visitMaze(this);\n",
    "        elements.forEach(x -> x.accept(v));\n",
    "    }\n",
    "}"
   ]
  },
  {
   "cell_type": "code",
   "execution_count": 42,
   "id": "339db622",
   "metadata": {
    "slideshow": {
     "slide_type": "slide"
    }
   },
   "outputs": [],
   "source": [
    "public class PrintVisitor implements Visitor {\n",
    "    @Override\n",
    "    public void visitDoor(Door d) {\n",
    "        System.out.println(\"Here's a door\");\n",
    "    }\n",
    "\n",
    "    @Override\n",
    "    public void visitWall(Wall w) {\n",
    "        System.out.println(\"Here's a wall\");\n",
    "    }\n",
    "\n",
    "    @Override\n",
    "    public void visitRoom(Room r) {\n",
    "        System.out.println(\"Here's a room\");\n",
    "    }\n",
    "\n",
    "    @Override\n",
    "    public void visitMaze(Maze m) {\n",
    "        System.out.println(\"Here's a maze\");\n",
    "    }\n",
    "\n",
    "}"
   ]
  },
  {
   "cell_type": "code",
   "execution_count": 43,
   "id": "cee83d80",
   "metadata": {
    "slideshow": {
     "slide_type": "slide"
    }
   },
   "outputs": [],
   "source": [
    "Maze maze = new Maze();\n",
    "Room room1 = new Room();\n",
    "Room room2 = new Room();\n",
    "room1.add(new Wall());\n",
    "room1.add(new Wall());\n",
    "room1.add(new Wall());\n",
    "room1.add(new Wall());\n",
    "room2.add(new Wall());\n",
    "room2.add(new Wall());\n",
    "room2.add(new Wall());\n",
    "room2.add(new Wall());\n",
    "room1.add(new Door());\n",
    "room2.add(new Door());\n",
    "\n",
    "maze.add(room1);\n",
    "maze.add(room2);"
   ]
  },
  {
   "cell_type": "code",
   "execution_count": 44,
   "id": "ec4723be",
   "metadata": {
    "slideshow": {
     "slide_type": "slide"
    }
   },
   "outputs": [],
   "source": [
    "PrintVisitor visitor = new PrintVisitor()"
   ]
  },
  {
   "cell_type": "code",
   "execution_count": 45,
   "id": "1e17e455",
   "metadata": {
    "slideshow": {
     "slide_type": "fragment"
    }
   },
   "outputs": [
    {
     "name": "stdout",
     "output_type": "stream",
     "text": [
      "Here's a room\n",
      "Here's a wall\n",
      "Here's a wall\n",
      "Here's a wall\n",
      "Here's a wall\n",
      "Here's a door\n"
     ]
    }
   ],
   "source": [
    "room1.accept(visitor)"
   ]
  },
  {
   "cell_type": "code",
   "execution_count": 46,
   "id": "5969dccd",
   "metadata": {
    "slideshow": {
     "slide_type": "fragment"
    }
   },
   "outputs": [
    {
     "name": "stdout",
     "output_type": "stream",
     "text": [
      "Here's a maze\n",
      "Here's a room\n",
      "Here's a wall\n",
      "Here's a wall\n",
      "Here's a wall\n",
      "Here's a wall\n",
      "Here's a door\n",
      "Here's a room\n",
      "Here's a wall\n",
      "Here's a wall\n",
      "Here's a wall\n",
      "Here's a wall\n",
      "Here's a door\n"
     ]
    }
   ],
   "source": [
    "maze.accept(visitor)"
   ]
  },
  {
   "cell_type": "markdown",
   "id": "38c2f826",
   "metadata": {
    "slideshow": {
     "slide_type": "skip"
    }
   },
   "source": [
    "In dieser Implementierung haben wir die Traversierung der Objektstruktur in der Objektstruktur selbst umgesetzt; d.h. Composite Objekte rufen innerhalb der `accept` Methode die `accept` Methode ihrer Kinder auf. Es ist auch Möglich dies im Visitor selbst umzusetzen. Dies machen wir in folgendem Beispiel."
   ]
  },
  {
   "cell_type": "code",
   "execution_count": 47,
   "id": "878641db",
   "metadata": {
    "slideshow": {
     "slide_type": "slide"
    }
   },
   "outputs": [],
   "source": [
    "public class PrintXMLVisitor implements Visitor {\n",
    "    @Override\n",
    "    public void visitDoor(Door d) {\n",
    "        System.out.println(\"    <door></door>\");\n",
    "    }\n",
    "\n",
    "    @Override\n",
    "    public void visitWall(Wall w) {\n",
    "        System.out.println(\"    <wall></wall>\");\n",
    "    }\n",
    "\n",
    "    @Override\n",
    "    public void visitRoom(Room r) {\n",
    "        System.out.println(\"  <room>\");\n",
    "        for (MapSite mapSite : r.getChildren()) {\n",
    "            mapSite.accept(this);\n",
    "        }\n",
    "        System.out.println(\"  </room>\");\n",
    "    }\n",
    "\n",
    "    @Override\n",
    "    public void visitMaze(Maze m) {\n",
    "        System.out.println(\"<maze>\");\n",
    "        for (MapSite mapSite : m.getChildren()) {\n",
    "            mapSite.accept(this);\n",
    "        }\n",
    "        System.out.println(\"</maze>\");\n",
    "    }\n",
    "\n",
    "}"
   ]
  },
  {
   "cell_type": "markdown",
   "id": "efb620b2",
   "metadata": {
    "slideshow": {
     "slide_type": "skip"
    }
   },
   "source": [
    "Nachdem die Traversierung der Kinderelemente nun im Visitor passiert, müssen wir den gleichen Code aus der Objektstruktur selbst entfernen."
   ]
  },
  {
   "cell_type": "code",
   "execution_count": 48,
   "id": "58055697",
   "metadata": {
    "slideshow": {
     "slide_type": "slide"
    }
   },
   "outputs": [],
   "source": [
    "class Room extends Composite {\n",
    "    @Override\n",
    "    public void draw() {\n",
    "        impl.updateGUI(\"Room consisting of:\");\n",
    "        elements.forEach(x -> x.draw());\n",
    "    }\n",
    "    \n",
    "    @Override\n",
    "    public void accept(Visitor v) {\n",
    "        v.visitRoom(this);\n",
    "    }\n",
    "}"
   ]
  },
  {
   "cell_type": "code",
   "execution_count": 49,
   "id": "b25e8db4",
   "metadata": {
    "slideshow": {
     "slide_type": "fragment"
    }
   },
   "outputs": [],
   "source": [
    "class Maze extends Composite {\n",
    "    @Override\n",
    "    public void draw() {\n",
    "        impl.updateGUI(\"Maze consisting of: \");\n",
    "        elements.forEach(x -> x.draw());\n",
    "    }\n",
    "    \n",
    "    @Override\n",
    "    public void accept(Visitor v) {\n",
    "        v.visitMaze(this);\n",
    "    }\n",
    "}"
   ]
  },
  {
   "cell_type": "code",
   "execution_count": 50,
   "id": "0c9ad23e",
   "metadata": {
    "slideshow": {
     "slide_type": "slide"
    }
   },
   "outputs": [],
   "source": [
    "Maze maze = new Maze();\n",
    "Room room1 = new Room();\n",
    "Room room2 = new Room();\n",
    "room1.add(new Wall());\n",
    "room1.add(new Wall());\n",
    "room1.add(new Wall());\n",
    "room1.add(new Wall());\n",
    "room2.add(new Wall());\n",
    "room2.add(new Wall());\n",
    "room2.add(new Wall());\n",
    "room2.add(new Wall());\n",
    "room1.add(new Door());\n",
    "room2.add(new Door());\n",
    "\n",
    "maze.add(room1);\n",
    "maze.add(room2);"
   ]
  },
  {
   "cell_type": "code",
   "execution_count": 51,
   "id": "62495fa1",
   "metadata": {
    "slideshow": {
     "slide_type": "slide"
    }
   },
   "outputs": [],
   "source": [
    "PrintXMLVisitor visitor = new PrintXMLVisitor()"
   ]
  },
  {
   "cell_type": "code",
   "execution_count": 52,
   "id": "92f5bf2d",
   "metadata": {
    "slideshow": {
     "slide_type": "fragment"
    }
   },
   "outputs": [
    {
     "name": "stdout",
     "output_type": "stream",
     "text": [
      "<maze>\n",
      "  <room>\n",
      "    <wall></wall>\n",
      "    <wall></wall>\n",
      "    <wall></wall>\n",
      "    <wall></wall>\n",
      "    <door></door>\n",
      "  </room>\n",
      "  <room>\n",
      "    <wall></wall>\n",
      "    <wall></wall>\n",
      "    <wall></wall>\n",
      "    <wall></wall>\n",
      "    <door></door>\n",
      "  </room>\n",
      "</maze>\n"
     ]
    }
   ],
   "source": [
    "maze.accept(visitor)"
   ]
  },
  {
   "cell_type": "markdown",
   "id": "3ab15821",
   "metadata": {
    "slideshow": {
     "slide_type": "slide"
    }
   },
   "source": [
    "## Command"
   ]
  },
  {
   "cell_type": "markdown",
   "id": "7948d71b",
   "metadata": {
    "slideshow": {
     "slide_type": "skip"
    }
   },
   "source": [
    "Das Command-Pattern erlaubt es uns, auszuführende Aktionen als Objekte darzustellen. Diese Objekte lassen sich herumreichen, und es ist möglich erst zu geeigneten Zeiten die Aktionen ausführen."
   ]
  },
  {
   "cell_type": "code",
   "execution_count": 53,
   "id": "27eac8d0",
   "metadata": {
    "slideshow": {
     "slide_type": "fragment"
    }
   },
   "outputs": [],
   "source": [
    "interface Command {\n",
    "    void execute();\n",
    "}"
   ]
  },
  {
   "cell_type": "markdown",
   "id": "8b7cfab4",
   "metadata": {
    "slideshow": {
     "slide_type": "skip"
    }
   },
   "source": [
    "Wir erzeugen ein Dummy-Command für die Maze-Objektstruktur, das einfach nur aus einer Ausgabe besteht."
   ]
  },
  {
   "cell_type": "code",
   "execution_count": 54,
   "id": "150ae2ff",
   "metadata": {
    "slideshow": {
     "slide_type": "fragment"
    }
   },
   "outputs": [],
   "source": [
    "public class PrintCommand implements Command {\n",
    "    private MapSite site;\n",
    "    \n",
    "    public PrintCommand(MapSite site) {\n",
    "        this.site = site;\n",
    "    }\n",
    "    \n",
    "    @Override\n",
    "    public void execute() {\n",
    "        System.out.println(\"Executing command on \" + site.getClass().getSimpleName());\n",
    "    }\n",
    "}"
   ]
  },
  {
   "cell_type": "code",
   "execution_count": 55,
   "id": "809771c7",
   "metadata": {
    "slideshow": {
     "slide_type": "slide"
    }
   },
   "outputs": [],
   "source": [
    "public class OtherCommand implements Command {\n",
    "    private MapSite site;\n",
    "    \n",
    "    public OtherCommand(MapSite site) {\n",
    "        this.site = site;\n",
    "    }\n",
    "\n",
    "    @Override\n",
    "    public void execute() {\n",
    "        // site.otherStuff();\n",
    "        // do other stuff\n",
    "\n",
    "    }\n",
    "}"
   ]
  },
  {
   "cell_type": "markdown",
   "id": "9b8d4dbf",
   "metadata": {
    "slideshow": {
     "slide_type": "skip"
    }
   },
   "source": [
    "Nun möchten wir ein Command für jedes Objekt innerhalb einer Objektstruktur einsammeln. Dafür eignet das Visitor Pattern."
   ]
  },
  {
   "cell_type": "code",
   "execution_count": 56,
   "id": "a0a96d32",
   "metadata": {
    "slideshow": {
     "slide_type": "slide"
    }
   },
   "outputs": [],
   "source": [
    "public class CommandVisitor implements Visitor {\n",
    "\n",
    "    private List<Command> commands = new ArrayList<>();\n",
    "\n",
    "    public List<Command> getCommands() {\n",
    "        return commands;\n",
    "    }\n",
    "\n",
    "    @Override\n",
    "    public void visitDoor(Door d) {\n",
    "        commands.add(new PrintCommand(d));\n",
    "    }\n",
    "\n",
    "    @Override\n",
    "    public void visitWall(Wall w) {\n",
    "        commands.add(new PrintCommand(w));\n",
    "    }\n",
    "\n",
    "    @Override\n",
    "    public void visitRoom(Room r) {\n",
    "        commands.add(new PrintCommand(r));\n",
    "        r.getChildren().forEach(m -> m.accept(this));\n",
    "    }\n",
    "\n",
    "    @Override\n",
    "    public void visitMaze(Maze m) {\n",
    "        commands.add(new PrintCommand(m));\n",
    "        m.getChildren().forEach(ms -> ms.accept(this));\n",
    "    }\n",
    "}"
   ]
  },
  {
   "cell_type": "markdown",
   "id": "bb4acc6a",
   "metadata": {
    "slideshow": {
     "slide_type": "skip"
    }
   },
   "source": [
    "Nun können wir unsere Commands erzeugen, und nach belieben Ausführen."
   ]
  },
  {
   "cell_type": "code",
   "execution_count": 57,
   "id": "490df8a3",
   "metadata": {
    "slideshow": {
     "slide_type": "slide"
    }
   },
   "outputs": [],
   "source": [
    "CommandVisitor visitor = new CommandVisitor();\n",
    "maze.accept(visitor);"
   ]
  },
  {
   "cell_type": "code",
   "execution_count": 58,
   "id": "9f105d17",
   "metadata": {
    "slideshow": {
     "slide_type": "fragment"
    }
   },
   "outputs": [],
   "source": [
    "List<Command> commands = visitor.getCommands();"
   ]
  },
  {
   "cell_type": "code",
   "execution_count": 59,
   "id": "c0401dae",
   "metadata": {
    "slideshow": {
     "slide_type": "fragment"
    }
   },
   "outputs": [
    {
     "data": {
      "text/plain": [
       "13"
      ]
     },
     "execution_count": 59,
     "metadata": {},
     "output_type": "execute_result"
    }
   ],
   "source": [
    "commands.size()"
   ]
  },
  {
   "cell_type": "code",
   "execution_count": 60,
   "id": "d89a5230",
   "metadata": {
    "slideshow": {
     "slide_type": "fragment"
    }
   },
   "outputs": [
    {
     "name": "stdout",
     "output_type": "stream",
     "text": [
      "Executing command on Maze\n",
      "Executing command on Room\n",
      "Executing command on Wall\n",
      "Executing command on Wall\n",
      "Executing command on Wall\n",
      "Executing command on Wall\n",
      "Executing command on Door\n",
      "Executing command on Room\n",
      "Executing command on Wall\n",
      "Executing command on Wall\n",
      "Executing command on Wall\n",
      "Executing command on Wall\n",
      "Executing command on Door\n"
     ]
    }
   ],
   "source": [
    "for (Command command : visitor.getCommands()) {\n",
    "    command.execute();\n",
    "}"
   ]
  },
  {
   "cell_type": "markdown",
   "id": "0dbc2148",
   "metadata": {
    "slideshow": {
     "slide_type": "slide"
    }
   },
   "source": [
    "## Strategy"
   ]
  },
  {
   "cell_type": "markdown",
   "id": "12f09ab3",
   "metadata": {
    "slideshow": {
     "slide_type": "skip"
    }
   },
   "source": [
    "Das Strategy-Muster wird verwendet, wenn zahlreiche zusammenhängende Klassen sich nur im Verhalten unterscheiden, oder verschiedene Varianten eines Algorithmus benötigt werden. Ein Beispiel für unser Maze-Szenario wären unterschiedliche Traversierungsstrategien, z.B. Preorder/Postorder. Das Strategy-Pattern erlaubt es, diese Strategien nach Belieben (und zur Laufzeit) zu wechseln, und auch einfach neue Strategien einzubauen."
   ]
  },
  {
   "cell_type": "code",
   "execution_count": 61,
   "id": "cb362b29",
   "metadata": {
    "slideshow": {
     "slide_type": "fragment"
    }
   },
   "outputs": [],
   "source": [
    "interface TraversalStrategy {\n",
    "    List<MapSite> traverse(MapSite element);\n",
    "}"
   ]
  },
  {
   "cell_type": "code",
   "execution_count": 62,
   "id": "d30830f8",
   "metadata": {
    "slideshow": {
     "slide_type": "slide"
    }
   },
   "outputs": [],
   "source": [
    "public class PreorderTraversalStrategy implements TraversalStrategy {\n",
    "    public List<MapSite> traverse(MapSite element) {\n",
    "        List<MapSite> elements = new ArrayList<MapSite>();\n",
    "        elements.add(element);\n",
    "        if (element instanceof Composite) {\n",
    "            for (MapSite map : ((Composite)element).getChildren()) {\n",
    "                elements.addAll(traverse(map));\n",
    "            }\n",
    "        }\n",
    "        return elements;\n",
    "    }\n",
    "}"
   ]
  },
  {
   "cell_type": "code",
   "execution_count": 63,
   "id": "228d6ddb",
   "metadata": {
    "slideshow": {
     "slide_type": "fragment"
    }
   },
   "outputs": [],
   "source": [
    "public class PostorderTraversalStrategy implements TraversalStrategy {\n",
    "    public List<MapSite> traverse(MapSite element) {\n",
    "        List<MapSite> elements = new ArrayList<MapSite>();\n",
    "        if (element instanceof Composite) {\n",
    "            for (MapSite map : ((Composite)element).getChildren()) {\n",
    "                elements.addAll(traverse(map));\n",
    "            }\n",
    "        }\n",
    "        elements.add(element);\n",
    "\n",
    "        return elements;\n",
    "    }\n",
    "}"
   ]
  },
  {
   "cell_type": "code",
   "execution_count": 64,
   "id": "4f52aa9b",
   "metadata": {
    "slideshow": {
     "slide_type": "slide"
    }
   },
   "outputs": [],
   "source": [
    "TraversalStrategy strategy = new PreorderTraversalStrategy();\n",
    "List<MapSite> preorderElements = strategy.traverse(maze)"
   ]
  },
  {
   "cell_type": "code",
   "execution_count": 65,
   "id": "3d33f1b2",
   "metadata": {
    "slideshow": {
     "slide_type": "fragment"
    }
   },
   "outputs": [
    {
     "name": "stdout",
     "output_type": "stream",
     "text": [
      "Executing command on Maze\n",
      "Executing command on Room\n",
      "Executing command on Wall\n",
      "Executing command on Wall\n",
      "Executing command on Wall\n",
      "Executing command on Wall\n",
      "Executing command on Door\n",
      "Executing command on Room\n",
      "Executing command on Wall\n",
      "Executing command on Wall\n",
      "Executing command on Wall\n",
      "Executing command on Wall\n",
      "Executing command on Door\n"
     ]
    }
   ],
   "source": [
    "for (MapSite element : preorderElements) {\n",
    "    new PrintCommand(element).execute();\n",
    "}"
   ]
  },
  {
   "cell_type": "code",
   "execution_count": 66,
   "id": "49badaca",
   "metadata": {
    "slideshow": {
     "slide_type": "slide"
    }
   },
   "outputs": [],
   "source": [
    "TraversalStrategy strategy = new PostorderTraversalStrategy();\n",
    "List<MapSite> postorderElements = strategy.traverse(maze);"
   ]
  },
  {
   "cell_type": "code",
   "execution_count": 67,
   "id": "4f6232d9",
   "metadata": {
    "slideshow": {
     "slide_type": "fragment"
    }
   },
   "outputs": [
    {
     "name": "stdout",
     "output_type": "stream",
     "text": [
      "Executing command on Wall\n",
      "Executing command on Wall\n",
      "Executing command on Wall\n",
      "Executing command on Wall\n",
      "Executing command on Door\n",
      "Executing command on Room\n",
      "Executing command on Wall\n",
      "Executing command on Wall\n",
      "Executing command on Wall\n",
      "Executing command on Wall\n",
      "Executing command on Door\n",
      "Executing command on Room\n",
      "Executing command on Maze\n"
     ]
    }
   ],
   "source": [
    "for (MapSite element : postorderElements) {\n",
    "    new PrintCommand(element).execute();\n",
    "}"
   ]
  }
 ],
 "metadata": {
  "celltoolbar": "Slideshow",
  "kernelspec": {
   "display_name": "Java",
   "language": "java",
   "name": "java"
  },
  "language_info": {
   "codemirror_mode": "java",
   "file_extension": ".jshell",
   "mimetype": "text/x-java-source",
   "name": "Java",
   "pygments_lexer": "java",
   "version": "18.0.1.1+0"
  }
 },
 "nbformat": 4,
 "nbformat_minor": 5
}
