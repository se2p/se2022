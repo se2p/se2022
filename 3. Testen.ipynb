{
 "cells": [
  {
   "cell_type": "markdown",
   "metadata": {
    "slideshow": {
     "slide_type": "slide"
    }
   },
   "source": [
    "# Testen mit JUnit"
   ]
  },
  {
   "cell_type": "markdown",
   "metadata": {
    "slideshow": {
     "slide_type": "skip"
    }
   },
   "source": [
    "Inhalt dieser Vorlesung ist das Testen von Programmen. In diesem Jupyter-Notebook sind dabei die Beispiele rund um JUnit gesammelt."
   ]
  },
  {
   "cell_type": "markdown",
   "metadata": {
    "slideshow": {
     "slide_type": "skip"
    }
   },
   "source": [
    "Betrachten wir die folgende fehlerhafte Java-Klasse."
   ]
  },
  {
   "cell_type": "code",
   "execution_count": 1,
   "metadata": {
    "slideshow": {
     "slide_type": "slide"
    }
   },
   "outputs": [],
   "source": [
    "class Maximum {\n",
    "  public int get(int x, int y) {\n",
    "    if (x > y) {\n",
    "      return x;\n",
    "    } else {\n",
    "      return x; // Bug!\n",
    "    }\n",
    "  }\n",
    "}"
   ]
  },
  {
   "cell_type": "markdown",
   "metadata": {
    "slideshow": {
     "slide_type": "skip"
    }
   },
   "source": [
    "Wie im Code markiert ist, enthält diese Klasse einen Bug in der `get` Methode. Diese funktioniert korrekt, solange das erste Argument den größeren Wert enthält:"
   ]
  },
  {
   "cell_type": "code",
   "execution_count": 2,
   "metadata": {
    "slideshow": {
     "slide_type": "fragment"
    }
   },
   "outputs": [
    {
     "data": {
      "text/plain": [
       "50"
      ]
     },
     "execution_count": 2,
     "metadata": {},
     "output_type": "execute_result"
    }
   ],
   "source": [
    "Maximum max = new Maximum();\n",
    "max.get(50, 10);"
   ]
  },
  {
   "cell_type": "markdown",
   "metadata": {
    "slideshow": {
     "slide_type": "skip"
    }
   },
   "source": [
    "Die erwartete Rückgabewert ist 50, und das ist auch was wir bekommen haben -- dieser Fall ist also korrekt implementiert."
   ]
  },
  {
   "cell_type": "markdown",
   "metadata": {
    "slideshow": {
     "slide_type": "skip"
    }
   },
   "source": [
    "Der Fehler tritt auf, wenn das zweite Argument das größere ist:"
   ]
  },
  {
   "cell_type": "code",
   "execution_count": 3,
   "metadata": {},
   "outputs": [
    {
     "data": {
      "text/plain": [
       "10"
      ]
     },
     "execution_count": 3,
     "metadata": {},
     "output_type": "execute_result"
    }
   ],
   "source": [
    "max.get(10, 50);"
   ]
  },
  {
   "cell_type": "markdown",
   "metadata": {},
   "source": [
    "An dieser Stelle würden wir auch den Rückgabewert 50 erwarten, haben aber 10 erhalten, was klar falsch ist."
   ]
  },
  {
   "cell_type": "markdown",
   "metadata": {},
   "source": [
    "Was wir nun in den letzten paar Zeilen gemacht haben ist genau, was man beim Testen macht: Wir haben eine Instanz der Klasse `Maximum` erzeugt, diese mit verschiedenen Parameterwerten aufgerufen, und das Ergebnis überprüft."
   ]
  },
  {
   "cell_type": "markdown",
   "metadata": {},
   "source": [
    "Die Auswahl der konkreten Aufrufe, Parameter, und die Definition der erwarteten Ausgaben sind Dinge, die wir als Entwickler/Tester immer selber machen müssen. Den Ablauf der einzelnen Schritte können wir allerdings automatisieren mit JUnit."
   ]
  },
  {
   "cell_type": "markdown",
   "metadata": {},
   "source": [
    "## JUnit Tests"
   ]
  },
  {
   "cell_type": "markdown",
   "metadata": {},
   "source": [
    "[JUnit](https://junit.org/junit5/) ist ein Framework mit dem automatisierte Tests für Java Code erstellt und ausgeführt werden können. Die aktuelle Version von JUnit ist 5, in diesem Jupyter Notebook verwende ich allerdings JUnit 4, da sich damit aus dem Notebook heraus leichter die Tests ausführen lassen. Bis auf die Paketnamen bei den Imports ändert sich an den Beispielen aber nichts bei der Verwendung mit JUnit 5."
   ]
  },
  {
   "cell_type": "markdown",
   "metadata": {},
   "source": [
    "Zunächst benötigen wir die Bibliothek selbst als Abhängigkeit. In einem Softwareprojekt würde man diesen Schritt direkt in der Maven oder Gradle Buildkonfiguration vornehmen."
   ]
  },
  {
   "cell_type": "code",
   "execution_count": 4,
   "metadata": {},
   "outputs": [],
   "source": [
    "%mavenRepo oss-sonatype-snapshots https://oss.sonatype.org/content/repositories/snapshots/\n",
    "%maven junit:junit:4.13.2"
   ]
  },
  {
   "cell_type": "markdown",
   "metadata": {},
   "source": [
    "Wir benötigen 2 zentrale Imports: Zunächst müssen wir JUnit mitteilen, was Tests sind, dazu brauchen wir die Klasse `Test`."
   ]
  },
  {
   "cell_type": "code",
   "execution_count": 5,
   "metadata": {},
   "outputs": [],
   "source": [
    "import org.junit.Test;"
   ]
  },
  {
   "cell_type": "markdown",
   "metadata": {},
   "source": [
    "Um das Ergebnis in einem Test zu überprüfen benötigen wir noch JUnit Assertions."
   ]
  },
  {
   "cell_type": "code",
   "execution_count": 6,
   "metadata": {},
   "outputs": [],
   "source": [
    "import static org.junit.Assert.*;"
   ]
  },
  {
   "cell_type": "markdown",
   "metadata": {},
   "source": [
    "Nun implementieren wir unseren ersten Test von oben, d.h. den Aufruf mit 50 und 10. Wir definieren dazu eine neue Klasse `MaximumTest` (wie sie heisst ist uns überlassen). Ein Test ist eine Methode die mit der `@Test` Annotation versehen ist, und keine Parameter übernimmt."
   ]
  },
  {
   "cell_type": "code",
   "execution_count": 7,
   "metadata": {},
   "outputs": [],
   "source": [
    "class MaximumTest {\n",
    "\n",
    "  @Test\n",
    "  public void testMaximum() {\n",
    "    Maximum maximum = new Maximum();\n",
    "    int max = maximum.get(50, 10);\n",
    "    assertEquals(50, max);\n",
    "  }\n",
    "}"
   ]
  },
  {
   "cell_type": "markdown",
   "metadata": {},
   "source": [
    "Die Überprüfung des Ergebnisses passiert mit der Methode `assertEquals`, deren erster Parameter der erwartete Wert ist, und der zweite Wert ist der tatsächliche Wert der Ausführung."
   ]
  },
  {
   "cell_type": "markdown",
   "metadata": {},
   "source": [
    "Die Testausführung passiert normalerweise per Button in der IDE oder Kommando des Build-Tools (Maven/Gradle). Im Jupyter Notebook müssen wir das programmatisch machen:"
   ]
  },
  {
   "cell_type": "code",
   "execution_count": 8,
   "metadata": {},
   "outputs": [],
   "source": [
    "import org.junit.runner.JUnitCore;\n",
    "JUnitCore junit = new JUnitCore();\n",
    "junit.addListener(new  org.junit.internal.TextListener(System.out));"
   ]
  },
  {
   "cell_type": "code",
   "execution_count": 9,
   "metadata": {
    "scrolled": true
   },
   "outputs": [
    {
     "name": "stdout",
     "output_type": "stream",
     "text": [
      ".\n",
      "Time: 0,008\n",
      "\n",
      "OK (1 test)\n",
      "\n"
     ]
    },
    {
     "data": {
      "text/plain": [
       "org.junit.runner.Result@685cac0"
      ]
     },
     "execution_count": 9,
     "metadata": {},
     "output_type": "execute_result"
    }
   ],
   "source": [
    "junit.run(MaximumTest.class);"
   ]
  },
  {
   "cell_type": "markdown",
   "metadata": {},
   "source": [
    "Der Output sagt uns, dass ein Test ausgeführt wurde, und dieser hat keinen Fehler gefunden. Erweitern wir also unsere Testklasse mit einem weiteren Test."
   ]
  },
  {
   "cell_type": "code",
   "execution_count": 10,
   "metadata": {},
   "outputs": [],
   "source": [
    "class MaximumTest {\n",
    "\n",
    "  @Test\n",
    "  public void testMaximumFirst() {\n",
    "    Maximum maximum = new Maximum();\n",
    "    int max = maximum.get(50, 10);\n",
    "    assertEquals(50, max);\n",
    "  }\n",
    "  \n",
    "  @Test\n",
    "  public void testMaximumSecond() {\n",
    "    Maximum maximum = new Maximum();\n",
    "    int max = maximum.get(10, 50);\n",
    "    assertEquals(50, max);\n",
    "  }\n",
    "\n",
    "}"
   ]
  },
  {
   "cell_type": "markdown",
   "metadata": {},
   "source": [
    "Die beiden Testmethoden haben nun aussagekräftige Namen, mithilfe derer ein Entwickler erkennen kann, was das Ziel des Tests ist. Das ist sehr wichtig sobald ein Projekt mal viele Testklassen und Tests hat."
   ]
  },
  {
   "cell_type": "code",
   "execution_count": 11,
   "metadata": {
    "scrolled": false
   },
   "outputs": [
    {
     "name": "stdout",
     "output_type": "stream",
     "text": [
      ".E.\n",
      "Time: 0,003\n",
      "There was 1 failure:\n",
      "1) testMaximumSecond(REPL.$JShell$24B$MaximumTest)\n",
      "java.lang.AssertionError: expected:<50> but was:<10>\n",
      "\tat org.junit.Assert.fail(Assert.java:89)\n",
      "\tat org.junit.Assert.failNotEquals(Assert.java:835)\n",
      "\tat org.junit.Assert.assertEquals(Assert.java:647)\n",
      "\tat org.junit.Assert.assertEquals(Assert.java:633)\n",
      "\tat REPL.$JShell$24B$MaximumTest.testMaximumSecond($JShell$24B.java:28)\n",
      "\n",
      "FAILURES!!!\n",
      "Tests run: 2,  Failures: 1\n",
      "\n"
     ]
    },
    {
     "data": {
      "text/plain": [
       "org.junit.runner.Result@625a8576"
      ]
     },
     "execution_count": 11,
     "metadata": {},
     "output_type": "execute_result"
    }
   ],
   "source": [
    "junit.run(MaximumTest.class);"
   ]
  },
  {
   "cell_type": "markdown",
   "metadata": {},
   "source": [
    "JUnit berichtet nun, dass einer der beiden ausgeführten Tests fehlgeschlagen ist. Die Zeile mit dem `AssertionError` gibt uns auch einen Hinweis auf das Problem: Es wurde `50` erwartet, aber das Ergebnis war `10`."
   ]
  },
  {
   "cell_type": "markdown",
   "metadata": {},
   "source": [
    "Wenn wir mit der Fehlermeldung nicht zufrieden sind, können wir auch eine eigene als ersten Parameter der `assertEquals` einbauen."
   ]
  },
  {
   "cell_type": "code",
   "execution_count": 12,
   "metadata": {},
   "outputs": [],
   "source": [
    "class MaximumTest {\n",
    "\n",
    "  @Test\n",
    "  public void testMaximumFirst() {\n",
    "    Maximum maximum = new Maximum();\n",
    "    int max = maximum.get(50, 10);\n",
    "    assertEquals(50, max);\n",
    "  }\n",
    "  \n",
    "  @Test\n",
    "  public void testMaximumSecond() {\n",
    "    Maximum maximum = new Maximum();\n",
    "    int max = maximum.get(10, 50);\n",
    "    assertEquals(\"If y is larger than x, then y should be returned.\", 50, max);\n",
    "  }\n",
    "\n",
    "}"
   ]
  },
  {
   "cell_type": "code",
   "execution_count": 13,
   "metadata": {
    "scrolled": false
   },
   "outputs": [
    {
     "name": "stdout",
     "output_type": "stream",
     "text": [
      ".E.\n",
      "Time: 0,001\n",
      "There was 1 failure:\n",
      "1) testMaximumSecond(REPL.$JShell$24C$MaximumTest)\n",
      "java.lang.AssertionError: If y is larger than x, then y should be returned. expected:<50> but was:<10>\n",
      "\tat org.junit.Assert.fail(Assert.java:89)\n",
      "\tat org.junit.Assert.failNotEquals(Assert.java:835)\n",
      "\tat org.junit.Assert.assertEquals(Assert.java:647)\n",
      "\tat REPL.$JShell$24C$MaximumTest.testMaximumSecond($JShell$24C.java:28)\n",
      "\n",
      "FAILURES!!!\n",
      "Tests run: 2,  Failures: 1\n",
      "\n"
     ]
    },
    {
     "data": {
      "text/plain": [
       "org.junit.runner.Result@37f759d5"
      ]
     },
     "execution_count": 13,
     "metadata": {},
     "output_type": "execute_result"
    }
   ],
   "source": [
    "junit.run(MaximumTest.class);"
   ]
  },
  {
   "cell_type": "markdown",
   "metadata": {},
   "source": [
    "Nun beheben wir den Bug."
   ]
  },
  {
   "cell_type": "code",
   "execution_count": 14,
   "metadata": {},
   "outputs": [],
   "source": [
    "class Maximum {\n",
    "  public int get(int x, int y) {\n",
    "    if (x > y) {\n",
    "      return x;\n",
    "    } else {\n",
    "      return y; // Fixed\n",
    "    }\n",
    "  }\n",
    "}"
   ]
  },
  {
   "cell_type": "markdown",
   "metadata": {},
   "source": [
    "Ob unser Fix korrekt ist, können wir überprüfen indem wir unsere Tests nochmal ausführen."
   ]
  },
  {
   "cell_type": "code",
   "execution_count": 15,
   "metadata": {},
   "outputs": [
    {
     "name": "stdout",
     "output_type": "stream",
     "text": [
      "..\n",
      "Time: 0,001\n",
      "\n",
      "OK (2 tests)\n",
      "\n"
     ]
    },
    {
     "data": {
      "text/plain": [
       "org.junit.runner.Result@16d5699f"
      ]
     },
     "execution_count": 15,
     "metadata": {},
     "output_type": "execute_result"
    }
   ],
   "source": [
    "junit.run(MaximumTest.class);"
   ]
  },
  {
   "cell_type": "markdown",
   "metadata": {},
   "source": [
    "Beide unserer Tests erzeugen sich im ersten Schritt eine Instanz der Klasse `Maximum`. Wir können unsere Testklasse vereinfachen, indem wir dieses Objekt als _Test Fixture_ teilen."
   ]
  },
  {
   "cell_type": "code",
   "execution_count": 16,
   "metadata": {},
   "outputs": [],
   "source": [
    "class MaximumTest {\n",
    "\n",
    "  private Maximum maximum = new Maximum();\n",
    "\n",
    "  @Test\n",
    "  public void testMaximumFirst() {\n",
    "    int max = maximum.get(50, 10);\n",
    "    assertEquals(50, max);\n",
    "  }\n",
    "  \n",
    "  @Test\n",
    "  public void testMaximumSecond() {\n",
    "    int max = maximum.get(10, 50);\n",
    "    assertEquals(50, max);\n",
    "  }\n",
    "\n",
    "}"
   ]
  },
  {
   "cell_type": "code",
   "execution_count": 17,
   "metadata": {
    "scrolled": true
   },
   "outputs": [
    {
     "name": "stdout",
     "output_type": "stream",
     "text": [
      "..\n",
      "Time: 0,001\n",
      "\n",
      "OK (2 tests)\n",
      "\n"
     ]
    },
    {
     "data": {
      "text/plain": [
       "org.junit.runner.Result@7cb36662"
      ]
     },
     "execution_count": 17,
     "metadata": {},
     "output_type": "execute_result"
    }
   ],
   "source": [
    "junit.run(MaximumTest.class);"
   ]
  },
  {
   "cell_type": "markdown",
   "metadata": {},
   "source": [
    "Wenn wir wollen, dass unsere Test Fixture vor jedem Test auf besondere Art neu initialisiert wird, können wir das mithilfe der `@BeforeTest` Annotation machen."
   ]
  },
  {
   "cell_type": "code",
   "execution_count": 18,
   "metadata": {},
   "outputs": [],
   "source": [
    "import org.junit.Before;"
   ]
  },
  {
   "cell_type": "code",
   "execution_count": 19,
   "metadata": {},
   "outputs": [],
   "source": [
    "class MaximumTest {\n",
    "\n",
    "  private Maximum maximum;\n",
    "  \n",
    "  @Before\n",
    "  public void setUp() {\n",
    "    System.out.println(\"Erzeuge neues Maximum-Objekt\");\n",
    "    maximum = new Maximum();\n",
    "  }\n",
    "\n",
    "  @Test\n",
    "  public void testMaximumFirst() {\n",
    "    int max = maximum.get(50, 10);\n",
    "    assertEquals(50, max);\n",
    "  }\n",
    "  \n",
    "  @Test\n",
    "  public void testMaximumSecond() {\n",
    "    int max = maximum.get(10, 50);\n",
    "    assertEquals(50, max);\n",
    "  }\n",
    "\n",
    "}"
   ]
  },
  {
   "cell_type": "code",
   "execution_count": 20,
   "metadata": {
    "scrolled": true
   },
   "outputs": [
    {
     "name": "stdout",
     "output_type": "stream",
     "text": [
      ".Erzeuge neues Maximum-Objekt\n",
      ".Erzeuge neues Maximum-Objekt\n",
      "\n",
      "Time: 0,001\n",
      "\n",
      "OK (2 tests)\n",
      "\n"
     ]
    },
    {
     "data": {
      "text/plain": [
       "org.junit.runner.Result@62cf1e8d"
      ]
     },
     "execution_count": 20,
     "metadata": {},
     "output_type": "execute_result"
    }
   ],
   "source": [
    "junit.run(MaximumTest.class);"
   ]
  },
  {
   "cell_type": "markdown",
   "metadata": {},
   "source": [
    "Alle Methoden, die mit `@Before` annotiert sind, werden vor jeder einzelnen Testausführung ausgeführt. Analog dazu gibt es auch `@After`. Methoden, die mit `@BeforeClass` (`@AfterClass`) annotiert sind werden einmal zu Beginn (Ende) der gesamten Ausführung aller Tests ausgeführt. In JUnit 5 sind diese Annotationen umbenannt worden zu `@BeforeEach`/`@AfterEach` und `@BeforeAll`/`@AfterAll`."
   ]
  },
  {
   "cell_type": "markdown",
   "metadata": {},
   "source": [
    "Betrachten wir nun eine Variante unserer `Maximum` Klasse, die statt `int`s mit `double`s arbeitet."
   ]
  },
  {
   "cell_type": "code",
   "execution_count": 21,
   "metadata": {},
   "outputs": [],
   "source": [
    "class Maximum {\n",
    "  public double get(double x, double y) {\n",
    "    if (x > y) {\n",
    "      return x;\n",
    "    } else {\n",
    "      return y;\n",
    "    }\n",
    "  }\n",
    "}"
   ]
  },
  {
   "cell_type": "markdown",
   "metadata": {},
   "source": [
    "Wir aktualisieren auch unsere Testklasse um mit der geänderten Signatur umzugehen."
   ]
  },
  {
   "cell_type": "code",
   "execution_count": 22,
   "metadata": {},
   "outputs": [],
   "source": [
    "class MaximumTest {\n",
    "\n",
    "  private Maximum maximum = new Maximum();\n",
    "\n",
    "  @Test\n",
    "  public void testMaximumFirst() {\n",
    "    double max = maximum.get(50.0, 10.0);\n",
    "    assertEquals(50.0, max);\n",
    "  }\n",
    "  \n",
    "  @Test\n",
    "  public void testMaximumSecond() {\n",
    "    double max = maximum.get(10.0, 50.0);\n",
    "    assertEquals(50, max);\n",
    "  }\n",
    "\n",
    "}"
   ]
  },
  {
   "cell_type": "markdown",
   "metadata": {},
   "source": [
    "Dann betrachten wir, was bei der Ausführung passiert."
   ]
  },
  {
   "cell_type": "code",
   "execution_count": 23,
   "metadata": {
    "scrolled": true
   },
   "outputs": [
    {
     "name": "stdout",
     "output_type": "stream",
     "text": [
      ".E.E\n",
      "Time: 0,002\n",
      "There were 2 failures:\n",
      "1) testMaximumSecond(REPL.$JShell$24H$MaximumTest)\n",
      "java.lang.AssertionError: Use assertEquals(expected, actual, delta) to compare floating-point numbers\n",
      "\tat org.junit.Assert.fail(Assert.java:89)\n",
      "\tat org.junit.Assert.assertEquals(Assert.java:669)\n",
      "\tat org.junit.Assert.assertEquals(Assert.java:658)\n",
      "\tat REPL.$JShell$24H$MaximumTest.testMaximumSecond($JShell$24H.java:28)\n",
      "2) testMaximumFirst(REPL.$JShell$24H$MaximumTest)\n",
      "java.lang.AssertionError: Use assertEquals(expected, actual, delta) to compare floating-point numbers\n",
      "\tat org.junit.Assert.fail(Assert.java:89)\n",
      "\tat org.junit.Assert.assertEquals(Assert.java:669)\n",
      "\tat org.junit.Assert.assertEquals(Assert.java:658)\n",
      "\tat REPL.$JShell$24H$MaximumTest.testMaximumFirst($JShell$24H.java:22)\n",
      "\n",
      "FAILURES!!!\n",
      "Tests run: 2,  Failures: 2\n",
      "\n"
     ]
    },
    {
     "data": {
      "text/plain": [
       "org.junit.runner.Result@4e36a578"
      ]
     },
     "execution_count": 23,
     "metadata": {},
     "output_type": "execute_result"
    }
   ],
   "source": [
    "junit.run(MaximumTest.class);"
   ]
  },
  {
   "cell_type": "markdown",
   "metadata": {},
   "source": [
    "JUnit schimpft darüber, dass wir Fliesskommazahlen mit `assertEquals` vergleichen. Der Grund ist, dass Fliesskommaberechnungen aufgrund von Rundungsfehlern so gut wie nie exakt gleich sind. JUnit bietet für den Vergleich von Fliesskommazahlen eigene Assertions, bei denen man ein Epsilon für die Genauigkeit des Vergleichs angeben kann."
   ]
  },
  {
   "cell_type": "code",
   "execution_count": 24,
   "metadata": {},
   "outputs": [],
   "source": [
    "class MaximumTest {\n",
    "\n",
    "  private Maximum maximum = new Maximum();\n",
    "\n",
    "  @Test\n",
    "  public void testMaximumFirst() {\n",
    "    double max = maximum.get(50.0, 10.0);\n",
    "    assertEquals(50.0, max, 0.001);\n",
    "  }\n",
    "  \n",
    "  @Test\n",
    "  public void testMaximumSecond() {\n",
    "    double max = maximum.get(10.0, 50.0);\n",
    "    assertEquals(50, max, 0.001);\n",
    "  }\n",
    "\n",
    "}"
   ]
  },
  {
   "cell_type": "code",
   "execution_count": 25,
   "metadata": {
    "scrolled": true
   },
   "outputs": [
    {
     "name": "stdout",
     "output_type": "stream",
     "text": [
      "..\n",
      "Time: 0,001\n",
      "\n",
      "OK (2 tests)\n",
      "\n"
     ]
    },
    {
     "data": {
      "text/plain": [
       "org.junit.runner.Result@1867b4f5"
      ]
     },
     "execution_count": 25,
     "metadata": {},
     "output_type": "execute_result"
    }
   ],
   "source": [
    "junit.run(MaximumTest.class);"
   ]
  },
  {
   "cell_type": "markdown",
   "metadata": {},
   "source": [
    "Als letzter Hinweis sei noch darauf hingewiesen, dass JUnit eine Vielzahl verschiedener Assertions bietet. Beispielsweise kann man den Wahrheitswert beliebiger Bedingungen mit `assertTrue` und `assertFalse` überprüfen. "
   ]
  },
  {
   "cell_type": "code",
   "execution_count": 26,
   "metadata": {},
   "outputs": [],
   "source": [
    "class MaximumTest {\n",
    "\n",
    "  @Test\n",
    "  public void testMaximumSecond() {\n",
    "    Maximum maximum = new Maximum();\n",
    "    double max = maximum.get(10.0, 50.0);\n",
    "    assertTrue(max == 50.0);\n",
    "    assertFalse(max == 10.0);\n",
    "  }\n",
    "\n",
    "}"
   ]
  },
  {
   "cell_type": "code",
   "execution_count": 27,
   "metadata": {
    "scrolled": true
   },
   "outputs": [
    {
     "name": "stdout",
     "output_type": "stream",
     "text": [
      ".\n",
      "Time: 0\n",
      "\n",
      "OK (1 test)\n",
      "\n"
     ]
    },
    {
     "data": {
      "text/plain": [
       "org.junit.runner.Result@72b51446"
      ]
     },
     "execution_count": 27,
     "metadata": {},
     "output_type": "execute_result"
    }
   ],
   "source": [
    "junit.run(MaximumTest.class);"
   ]
  },
  {
   "cell_type": "markdown",
   "metadata": {},
   "source": [
    "Eine Übersicht über vorhandene Assertions gibt es in der [JUnit 4 Dokumentation](https://junit.org/junit4/javadoc/4.8/org/junit/Assert.html) bzw der [JUnit 5 Dokumentation](https://junit.org/junit5/docs/5.8.2/api/org.junit.jupiter.api/org/junit/jupiter/api/Assertions.html)."
   ]
  },
  {
   "cell_type": "markdown",
   "metadata": {},
   "source": [
    "## Test-Driven Development"
   ]
  },
  {
   "cell_type": "markdown",
   "metadata": {},
   "source": [
    "Automatisierte Tests haben zwei konträre Anwendungsszenarios: Man erstellt sich Tests auf der Suche nach Fehlern, und behält diese Tests dann um sicherzustellen, dass sich dieser Fehler nicht wieder neu einschleicht; diesen Anwendungsfall nennt man _Regression Testing_. JUnit Tests dienen aber auch dazu beispielhaft zu spezifizieren, was ein Programm können soll. Für diesen Anwendungsfall erstellt man _zuerst_ Tests, und implementiert dann das durch die Tests beschriebene Verhalten. Dies nennt man _Test Driven Development_ (TDD)."
   ]
  },
  {
   "cell_type": "markdown",
   "metadata": {},
   "source": [
    "Das Vorlesungsbeispiel zu TDD hat als Ziel die Erstellung einer Klasse, die überprüft ob zwei Daten übereinstimmen. Es gibt hierbei 2 Features:\n",
    "1. Feature: Exakte Übereinstimmung\n",
    "2. Feature: Wildcard-Matching auf Jahr, Monat, Tag"
   ]
  },
  {
   "cell_type": "markdown",
   "metadata": {},
   "source": [
    "### Feature 1: Matching"
   ]
  },
  {
   "cell_type": "markdown",
   "metadata": {},
   "source": [
    "Wir beginnen mit einem Red-Bar Pattern, welches die API unserer Klasse und einen einfachen Anwendungsfall angibt."
   ]
  },
  {
   "cell_type": "code",
   "execution_count": 28,
   "metadata": {},
   "outputs": [],
   "source": [
    "import java.time.LocalDate;"
   ]
  },
  {
   "cell_type": "code",
   "execution_count": 29,
   "metadata": {},
   "outputs": [],
   "source": [
    "class DatePatternTest {\n",
    "  @Test\n",
    "  public void testMatches() {\n",
    "      DatePattern pattern = new DatePattern(2022, 5, 9);\n",
    "      LocalDate date = LocalDate.of(2022, 5, 9);\n",
    "      assertTrue(pattern.matches(date));\n",
    "  }\n",
    "}"
   ]
  },
  {
   "cell_type": "code",
   "execution_count": 30,
   "metadata": {},
   "outputs": [
    {
     "name": "stdout",
     "output_type": "stream",
     "text": [
      ".E\n",
      "Time: 0,001\n",
      "There was 1 failure:\n",
      "1) testMatches(REPL.$JShell$39$DatePatternTest)\n",
      "jdk.jshell.spi.SPIResolutionException: resolution exception\n",
      "\tat REPL.$JShell$39$DatePatternTest.<init>($JShell$39.java:21)\n",
      "\n",
      "FAILURES!!!\n",
      "Tests run: 1,  Failures: 1\n",
      "\n"
     ]
    },
    {
     "data": {
      "text/plain": [
       "org.junit.runner.Result@43559af2"
      ]
     },
     "execution_count": 30,
     "metadata": {},
     "output_type": "execute_result"
    }
   ],
   "source": [
    "junit.run(DatePatternTest.class);"
   ]
  },
  {
   "cell_type": "markdown",
   "metadata": {},
   "source": [
    "Wenn wir den Test das erste Mal ausführen, ist das initiale Problem, dass die Klasse `DatePattern` noch überhaupt nicht existiert. Dies lässt sich aber leicht beheben. Die initiale Implementierung soll dabei aber nur das minimale Verhalten haben, um den Test zu bestehen."
   ]
  },
  {
   "cell_type": "code",
   "execution_count": 31,
   "metadata": {},
   "outputs": [],
   "source": [
    "class DatePattern {\n",
    "  public DatePattern(int year, int month, int day) {\n",
    "  \n",
    "  }\n",
    "  \n",
    "  public boolean matches(LocalDate otherDate) {\n",
    "    return true;\n",
    "  }\n",
    "}"
   ]
  },
  {
   "cell_type": "code",
   "execution_count": 32,
   "metadata": {
    "scrolled": true
   },
   "outputs": [
    {
     "name": "stdout",
     "output_type": "stream",
     "text": [
      ".\n",
      "Time: 0,001\n",
      "\n",
      "OK (1 test)\n",
      "\n"
     ]
    },
    {
     "data": {
      "text/plain": [
       "org.junit.runner.Result@70bd3a36"
      ]
     },
     "execution_count": 32,
     "metadata": {},
     "output_type": "execute_result"
    }
   ],
   "source": [
    "junit.run(DatePatternTest.class);"
   ]
  },
  {
   "cell_type": "markdown",
   "metadata": {},
   "source": [
    "Nun verfeinern wir Schrittweise unser Feature mit neuen Szenarien, die noch nicht abgedeckt sind. Beispielsweise sollte der Tag von der `matches` Methode überprüft werden, und `false` zurückgeben, wenn hier keine Übereinstimmung herrscht. Beispielsweise so:"
   ]
  },
  {
   "cell_type": "code",
   "execution_count": 33,
   "metadata": {},
   "outputs": [],
   "source": [
    "class DatePatternTest {\n",
    "  @Test\n",
    "  public void testMatches() {\n",
    "      DatePattern pattern = new DatePattern(2022, 5, 9);\n",
    "      LocalDate date = LocalDate.of(2022, 5, 9);\n",
    "      assertTrue(pattern.matches(date));\n",
    "  }\n",
    "  \n",
    "  @Test\n",
    "  public void testMatchesOtherDay() {\n",
    "      DatePattern pattern = new DatePattern(2022, 5, 9);\n",
    "      LocalDate date = LocalDate.of(2022, 5, 8);\n",
    "      assertFalse(pattern.matches(date));\n",
    "  }\n",
    "}"
   ]
  },
  {
   "cell_type": "code",
   "execution_count": 34,
   "metadata": {},
   "outputs": [
    {
     "name": "stdout",
     "output_type": "stream",
     "text": [
      ".E.\n",
      "Time: 0,001\n",
      "There was 1 failure:\n",
      "1) testMatchesOtherDay(REPL.$JShell$39C$DatePatternTest)\n",
      "java.lang.AssertionError\n",
      "\tat org.junit.Assert.fail(Assert.java:87)\n",
      "\tat org.junit.Assert.assertTrue(Assert.java:42)\n",
      "\tat org.junit.Assert.assertFalse(Assert.java:65)\n",
      "\tat org.junit.Assert.assertFalse(Assert.java:75)\n",
      "\tat REPL.$JShell$39C$DatePatternTest.testMatchesOtherDay($JShell$39C.java:27)\n",
      "\n",
      "FAILURES!!!\n",
      "Tests run: 2,  Failures: 1\n",
      "\n"
     ]
    },
    {
     "data": {
      "text/plain": [
       "org.junit.runner.Result@33e8edde"
      ]
     },
     "execution_count": 34,
     "metadata": {},
     "output_type": "execute_result"
    }
   ],
   "source": [
    "junit.run(DatePatternTest.class);"
   ]
  },
  {
   "cell_type": "markdown",
   "metadata": {},
   "source": [
    "Nun verfeinern wir die Implementierung von `DatePattern` um auch diesen Test zu bestehen."
   ]
  },
  {
   "cell_type": "code",
   "execution_count": 35,
   "metadata": {},
   "outputs": [],
   "source": [
    "class DatePattern {\n",
    "  private int day;\n",
    "  \n",
    "  public DatePattern(int year, int month, int day) {\n",
    "      this.day = day;\n",
    "  }\n",
    "  \n",
    "  public boolean matches(LocalDate otherDate) {\n",
    "    return otherDate.getDayOfMonth() == day;\n",
    "  }\n",
    "}"
   ]
  },
  {
   "cell_type": "code",
   "execution_count": 36,
   "metadata": {},
   "outputs": [
    {
     "name": "stdout",
     "output_type": "stream",
     "text": [
      "..\n",
      "Time: 0,001\n",
      "\n",
      "OK (2 tests)\n",
      "\n"
     ]
    },
    {
     "data": {
      "text/plain": [
       "org.junit.runner.Result@50c8f7c0"
      ]
     },
     "execution_count": 36,
     "metadata": {},
     "output_type": "execute_result"
    }
   ],
   "source": [
    "junit.run(DatePatternTest.class);"
   ]
  },
  {
   "cell_type": "markdown",
   "metadata": {},
   "source": [
    "Wir können ähnliche Tests auch zur Überprüfung des Monats und des Jahres hinzufügen."
   ]
  },
  {
   "cell_type": "code",
   "execution_count": 37,
   "metadata": {},
   "outputs": [],
   "source": [
    "class DatePatternTest {\n",
    "  @Test\n",
    "  public void testMatches() {\n",
    "      DatePattern pattern = new DatePattern(2022, 5, 9);\n",
    "      LocalDate date = LocalDate.of(2022, 5, 9);\n",
    "      assertTrue(pattern.matches(date));\n",
    "  }\n",
    "  \n",
    "  @Test\n",
    "  public void testMatchesOtherDay() {\n",
    "      DatePattern pattern = new DatePattern(2022, 5, 9);\n",
    "      LocalDate date = LocalDate.of(2022, 5, 8);\n",
    "      assertFalse(pattern.matches(date));\n",
    "  }\n",
    "  \n",
    "  @Test\n",
    "  public void testMatchesOtherMonth() {\n",
    "      DatePattern pattern = new DatePattern(2022, 5, 9);\n",
    "      LocalDate date = LocalDate.of(2022, 4, 9);\n",
    "      assertFalse(pattern.matches(date));\n",
    "  }\n",
    "\n",
    "  @Test\n",
    "  public void testMatchesOtherYear() {\n",
    "      DatePattern pattern = new DatePattern(2022, 5, 9);\n",
    "      LocalDate date = LocalDate.of(2021, 5, 9);\n",
    "      assertFalse(pattern.matches(date));\n",
    "  }\n",
    "}"
   ]
  },
  {
   "cell_type": "code",
   "execution_count": 38,
   "metadata": {
    "scrolled": true
   },
   "outputs": [
    {
     "name": "stdout",
     "output_type": "stream",
     "text": [
      ".E.E..\n",
      "Time: 0,002\n",
      "There were 2 failures:\n",
      "1) testMatchesOtherMonth(REPL.$JShell$39E$DatePatternTest)\n",
      "java.lang.AssertionError\n",
      "\tat org.junit.Assert.fail(Assert.java:87)\n",
      "\tat org.junit.Assert.assertTrue(Assert.java:42)\n",
      "\tat org.junit.Assert.assertFalse(Assert.java:65)\n",
      "\tat org.junit.Assert.assertFalse(Assert.java:75)\n",
      "\tat REPL.$JShell$39E$DatePatternTest.testMatchesOtherMonth($JShell$39E.java:34)\n",
      "2) testMatchesOtherYear(REPL.$JShell$39E$DatePatternTest)\n",
      "java.lang.AssertionError\n",
      "\tat org.junit.Assert.fail(Assert.java:87)\n",
      "\tat org.junit.Assert.assertTrue(Assert.java:42)\n",
      "\tat org.junit.Assert.assertFalse(Assert.java:65)\n",
      "\tat org.junit.Assert.assertFalse(Assert.java:75)\n",
      "\tat REPL.$JShell$39E$DatePatternTest.testMatchesOtherYear($JShell$39E.java:41)\n",
      "\n",
      "FAILURES!!!\n",
      "Tests run: 4,  Failures: 2\n",
      "\n"
     ]
    },
    {
     "data": {
      "text/plain": [
       "org.junit.runner.Result@76089364"
      ]
     },
     "execution_count": 38,
     "metadata": {},
     "output_type": "execute_result"
    }
   ],
   "source": [
    "junit.run(DatePatternTest.class);"
   ]
  },
  {
   "cell_type": "markdown",
   "metadata": {},
   "source": [
    "...und wiederum einfach implementieren."
   ]
  },
  {
   "cell_type": "code",
   "execution_count": 39,
   "metadata": {},
   "outputs": [],
   "source": [
    "class DatePattern {\n",
    "  private int year;\n",
    "  private int month;\n",
    "  private int day;\n",
    "  \n",
    "  public DatePattern(int year, int month, int day) {\n",
    "      this.year = year;\n",
    "      this.month = month;\n",
    "      this.day = day;\n",
    "  }\n",
    "  \n",
    "  public boolean matches(LocalDate otherDate) {\n",
    "    return otherDate.getYear() == year &&\n",
    "           otherDate.getMonthValue() == month &&\n",
    "           otherDate.getDayOfMonth() == day;\n",
    "  }\n",
    "}"
   ]
  },
  {
   "cell_type": "code",
   "execution_count": 40,
   "metadata": {
    "scrolled": true
   },
   "outputs": [
    {
     "name": "stdout",
     "output_type": "stream",
     "text": [
      "....\n",
      "Time: 0,002\n",
      "\n",
      "OK (4 tests)\n",
      "\n"
     ]
    },
    {
     "data": {
      "text/plain": [
       "org.junit.runner.Result@2601c47e"
      ]
     },
     "execution_count": 40,
     "metadata": {},
     "output_type": "execute_result"
    }
   ],
   "source": [
    "junit.run(DatePatternTest.class);"
   ]
  },
  {
   "cell_type": "markdown",
   "metadata": {},
   "source": [
    "Wenn wir keine weiteren Tests mehr für das aktuelle Feature finden, können wir den Code noch verbessern, und dann mit dem nächsten Feature weitermachen. Nachdem unser Code so einfach ist, gehen wir direkt zum nächsten Feature über."
   ]
  },
  {
   "cell_type": "markdown",
   "metadata": {},
   "source": [
    "### Feature 2: Wildcards"
   ]
  },
  {
   "cell_type": "markdown",
   "metadata": {},
   "source": [
    "Wir definieren mit unseren Tests, dass eine `0` für die Jahreszahl dazu führen soll, dass Daten mit beliebigen Jahreszahlen gematched werden sollen."
   ]
  },
  {
   "cell_type": "code",
   "execution_count": 41,
   "metadata": {},
   "outputs": [],
   "source": [
    "class DatePatternTest {\n",
    "  @Test\n",
    "  public void testMatches() {\n",
    "      DatePattern pattern = new DatePattern(2022, 5, 9);\n",
    "      LocalDate date = LocalDate.of(2022, 5, 9);\n",
    "      assertTrue(pattern.matches(date));\n",
    "  }\n",
    "  \n",
    "  @Test\n",
    "  public void testMatchesOtherDay() {\n",
    "      DatePattern pattern = new DatePattern(2022, 5, 9);\n",
    "      LocalDate date = LocalDate.of(2022, 5, 8);\n",
    "      assertFalse(pattern.matches(date));\n",
    "  }\n",
    "  \n",
    "  @Test\n",
    "  public void testMatchesOtherMonth() {\n",
    "      DatePattern pattern = new DatePattern(2022, 5, 9);\n",
    "      LocalDate date = LocalDate.of(2022, 4, 9);\n",
    "      assertFalse(pattern.matches(date));\n",
    "  }\n",
    "\n",
    "  @Test\n",
    "  public void testMatchesOtherYear() {\n",
    "      DatePattern pattern = new DatePattern(2022, 5, 9);\n",
    "      LocalDate date = LocalDate.of(2021, 5, 9);\n",
    "      assertFalse(pattern.matches(date));\n",
    "  }\n",
    "  \n",
    "  @Test\n",
    "  public void testWildcardYear() {\n",
    "      DatePattern pattern = new DatePattern(0, 5, 9);\n",
    "      assertTrue(pattern.matches(LocalDate.of(2022, 5, 9)));\n",
    "      assertTrue(pattern.matches(LocalDate.of(1234, 5, 9)));\n",
    "  }\n",
    "}"
   ]
  },
  {
   "cell_type": "code",
   "execution_count": 42,
   "metadata": {
    "scrolled": true
   },
   "outputs": [
    {
     "name": "stdout",
     "output_type": "stream",
     "text": [
      "..E...\n",
      "Time: 0,002\n",
      "There was 1 failure:\n",
      "1) testWildcardYear(REPL.$JShell$39G$DatePatternTest)\n",
      "java.lang.AssertionError\n",
      "\tat org.junit.Assert.fail(Assert.java:87)\n",
      "\tat org.junit.Assert.assertTrue(Assert.java:42)\n",
      "\tat org.junit.Assert.assertTrue(Assert.java:53)\n",
      "\tat REPL.$JShell$39G$DatePatternTest.testWildcardYear($JShell$39G.java:47)\n",
      "\n",
      "FAILURES!!!\n",
      "Tests run: 5,  Failures: 1\n",
      "\n"
     ]
    },
    {
     "data": {
      "text/plain": [
       "org.junit.runner.Result@210de5ab"
      ]
     },
     "execution_count": 42,
     "metadata": {},
     "output_type": "execute_result"
    }
   ],
   "source": [
    "junit.run(DatePatternTest.class);"
   ]
  },
  {
   "cell_type": "markdown",
   "metadata": {},
   "source": [
    "Die Implementierung wird wieder verfeinert um diesen Fall abzudecken."
   ]
  },
  {
   "cell_type": "code",
   "execution_count": 43,
   "metadata": {},
   "outputs": [],
   "source": [
    "class DatePattern {\n",
    "  private int year;\n",
    "  private int month;\n",
    "  private int day;\n",
    "  \n",
    "  public DatePattern(int year, int month, int day) {\n",
    "      this.year = year;\n",
    "      this.month = month;\n",
    "      this.day = day;\n",
    "  }\n",
    "  \n",
    "  public boolean matches(LocalDate otherDate) {\n",
    "    return (year == 0 || otherDate.getYear() == year) &&\n",
    "           otherDate.getMonthValue() == month &&\n",
    "           otherDate.getDayOfMonth() == day;\n",
    "  }\n",
    "}"
   ]
  },
  {
   "cell_type": "code",
   "execution_count": 44,
   "metadata": {
    "scrolled": false
   },
   "outputs": [
    {
     "name": "stdout",
     "output_type": "stream",
     "text": [
      ".....\n",
      "Time: 0,002\n",
      "\n",
      "OK (5 tests)\n",
      "\n"
     ]
    },
    {
     "data": {
      "text/plain": [
       "org.junit.runner.Result@121d7724"
      ]
     },
     "execution_count": 44,
     "metadata": {},
     "output_type": "execute_result"
    }
   ],
   "source": [
    "junit.run(DatePatternTest.class);"
   ]
  },
  {
   "cell_type": "markdown",
   "metadata": {},
   "source": [
    "Wir brauchen ähnliche Tests auch für Monat und Tag."
   ]
  },
  {
   "cell_type": "code",
   "execution_count": 45,
   "metadata": {},
   "outputs": [],
   "source": [
    "class DatePatternTest {\n",
    "  @Test\n",
    "  public void testMatches() {\n",
    "      DatePattern pattern = new DatePattern(2022, 5, 9);\n",
    "      LocalDate date = LocalDate.of(2022, 5, 9);\n",
    "      assertTrue(pattern.matches(date));\n",
    "  }\n",
    "  \n",
    "  @Test\n",
    "  public void testMatchesOtherDay() {\n",
    "      DatePattern pattern = new DatePattern(2022, 5, 9);\n",
    "      LocalDate date = LocalDate.of(2022, 5, 8);\n",
    "      assertFalse(pattern.matches(date));\n",
    "  }\n",
    "  \n",
    "  @Test\n",
    "  public void testMatchesOtherMonth() {\n",
    "      DatePattern pattern = new DatePattern(2022, 5, 9);\n",
    "      LocalDate date = LocalDate.of(2022, 4, 9);\n",
    "      assertFalse(pattern.matches(date));\n",
    "  }\n",
    "\n",
    "  @Test\n",
    "  public void testMatchesOtherYear() {\n",
    "      DatePattern pattern = new DatePattern(2022, 5, 9);\n",
    "      LocalDate date = LocalDate.of(2021, 5, 9);\n",
    "      assertFalse(pattern.matches(date));\n",
    "  }\n",
    "  \n",
    "  @Test\n",
    "  public void testWildcardYear() {\n",
    "      DatePattern pattern = new DatePattern(0, 5, 9);\n",
    "      assertTrue(pattern.matches(LocalDate.of(2022, 5, 9)));\n",
    "      assertTrue(pattern.matches(LocalDate.of(1234, 5, 9)));\n",
    "  }\n",
    "  \n",
    "  @Test\n",
    "  public void testWildcardMonth() {\n",
    "      DatePattern pattern = new DatePattern(2022, 0, 9);\n",
    "      assertTrue(pattern.matches(LocalDate.of(2022, 4, 9)));\n",
    "      assertTrue(pattern.matches(LocalDate.of(2022, 7, 9)));\n",
    "  }\n",
    "  \n",
    "  @Test\n",
    "  public void testWildcardDay() {\n",
    "      DatePattern pattern = new DatePattern(2022, 5, 0);\n",
    "      assertTrue(pattern.matches(LocalDate.of(2022, 5, 6)));\n",
    "      assertTrue(pattern.matches(LocalDate.of(2022, 5, 10)));\n",
    "  }\n",
    "}"
   ]
  },
  {
   "cell_type": "code",
   "execution_count": 46,
   "metadata": {},
   "outputs": [
    {
     "name": "stdout",
     "output_type": "stream",
     "text": [
      ".E..E....\n",
      "Time: 0,003\n",
      "There were 2 failures:\n",
      "1) testWildcardDay(REPL.$JShell$39I$DatePatternTest)\n",
      "java.lang.AssertionError\n",
      "\tat org.junit.Assert.fail(Assert.java:87)\n",
      "\tat org.junit.Assert.assertTrue(Assert.java:42)\n",
      "\tat org.junit.Assert.assertTrue(Assert.java:53)\n",
      "\tat REPL.$JShell$39I$DatePatternTest.testWildcardDay($JShell$39I.java:61)\n",
      "2) testWildcardMonth(REPL.$JShell$39I$DatePatternTest)\n",
      "java.lang.AssertionError\n",
      "\tat org.junit.Assert.fail(Assert.java:87)\n",
      "\tat org.junit.Assert.assertTrue(Assert.java:42)\n",
      "\tat org.junit.Assert.assertTrue(Assert.java:53)\n",
      "\tat REPL.$JShell$39I$DatePatternTest.testWildcardMonth($JShell$39I.java:54)\n",
      "\n",
      "FAILURES!!!\n",
      "Tests run: 7,  Failures: 2\n",
      "\n"
     ]
    },
    {
     "data": {
      "text/plain": [
       "org.junit.runner.Result@3d2d06b7"
      ]
     },
     "execution_count": 46,
     "metadata": {},
     "output_type": "execute_result"
    }
   ],
   "source": [
    "junit.run(DatePatternTest.class);"
   ]
  },
  {
   "cell_type": "markdown",
   "metadata": {},
   "source": [
    "...und entsprechend auch eine verfeinerte Implementierung, die diese beiden Tests erfüllt."
   ]
  },
  {
   "cell_type": "code",
   "execution_count": 47,
   "metadata": {},
   "outputs": [],
   "source": [
    "class DatePattern {\n",
    "  private int year;\n",
    "  private int month;\n",
    "  private int day;\n",
    "  \n",
    "  public DatePattern(int year, int month, int day) {\n",
    "      this.year = year;\n",
    "      this.month = month;\n",
    "      this.day = day;\n",
    "  }\n",
    "  \n",
    "  public boolean matches(LocalDate otherDate) {\n",
    "    return (year == 0 || otherDate.getYear() == year) &&\n",
    "           (month == 0 || otherDate.getMonthValue() == month) &&\n",
    "           (day == 0 || otherDate.getDayOfMonth() == day);\n",
    "  }\n",
    "}"
   ]
  },
  {
   "cell_type": "code",
   "execution_count": 48,
   "metadata": {
    "scrolled": true
   },
   "outputs": [
    {
     "name": "stdout",
     "output_type": "stream",
     "text": [
      ".......\n",
      "Time: 0,003\n",
      "\n",
      "OK (7 tests)\n",
      "\n"
     ]
    },
    {
     "data": {
      "text/plain": [
       "org.junit.runner.Result@3c93bc1f"
      ]
     },
     "execution_count": 48,
     "metadata": {},
     "output_type": "execute_result"
    }
   ],
   "source": [
    "junit.run(DatePatternTest.class);"
   ]
  },
  {
   "cell_type": "markdown",
   "metadata": {},
   "source": [
    "Damit ist auch das zweite Feature fertig, aber besonders schön ist der Code nicht geworden. Der nächste Schritt ist nun, den Code zu verbessern ohne dabei die Funktionalität zu verändern -- was wir mithilfe der Tests jederzeit überprüfen können. Das _Refactoring_ ist etwas, mit dem wir uns in der kommenden Vorlesung genauer beschäftigen werden."
   ]
  },
  {
   "cell_type": "code",
   "execution_count": 49,
   "metadata": {},
   "outputs": [],
   "source": [
    "class DatePattern {\n",
    "  private int year;\n",
    "  private int month;\n",
    "  private int day;\n",
    "  \n",
    "  public DatePattern(int year, int month, int day) {\n",
    "      this.year = year;\n",
    "      this.month = month;\n",
    "      this.day = day;\n",
    "  }\n",
    "  \n",
    "  private boolean matchesYear(LocalDate otherDate) {\n",
    "    return year == 0 || otherDate.getYear() == year;\n",
    "  }\n",
    "  \n",
    "  private boolean matchesMonth(LocalDate otherDate) {\n",
    "    return month == 0 || otherDate.getMonthValue() == month;\n",
    "  }\n",
    "  \n",
    "  private boolean matchesDay(LocalDate otherDate) {\n",
    "    return day == 0 || otherDate.getDayOfMonth() == day;\n",
    "  }\n",
    "  \n",
    "  public boolean matches(LocalDate otherDate) {\n",
    "    return matchesYear(otherDate) && matchesMonth(otherDate) && matchesDay(otherDate);\n",
    "  }\n",
    "}"
   ]
  },
  {
   "cell_type": "code",
   "execution_count": 50,
   "metadata": {},
   "outputs": [
    {
     "name": "stdout",
     "output_type": "stream",
     "text": [
      ".......\n",
      "Time: 0,002\n",
      "\n",
      "OK (7 tests)\n",
      "\n"
     ]
    },
    {
     "data": {
      "text/plain": [
       "org.junit.runner.Result@5a0bc979"
      ]
     },
     "execution_count": 50,
     "metadata": {},
     "output_type": "execute_result"
    }
   ],
   "source": [
    "junit.run(DatePatternTest.class);"
   ]
  },
  {
   "cell_type": "markdown",
   "metadata": {},
   "source": [
    "## Code Coverage"
   ]
  },
  {
   "cell_type": "markdown",
   "metadata": {},
   "source": [
    "Testüberdeckung (Code Coverage) ist ein hilfreiches Mittel um abzuschätzen, wie gut der Code getestet ist, und um Schwachstellen in den Tests zu erkennen. In der Vorlesung haben Code Coverage anhand des Kontrollflussgraphen theoretisch definiert, in der Praxis implementieren die meisten IDEs und Build-Werkzeuge Approximationen dieser Kriterien. Beispielsweise verwendet Eclipse die Coverageanalyse-Bibliothek Jacoco. Leider eignet sich Jacoco nur begrenzt zur Demonstration in Jupyter. Wir zeigen kurz das Prinzip, aber für eine bessere Demonstration am besten einfach wie in der Vorlesung demonstriert Tests direkt in Eclipse oder IntelliJ mit Coverage ausführen. Angenommen wir testen weiterhin die `Maximum` Klasse."
   ]
  },
  {
   "cell_type": "code",
   "execution_count": 51,
   "metadata": {},
   "outputs": [],
   "source": [
    "class Maximum {\n",
    "  public int get(int x, int y) {\n",
    "    if (x > y) {\n",
    "      return x;\n",
    "    } else {\n",
    "      return y;\n",
    "    }\n",
    "  }\n",
    "}"
   ]
  },
  {
   "cell_type": "markdown",
   "metadata": {},
   "source": [
    "Um Code Coverage zu messen, muss Jacoco den Code mit zusätzlichen Instruktionen instrumentieren, welche protokollieren welche Zeilen ausgeführt wurden. In der IDE ist das ein einfacher Klick, in Jupyter bedarf es leider etwas Boilerplate Code, den wir aber getrost ignorieren können."
   ]
  },
  {
   "cell_type": "code",
   "execution_count": 52,
   "metadata": {},
   "outputs": [],
   "source": [
    "%maven org.jacoco:org.jacoco.core:0.8.8"
   ]
  },
  {
   "cell_type": "code",
   "execution_count": 53,
   "metadata": {},
   "outputs": [],
   "source": [
    "// Imports für die Analyse in Jupyter\n",
    "import org.jacoco.core.instr.Instrumenter;\n",
    "import org.jacoco.core.runtime.IRuntime;\n",
    "import org.jacoco.core.runtime.LoggerRuntime;\n",
    "import org.jacoco.core.runtime.RuntimeData;\n",
    "import java.lang.reflect.Method;\n",
    "import org.jacoco.core.analysis.Analyzer;\n",
    "import org.jacoco.core.analysis.CoverageBuilder;\n",
    "import org.jacoco.core.analysis.IClassCoverage;\n",
    "import org.jacoco.core.analysis.ICounter;\n",
    "import org.jacoco.core.data.ExecutionDataStore;\n",
    "import org.jacoco.core.data.SessionInfoStore;"
   ]
  },
  {
   "cell_type": "markdown",
   "metadata": {},
   "source": [
    "Zunächst wird die instrumentierte Variante der Klasse `Maximum` erstellt."
   ]
  },
  {
   "cell_type": "code",
   "execution_count": 54,
   "metadata": {},
   "outputs": [],
   "source": [
    "final IRuntime runtime = new LoggerRuntime();\n",
    "final Instrumenter instr = new Instrumenter(runtime);\n",
    "final String targetName = Maximum.class.getName();\n",
    "final String resource = \"/\" + Maximum.class.getName().replace('.', '/') + \".class\";\n",
    "\n",
    "InputStream original =  Maximum.class.getResourceAsStream(resource);\n",
    "final byte[] instrumented = instr.instrument(original, targetName);\n",
    "original.close();"
   ]
  },
  {
   "cell_type": "markdown",
   "metadata": {},
   "source": [
    "Das Byte-Array `instrumented` enthält die rohen Bytes der instrumentierten Klasse. Diese müssen noch geladen werden."
   ]
  },
  {
   "cell_type": "code",
   "execution_count": 55,
   "metadata": {},
   "outputs": [],
   "source": [
    "public class MemoryClassLoader extends ClassLoader {\n",
    "\n",
    "    private final Map<String, byte[]> definitions = new HashMap<String, byte[]>();\n",
    "\n",
    "    public void addDefinition(final String name, final byte[] bytes) {\n",
    "        definitions.put(name, bytes);\n",
    "    }\n",
    "\n",
    "    @Override\n",
    "    protected Class<?> loadClass(final String name, final boolean resolve) throws ClassNotFoundException {\n",
    "        final byte[] bytes = definitions.get(name);\n",
    "        if (bytes != null) {\n",
    "            return defineClass(name, bytes, 0, bytes.length);\n",
    "        }\n",
    "        return super.loadClass(name, resolve);\n",
    "    }\n",
    "}"
   ]
  },
  {
   "cell_type": "code",
   "execution_count": 56,
   "metadata": {},
   "outputs": [],
   "source": [
    "// In this tutorial we use a special class loader to directly load the\n",
    "// instrumented class definition from a byte[] instances.\n",
    "final MemoryClassLoader memoryClassLoader = new MemoryClassLoader();\n",
    "memoryClassLoader.addDefinition(targetName, instrumented);\n",
    "final Class<?> targetClass = memoryClassLoader.loadClass(targetName);"
   ]
  },
  {
   "cell_type": "markdown",
   "metadata": {},
   "source": [
    "Die Klasse `targetClass` ist eine modifizierte Variante von `Maximum`, die zusätzliche Instruktionen für Jacoco enthält."
   ]
  },
  {
   "cell_type": "code",
   "execution_count": 57,
   "metadata": {},
   "outputs": [],
   "source": [
    "// Jacoco initialisieren\n",
    "final RuntimeData data = new RuntimeData();\n",
    "runtime.startup(data);"
   ]
  },
  {
   "cell_type": "markdown",
   "metadata": {},
   "source": [
    "Wir simulieren nun die Ausführung eines Tests, bei dem der erste Parameter größer als der zweite ist."
   ]
  },
  {
   "cell_type": "code",
   "execution_count": 58,
   "metadata": {},
   "outputs": [
    {
     "data": {
      "text/plain": [
       "50"
      ]
     },
     "execution_count": 58,
     "metadata": {},
     "output_type": "execute_result"
    }
   ],
   "source": [
    "// Entspricht der Ausführung von new Maximum().get(50, 10);\n",
    "\n",
    "Object targetInstance = targetClass.newInstance();\n",
    "Method method = targetClass.getMethod(\"get\", int.class, int.class);\n",
    "method.invoke(targetInstance, 50, 10);"
   ]
  },
  {
   "cell_type": "markdown",
   "metadata": {},
   "source": [
    "Danach kommt die Auswertung durch Jacoco (wie gesagt normal automatisch und ohne dass man sich explizit darum kümmern muss)."
   ]
  },
  {
   "cell_type": "code",
   "execution_count": 59,
   "metadata": {},
   "outputs": [],
   "source": [
    "final ExecutionDataStore executionData = new ExecutionDataStore();\n",
    "final SessionInfoStore sessionInfos = new SessionInfoStore();\n",
    "data.collect(executionData, sessionInfos, false);\n",
    "//runtime.shutdown();"
   ]
  },
  {
   "cell_type": "code",
   "execution_count": 60,
   "metadata": {},
   "outputs": [],
   "source": [
    "final CoverageBuilder coverageBuilder = new CoverageBuilder();\n",
    "final Analyzer analyzer = new Analyzer(executionData, coverageBuilder);\n",
    "analyzer.analyzeClass(Maximum.class.getResourceAsStream(resource), \"Maximum\");\n",
    "original.close();"
   ]
  },
  {
   "cell_type": "code",
   "execution_count": 61,
   "metadata": {},
   "outputs": [],
   "source": [
    "void printCounter(final String unit, final ICounter counter) {\n",
    "    final Integer missed = Integer.valueOf(counter.getMissedCount());\n",
    "    final Integer total = Integer.valueOf(counter.getTotalCount());\n",
    "    System.out.printf(\"%s of %s %s missed%n\", missed, total, unit);\n",
    "}"
   ]
  },
  {
   "cell_type": "code",
   "execution_count": 62,
   "metadata": {},
   "outputs": [],
   "source": [
    "String getColor(final int status) {\n",
    "    switch (status) {\n",
    "    case ICounter.NOT_COVERED:\n",
    "        return \"red\";\n",
    "    case ICounter.PARTLY_COVERED:\n",
    "        return \"yellow\";\n",
    "    case ICounter.FULLY_COVERED:\n",
    "        return \"green\";\n",
    "    }\n",
    "    return \"\";\n",
    "}"
   ]
  },
  {
   "cell_type": "code",
   "execution_count": 63,
   "metadata": {},
   "outputs": [
    {
     "name": "stdout",
     "output_type": "stream",
     "text": [
      "Coverage of class REPL/$JShell$12G$Maximum\n",
      "2 of 10 instructions missed\n",
      "1 of 2 branches missed\n",
      "1 of 4 lines missed\n",
      "0 of 2 methods missed\n",
      "1 of 3 complexity missed\n"
     ]
    }
   ],
   "source": [
    "for (final IClassCoverage cc : coverageBuilder.getClasses()) {\n",
    "    System.out.printf(\"Coverage of class %s%n\", cc.getName());\n",
    "\n",
    "    printCounter(\"instructions\", cc.getInstructionCounter());\n",
    "    printCounter(\"branches\", cc.getBranchCounter());\n",
    "    printCounter(\"lines\", cc.getLineCounter());\n",
    "    printCounter(\"methods\", cc.getMethodCounter());\n",
    "    printCounter(\"complexity\", cc.getComplexityCounter());\n",
    "}"
   ]
  },
  {
   "cell_type": "markdown",
   "metadata": {},
   "source": [
    "Jacoco erzeugt an dieser Stelle einen Bericht der in etwa so aussieht:"
   ]
  },
  {
   "cell_type": "markdown",
   "metadata": {},
   "source": [
    "![Jacoco coverage report](img/3/jacoco1.png)"
   ]
  },
  {
   "cell_type": "markdown",
   "metadata": {},
   "source": [
    "Anhand dieser Information können wir erkennen, dass wir noch keinen Test für den Fall haben, dass der zweite Parameter der größere ist. Führen wir den nun auch noch aus:"
   ]
  },
  {
   "cell_type": "code",
   "execution_count": 64,
   "metadata": {},
   "outputs": [],
   "source": [
    "// Test 2\n",
    "method.invoke(targetInstance, 10, 50);\n",
    "\n",
    "// Jacoco abschliessen\n",
    "// final ExecutionDataStore executionData = new ExecutionDataStore();\n",
    "// final SessionInfoStore sessionInfos = new SessionInfoStore();\n",
    "data.collect(executionData, sessionInfos, false);\n",
    "// runtime.shutdown();\n",
    "\n",
    "// Coverageauswertung\n",
    "final CoverageBuilder coverageBuilder = new CoverageBuilder();\n",
    "final Analyzer analyzer = new Analyzer(executionData, coverageBuilder);\n",
    "analyzer.analyzeClass(Maximum.class.getResourceAsStream(resource), \"Maximum\");\n",
    "//original.close();"
   ]
  },
  {
   "cell_type": "code",
   "execution_count": 65,
   "metadata": {},
   "outputs": [
    {
     "name": "stdout",
     "output_type": "stream",
     "text": [
      "Coverage of class REPL/$JShell$12G$Maximum\n",
      "0 of 10 instructions missed\n",
      "0 of 2 branches missed\n",
      "0 of 4 lines missed\n",
      "0 of 2 methods missed\n",
      "0 of 3 complexity missed\n"
     ]
    }
   ],
   "source": [
    "for (final IClassCoverage cc : coverageBuilder.getClasses()) {\n",
    "    System.out.printf(\"Coverage of class %s%n\", cc.getName());\n",
    "\n",
    "    printCounter(\"instructions\", cc.getInstructionCounter());\n",
    "    printCounter(\"branches\", cc.getBranchCounter());\n",
    "    printCounter(\"lines\", cc.getLineCounter());\n",
    "    printCounter(\"methods\", cc.getMethodCounter());\n",
    "    printCounter(\"complexity\", cc.getComplexityCounter());\n",
    "}"
   ]
  },
  {
   "cell_type": "markdown",
   "metadata": {},
   "source": [
    "![Jacoco coverage report](img/3/jacoco2.png)"
   ]
  }
 ],
 "metadata": {
  "celltoolbar": "Slideshow",
  "kernelspec": {
   "display_name": "Java",
   "language": "java",
   "name": "java"
  },
  "language_info": {
   "codemirror_mode": "java",
   "file_extension": ".jshell",
   "mimetype": "text/x-java-source",
   "name": "Java",
   "pygments_lexer": "java",
   "version": "18.0.1+0"
  }
 },
 "nbformat": 4,
 "nbformat_minor": 5
}
