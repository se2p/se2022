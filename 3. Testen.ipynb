{
 "cells": [
  {
   "cell_type": "markdown",
   "id": "f71d42df",
   "metadata": {},
   "source": [
    "# Testen mit JUnit"
   ]
  },
  {
   "cell_type": "markdown",
   "id": "23bb641b",
   "metadata": {},
   "source": [
    "Inhalt dieser Vorlesung ist das Testen von Programmen. In diesem Jupyter-Notebook sind dabei die Beispiele rund um JUnit gesammelt."
   ]
  },
  {
   "cell_type": "markdown",
   "id": "fd3b1911",
   "metadata": {},
   "source": [
    "Betrachten wir die folgende fehlerhafte Java-Klasse."
   ]
  },
  {
   "cell_type": "code",
   "execution_count": 1,
   "id": "c3772016",
   "metadata": {},
   "outputs": [],
   "source": [
    "class Maximum {\n",
    "  public int get(int x, int y) {\n",
    "    if (x > y) {\n",
    "      return x;\n",
    "    } else {\n",
    "      return x; // Bug!\n",
    "    }\n",
    "  }\n",
    "}"
   ]
  },
  {
   "cell_type": "markdown",
   "id": "ecdb36b6",
   "metadata": {},
   "source": [
    "Wie im Code markiert ist, enthält diese Klasse einen Bug in der `get` Methode. Diese funktioniert korrekt, solange das erste Argument den größeren Wert enthält:"
   ]
  },
  {
   "cell_type": "code",
   "execution_count": 2,
   "id": "1661a886",
   "metadata": {},
   "outputs": [
    {
     "data": {
      "text/plain": [
       "50"
      ]
     },
     "execution_count": 2,
     "metadata": {},
     "output_type": "execute_result"
    }
   ],
   "source": [
    "Maximum max = new Maximum();\n",
    "max.get(50, 10);"
   ]
  },
  {
   "cell_type": "markdown",
   "id": "966ce4cb",
   "metadata": {},
   "source": [
    "Die erwartete Rückgabewert ist 50, und das ist auch was wir bekommen haben -- dieser Fall ist also korrekt implementiert."
   ]
  },
  {
   "cell_type": "markdown",
   "id": "5e0a0695",
   "metadata": {},
   "source": [
    "Der Fehler tritt auf, wenn das zweite Argument das größere ist:"
   ]
  },
  {
   "cell_type": "code",
   "execution_count": 3,
   "id": "dbcf01c4",
   "metadata": {},
   "outputs": [
    {
     "data": {
      "text/plain": [
       "10"
      ]
     },
     "execution_count": 3,
     "metadata": {},
     "output_type": "execute_result"
    }
   ],
   "source": [
    "max.get(10, 50);"
   ]
  },
  {
   "cell_type": "markdown",
   "id": "12a503db",
   "metadata": {},
   "source": [
    "An dieser Stelle würden wir auch den Rückgabewert 50 erwarten, haben aber 10 erhalten, was klar falsch ist."
   ]
  },
  {
   "cell_type": "markdown",
   "id": "57b65e24",
   "metadata": {},
   "source": [
    "Was wir nun in den letzten paar Zeilen gemacht haben ist genau, was man beim Testen macht: Wir haben eine Instanz der Klasse `Maximum` erzeugt, diese mit verschiedenen Parameterwerten aufgerufen, und das Ergebnis überprüft."
   ]
  },
  {
   "cell_type": "markdown",
   "id": "fd45420f",
   "metadata": {},
   "source": [
    "Die Auswahl der konkreten Aufrufe, Parameter, und die Definition der erwarteten Ausgaben sind Dinge, die wir als Entwickler/Tester immer selber machen müssen. Den Ablauf der einzelnen Schritte können wir allerdings automatisieren mit JUnit."
   ]
  },
  {
   "cell_type": "markdown",
   "id": "22ae6775",
   "metadata": {},
   "source": [
    "## JUnit Tests"
   ]
  },
  {
   "cell_type": "markdown",
   "id": "dd765a24",
   "metadata": {},
   "source": [
    "[JUnit](https://junit.org/junit5/) ist ein Framework mit dem automatisierte Tests für Java Code erstellt und ausgeführt werden können. Die aktuelle Version von JUnit ist 5, in diesem Jupyter Notebook verwende ich allerdings JUnit 4, da sich damit aus dem Notebook heraus leichter die Tests ausführen lassen. Bis auf die Paketnamen bei den Imports ändert sich an den Beispielen aber nichts bei der Verwendung mit JUnit 5."
   ]
  },
  {
   "cell_type": "markdown",
   "id": "14bfebdb",
   "metadata": {},
   "source": [
    "Zunächst benötigen wir die Bibliothek selbst als Abhängigkeit. In einem Softwareprojekt würde man diesen Schritt direkt in der Maven oder Gradle Buildkonfiguration vornehmen."
   ]
  },
  {
   "cell_type": "code",
   "execution_count": 4,
   "id": "fd42bf5b",
   "metadata": {},
   "outputs": [],
   "source": [
    "%mavenRepo oss-sonatype-snapshots https://oss.sonatype.org/content/repositories/snapshots/\n",
    "%maven junit:junit:4.13.2"
   ]
  },
  {
   "cell_type": "markdown",
   "id": "d38f1726",
   "metadata": {},
   "source": [
    "Wir benötigen 2 zentrale Imports: Zunächst müssen wir JUnit mitteilen, was Tests sind, dazu brauchen wir die Klasse `Test`."
   ]
  },
  {
   "cell_type": "code",
   "execution_count": 5,
   "id": "a1c69ac8",
   "metadata": {},
   "outputs": [],
   "source": [
    "import org.junit.Test;"
   ]
  },
  {
   "cell_type": "markdown",
   "id": "d186468b",
   "metadata": {},
   "source": [
    "Um das Ergebnis in einem Test zu überprüfen benötigen wir noch JUnit Assertions."
   ]
  },
  {
   "cell_type": "code",
   "execution_count": 6,
   "id": "107ac55c",
   "metadata": {},
   "outputs": [],
   "source": [
    "import static org.junit.Assert.*;"
   ]
  },
  {
   "cell_type": "markdown",
   "id": "db246af8",
   "metadata": {},
   "source": [
    "Nun implementieren wir unseren ersten Test von oben, d.h. den Aufruf mit 50 und 10. Wir definieren dazu eine neue Klasse `MaximumTest` (wie sie heisst ist uns überlassen). Ein Test ist eine Methode die mit der `@Test` Annotation versehen ist, und keine Parameter übernimmt."
   ]
  },
  {
   "cell_type": "code",
   "execution_count": 7,
   "id": "59abea0d",
   "metadata": {},
   "outputs": [],
   "source": [
    "class MaximumTest {\n",
    "\n",
    "  @Test\n",
    "  public void testMaximum() {\n",
    "    Maximum maximum = new Maximum();\n",
    "    int max = maximum.get(50, 10);\n",
    "    assertEquals(50, max);\n",
    "  }\n",
    "}"
   ]
  },
  {
   "cell_type": "markdown",
   "id": "490a77bc",
   "metadata": {},
   "source": [
    "Die Überprüfung des Ergebnisses passiert mit der Methode `assertEquals`, deren erster Parameter der erwartete Wert ist, und der zweite Wert ist der tatsächliche Wert der Ausführung."
   ]
  },
  {
   "cell_type": "markdown",
   "id": "4c18d306",
   "metadata": {},
   "source": [
    "Die Testausführung passiert normalerweise per Button in der IDE oder Kommando des Build-Tools (Maven/Gradle). Im Jupyter Notebook müssen wir das programmatisch machen:"
   ]
  },
  {
   "cell_type": "code",
   "execution_count": 8,
   "id": "3a05fd1d",
   "metadata": {},
   "outputs": [],
   "source": [
    "import org.junit.runner.JUnitCore;\n",
    "JUnitCore junit = new JUnitCore();\n",
    "junit.addListener(new  org.junit.internal.TextListener(System.out));"
   ]
  },
  {
   "cell_type": "code",
   "execution_count": 9,
   "id": "1bb00d7b",
   "metadata": {
    "scrolled": true
   },
   "outputs": [
    {
     "name": "stdout",
     "output_type": "stream",
     "text": [
      ".\n",
      "Time: 0,008\n",
      "\n",
      "OK (1 test)\n",
      "\n"
     ]
    },
    {
     "data": {
      "text/plain": [
       "org.junit.runner.Result@5fdc1bc"
      ]
     },
     "execution_count": 9,
     "metadata": {},
     "output_type": "execute_result"
    }
   ],
   "source": [
    "junit.run(MaximumTest.class);"
   ]
  },
  {
   "cell_type": "markdown",
   "id": "8a24977c",
   "metadata": {},
   "source": [
    "Der Output sagt uns, dass ein Test ausgeführt wurde, und dieser hat keinen Fehler gefunden. Erweitern wir also unsere Testklasse mit einem weiteren Test."
   ]
  },
  {
   "cell_type": "code",
   "execution_count": 10,
   "id": "2b4b6fb6",
   "metadata": {},
   "outputs": [],
   "source": [
    "class MaximumTest {\n",
    "\n",
    "  @Test\n",
    "  public void testMaximumFirst() {\n",
    "    Maximum maximum = new Maximum();\n",
    "    int max = maximum.get(50, 10);\n",
    "    assertEquals(50, max);\n",
    "  }\n",
    "  \n",
    "  @Test\n",
    "  public void testMaximumSecond() {\n",
    "    Maximum maximum = new Maximum();\n",
    "    int max = maximum.get(10, 50);\n",
    "    assertEquals(50, max);\n",
    "  }\n",
    "\n",
    "}"
   ]
  },
  {
   "cell_type": "markdown",
   "id": "fd3cb432",
   "metadata": {},
   "source": [
    "Die beiden Testmethoden haben nun aussagekräftige Namen, mithilfe derer ein Entwickler erkennen kann, was das Ziel des Tests ist. Das ist sehr wichtig sobald ein Projekt mal viele Testklassen und Tests hat."
   ]
  },
  {
   "cell_type": "code",
   "execution_count": 11,
   "id": "b7ec6e16",
   "metadata": {
    "scrolled": false
   },
   "outputs": [
    {
     "name": "stdout",
     "output_type": "stream",
     "text": [
      ".E.\n",
      "Time: 0,006\n",
      "There was 1 failure:\n",
      "1) testMaximumSecond(REPL.$JShell$24B$MaximumTest)\n",
      "java.lang.AssertionError: expected:<50> but was:<10>\n",
      "\tat org.junit.Assert.fail(Assert.java:89)\n",
      "\tat org.junit.Assert.failNotEquals(Assert.java:835)\n",
      "\tat org.junit.Assert.assertEquals(Assert.java:647)\n",
      "\tat org.junit.Assert.assertEquals(Assert.java:633)\n",
      "\tat REPL.$JShell$24B$MaximumTest.testMaximumSecond($JShell$24B.java:28)\n",
      "\n",
      "FAILURES!!!\n",
      "Tests run: 2,  Failures: 1\n",
      "\n"
     ]
    },
    {
     "data": {
      "text/plain": [
       "org.junit.runner.Result@2b6bb165"
      ]
     },
     "execution_count": 11,
     "metadata": {},
     "output_type": "execute_result"
    }
   ],
   "source": [
    "junit.run(MaximumTest.class);"
   ]
  },
  {
   "cell_type": "markdown",
   "id": "491df7b5",
   "metadata": {},
   "source": [
    "JUnit berichtet nun, dass einer der beiden ausgeführten Tests fehlgeschlagen ist. Die Zeile mit dem `AssertionError` gibt uns auch einen Hinweis auf das Problem: Es wurde `50` erwartet, aber das Ergebnis war `10`."
   ]
  },
  {
   "cell_type": "markdown",
   "id": "e4d5b130",
   "metadata": {},
   "source": [
    "Wenn wir mit der Fehlermeldung nicht zufrieden sind, können wir auch eine eigene als ersten Parameter der `assertEquals` einbauen."
   ]
  },
  {
   "cell_type": "code",
   "execution_count": 12,
   "id": "52809610",
   "metadata": {},
   "outputs": [],
   "source": [
    "class MaximumTest {\n",
    "\n",
    "  @Test\n",
    "  public void testMaximumFirst() {\n",
    "    Maximum maximum = new Maximum();\n",
    "    int max = maximum.get(50, 10);\n",
    "    assertEquals(50, max);\n",
    "  }\n",
    "  \n",
    "  @Test\n",
    "  public void testMaximumSecond() {\n",
    "    Maximum maximum = new Maximum();\n",
    "    int max = maximum.get(10, 50);\n",
    "    assertEquals(\"If y is larger than x, then y should be returned.\", 50, max);\n",
    "  }\n",
    "\n",
    "}"
   ]
  },
  {
   "cell_type": "code",
   "execution_count": 13,
   "id": "9bba39e2",
   "metadata": {
    "scrolled": false
   },
   "outputs": [
    {
     "name": "stdout",
     "output_type": "stream",
     "text": [
      ".E.\n",
      "Time: 0,002\n",
      "There was 1 failure:\n",
      "1) testMaximumSecond(REPL.$JShell$24C$MaximumTest)\n",
      "java.lang.AssertionError: If y is larger than x, then y should be returned. expected:<50> but was:<10>\n",
      "\tat org.junit.Assert.fail(Assert.java:89)\n",
      "\tat org.junit.Assert.failNotEquals(Assert.java:835)\n",
      "\tat org.junit.Assert.assertEquals(Assert.java:647)\n",
      "\tat REPL.$JShell$24C$MaximumTest.testMaximumSecond($JShell$24C.java:28)\n",
      "\n",
      "FAILURES!!!\n",
      "Tests run: 2,  Failures: 1\n",
      "\n"
     ]
    },
    {
     "data": {
      "text/plain": [
       "org.junit.runner.Result@307d7ba0"
      ]
     },
     "execution_count": 13,
     "metadata": {},
     "output_type": "execute_result"
    }
   ],
   "source": [
    "junit.run(MaximumTest.class);"
   ]
  },
  {
   "cell_type": "markdown",
   "id": "26255cf2",
   "metadata": {},
   "source": [
    "Nun beheben wir den Bug."
   ]
  },
  {
   "cell_type": "code",
   "execution_count": 14,
   "id": "ad9f4945",
   "metadata": {},
   "outputs": [],
   "source": [
    "class Maximum {\n",
    "  public int get(int x, int y) {\n",
    "    if (x > y) {\n",
    "      return x;\n",
    "    } else {\n",
    "      return y; // Fixed\n",
    "    }\n",
    "  }\n",
    "}"
   ]
  },
  {
   "cell_type": "markdown",
   "id": "6b1f6cb4",
   "metadata": {},
   "source": [
    "Ob unser Fix korrekt ist, können wir überprüfen indem wir unsere Tests nochmal ausführen."
   ]
  },
  {
   "cell_type": "code",
   "execution_count": 15,
   "id": "ed3c0de8",
   "metadata": {},
   "outputs": [
    {
     "name": "stdout",
     "output_type": "stream",
     "text": [
      "..\n",
      "Time: 0,002\n",
      "\n",
      "OK (2 tests)\n",
      "\n"
     ]
    },
    {
     "data": {
      "text/plain": [
       "org.junit.runner.Result@61306e0c"
      ]
     },
     "execution_count": 15,
     "metadata": {},
     "output_type": "execute_result"
    }
   ],
   "source": [
    "junit.run(MaximumTest.class);"
   ]
  },
  {
   "cell_type": "markdown",
   "id": "0ca51f8a",
   "metadata": {},
   "source": [
    "Beide unserer Tests erzeugen sich im ersten Schritt eine Instanz der Klasse `Maximum`. Wir können unsere Testklasse vereinfachen, indem wir dieses Objekt als _Test Fixture_ teilen."
   ]
  },
  {
   "cell_type": "code",
   "execution_count": 16,
   "id": "f35f6c2c",
   "metadata": {},
   "outputs": [],
   "source": [
    "class MaximumTest {\n",
    "\n",
    "  private Maximum maximum = new Maximum();\n",
    "\n",
    "  @Test\n",
    "  public void testMaximumFirst() {\n",
    "    int max = maximum.get(50, 10);\n",
    "    assertEquals(50, max);\n",
    "  }\n",
    "  \n",
    "  @Test\n",
    "  public void testMaximumSecond() {\n",
    "    int max = maximum.get(10, 50);\n",
    "    assertEquals(50, max);\n",
    "  }\n",
    "\n",
    "}"
   ]
  },
  {
   "cell_type": "code",
   "execution_count": 17,
   "id": "45a05a24",
   "metadata": {
    "scrolled": true
   },
   "outputs": [
    {
     "name": "stdout",
     "output_type": "stream",
     "text": [
      "..\n",
      "Time: 0,001\n",
      "\n",
      "OK (2 tests)\n",
      "\n"
     ]
    },
    {
     "data": {
      "text/plain": [
       "org.junit.runner.Result@6985201c"
      ]
     },
     "execution_count": 17,
     "metadata": {},
     "output_type": "execute_result"
    }
   ],
   "source": [
    "junit.run(MaximumTest.class);"
   ]
  },
  {
   "cell_type": "markdown",
   "id": "7152682a",
   "metadata": {},
   "source": [
    "Wenn wir wollen, dass unsere Test Fixture vor jedem Test auf besondere Art neu initialisiert wird, können wir das mithilfe der `@BeforeTest` Annotation machen."
   ]
  },
  {
   "cell_type": "code",
   "execution_count": 18,
   "id": "d35fc121",
   "metadata": {},
   "outputs": [],
   "source": [
    "import org.junit.Before;"
   ]
  },
  {
   "cell_type": "code",
   "execution_count": 19,
   "id": "4fd11ac1",
   "metadata": {},
   "outputs": [],
   "source": [
    "class MaximumTest {\n",
    "\n",
    "  private Maximum maximum;\n",
    "  \n",
    "  @Before\n",
    "  public void setUp() {\n",
    "    System.out.println(\"Erzeuge neues Maximum-Objekt\");\n",
    "    maximum = new Maximum();\n",
    "  }\n",
    "\n",
    "  @Test\n",
    "  public void testMaximumFirst() {\n",
    "    int max = maximum.get(50, 10);\n",
    "    assertEquals(50, max);\n",
    "  }\n",
    "  \n",
    "  @Test\n",
    "  public void testMaximumSecond() {\n",
    "    int max = maximum.get(10, 50);\n",
    "    assertEquals(50, max);\n",
    "  }\n",
    "\n",
    "}"
   ]
  },
  {
   "cell_type": "code",
   "execution_count": 20,
   "id": "2fbf9be7",
   "metadata": {
    "scrolled": true
   },
   "outputs": [
    {
     "name": "stdout",
     "output_type": "stream",
     "text": [
      ".Erzeuge neues Maximum-Objekt\n",
      ".Erzeuge neues Maximum-Objekt\n",
      "\n",
      "Time: 0,003\n",
      "\n",
      "OK (2 tests)\n",
      "\n"
     ]
    },
    {
     "data": {
      "text/plain": [
       "org.junit.runner.Result@46d4390c"
      ]
     },
     "execution_count": 20,
     "metadata": {},
     "output_type": "execute_result"
    }
   ],
   "source": [
    "junit.run(MaximumTest.class);"
   ]
  },
  {
   "cell_type": "markdown",
   "id": "a8354c8d",
   "metadata": {},
   "source": [
    "Alle Methoden, die mit `@Before` annotiert sind, werden vor jeder einzelnen Testausführung ausgeführt. Analog dazu gibt es auch `@After`. Methoden, die mit `@BeforeClass` (`@AfterClass`) annotiert sind werden einmal zu Beginn (Ende) der gesamten Ausführung aller Tests ausgeführt. In JUnit 5 sind diese Annotationen umbenannt worden zu `@BeforeEach`/`@AfterEach` und `@BeforeAll`/`@AfterAll`."
   ]
  },
  {
   "cell_type": "markdown",
   "id": "a3c65138",
   "metadata": {},
   "source": [
    "Betrachten wir nun eine Variante unserer `Maximum` Klasse, die statt `int`s mit `double`s arbeitet."
   ]
  },
  {
   "cell_type": "code",
   "execution_count": 21,
   "id": "8182cef7",
   "metadata": {},
   "outputs": [],
   "source": [
    "class Maximum {\n",
    "  public double get(double x, double y) {\n",
    "    if (x > y) {\n",
    "      return x;\n",
    "    } else {\n",
    "      return y;\n",
    "    }\n",
    "  }\n",
    "}"
   ]
  },
  {
   "cell_type": "markdown",
   "id": "ed7d8086",
   "metadata": {},
   "source": [
    "Wir aktualisieren auch unsere Testklasse um mit der geänderten Signatur umzugehen."
   ]
  },
  {
   "cell_type": "code",
   "execution_count": 22,
   "id": "05ca2b03",
   "metadata": {},
   "outputs": [],
   "source": [
    "class MaximumTest {\n",
    "\n",
    "  private Maximum maximum = new Maximum();\n",
    "\n",
    "  @Test\n",
    "  public void testMaximumFirst() {\n",
    "    double max = maximum.get(50.0, 10.0);\n",
    "    assertEquals(50.0, max);\n",
    "  }\n",
    "  \n",
    "  @Test\n",
    "  public void testMaximumSecond() {\n",
    "    double max = maximum.get(10.0, 50.0);\n",
    "    assertEquals(50, max);\n",
    "  }\n",
    "\n",
    "}"
   ]
  },
  {
   "cell_type": "markdown",
   "id": "743e6669",
   "metadata": {},
   "source": [
    "Dann betrachten wir, was bei der Ausführung passiert."
   ]
  },
  {
   "cell_type": "code",
   "execution_count": 23,
   "id": "8b8a654a",
   "metadata": {
    "scrolled": true
   },
   "outputs": [
    {
     "name": "stdout",
     "output_type": "stream",
     "text": [
      ".E.E\n",
      "Time: 0,002\n",
      "There were 2 failures:\n",
      "1) testMaximumSecond(REPL.$JShell$24H$MaximumTest)\n",
      "java.lang.AssertionError: Use assertEquals(expected, actual, delta) to compare floating-point numbers\n",
      "\tat org.junit.Assert.fail(Assert.java:89)\n",
      "\tat org.junit.Assert.assertEquals(Assert.java:669)\n",
      "\tat org.junit.Assert.assertEquals(Assert.java:658)\n",
      "\tat REPL.$JShell$24H$MaximumTest.testMaximumSecond($JShell$24H.java:28)\n",
      "2) testMaximumFirst(REPL.$JShell$24H$MaximumTest)\n",
      "java.lang.AssertionError: Use assertEquals(expected, actual, delta) to compare floating-point numbers\n",
      "\tat org.junit.Assert.fail(Assert.java:89)\n",
      "\tat org.junit.Assert.assertEquals(Assert.java:669)\n",
      "\tat org.junit.Assert.assertEquals(Assert.java:658)\n",
      "\tat REPL.$JShell$24H$MaximumTest.testMaximumFirst($JShell$24H.java:22)\n",
      "\n",
      "FAILURES!!!\n",
      "Tests run: 2,  Failures: 2\n",
      "\n"
     ]
    },
    {
     "data": {
      "text/plain": [
       "org.junit.runner.Result@76eeb824"
      ]
     },
     "execution_count": 23,
     "metadata": {},
     "output_type": "execute_result"
    }
   ],
   "source": [
    "junit.run(MaximumTest.class);"
   ]
  },
  {
   "cell_type": "markdown",
   "id": "c7a60f2a",
   "metadata": {},
   "source": [
    "JUnit schimpft darüber, dass wir Fliesskommazahlen mit `assertEquals` vergleichen. Der Grund ist, dass Fliesskommaberechnungen aufgrund von Rundungsfehlern so gut wie nie exakt gleich sind. JUnit bietet für den Vergleich von Fliesskommazahlen eigene Assertions, bei denen man ein Epsilon für die Genauigkeit des Vergleichs angeben kann."
   ]
  },
  {
   "cell_type": "code",
   "execution_count": 24,
   "id": "60d52607",
   "metadata": {},
   "outputs": [],
   "source": [
    "class MaximumTest {\n",
    "\n",
    "  private Maximum maximum = new Maximum();\n",
    "\n",
    "  @Test\n",
    "  public void testMaximumFirst() {\n",
    "    double max = maximum.get(50.0, 10.0);\n",
    "    assertEquals(50.0, max, 0.001);\n",
    "  }\n",
    "  \n",
    "  @Test\n",
    "  public void testMaximumSecond() {\n",
    "    double max = maximum.get(10.0, 50.0);\n",
    "    assertEquals(50, max, 0.001);\n",
    "  }\n",
    "\n",
    "}"
   ]
  },
  {
   "cell_type": "code",
   "execution_count": 25,
   "id": "5e4c9ca0",
   "metadata": {
    "scrolled": true
   },
   "outputs": [
    {
     "name": "stdout",
     "output_type": "stream",
     "text": [
      "..\n",
      "Time: 0,001\n",
      "\n",
      "OK (2 tests)\n",
      "\n"
     ]
    },
    {
     "data": {
      "text/plain": [
       "org.junit.runner.Result@3f883184"
      ]
     },
     "execution_count": 25,
     "metadata": {},
     "output_type": "execute_result"
    }
   ],
   "source": [
    "junit.run(MaximumTest.class);"
   ]
  },
  {
   "cell_type": "markdown",
   "id": "bce9577e",
   "metadata": {},
   "source": [
    "Als letzter Hinweis sei noch darauf hingewiesen, dass JUnit eine Vielzahl verschiedener Assertions bietet. Beispielsweise kann man den Wahrheitswert beliebiger Bedingungen mit `assertTrue` und `assertFalse` überprüfen. "
   ]
  },
  {
   "cell_type": "code",
   "execution_count": 26,
   "id": "c1ff99d8",
   "metadata": {},
   "outputs": [],
   "source": [
    "class MaximumTest {\n",
    "\n",
    "  @Test\n",
    "  public void testMaximumSecond() {\n",
    "    Maximum maximum = new Maximum();\n",
    "    double max = maximum.get(10.0, 50.0);\n",
    "    assertTrue(max == 50.0);\n",
    "    assertFalse(max == 10.0);\n",
    "  }\n",
    "\n",
    "}"
   ]
  },
  {
   "cell_type": "code",
   "execution_count": 27,
   "id": "9790ced8",
   "metadata": {
    "scrolled": true
   },
   "outputs": [
    {
     "name": "stdout",
     "output_type": "stream",
     "text": [
      ".\n",
      "Time: 0\n",
      "\n",
      "OK (1 test)\n",
      "\n"
     ]
    },
    {
     "data": {
      "text/plain": [
       "org.junit.runner.Result@2f895843"
      ]
     },
     "execution_count": 27,
     "metadata": {},
     "output_type": "execute_result"
    }
   ],
   "source": [
    "junit.run(MaximumTest.class);"
   ]
  },
  {
   "cell_type": "markdown",
   "id": "1ffde2c4",
   "metadata": {},
   "source": [
    "Eine Übersicht über vorhandene Assertions gibt es in der [JUnit 4 Dokumentation](https://junit.org/junit4/javadoc/4.8/org/junit/Assert.html) bzw der [JUnit 5 Dokumentation](https://junit.org/junit5/docs/5.8.2/api/org.junit.jupiter.api/org/junit/jupiter/api/Assertions.html)."
   ]
  },
  {
   "cell_type": "markdown",
   "id": "ffc5630e",
   "metadata": {},
   "source": [
    "## Test-Driven Development"
   ]
  },
  {
   "cell_type": "markdown",
   "id": "e23ed996",
   "metadata": {},
   "source": [
    "Automatisierte Tests haben zwei konträre Anwendungsszenarios: Man erstellt sich Tests auf der Suche nach Fehlern, und behält diese Tests dann um sicherzustellen, dass sich dieser Fehler nicht wieder neu einschleicht; diesen Anwendungsfall nennt man _Regression Testing_. JUnit Tests dienen aber auch dazu beispielhaft zu spezifizieren, was ein Programm können soll. Für diesen Anwendungsfall erstellt man _zuerst_ Tests, und implementiert dann das durch die Tests beschriebene Verhalten. Dies nennt man _Test Driven Development_ (TDD)."
   ]
  },
  {
   "cell_type": "markdown",
   "id": "c2519044",
   "metadata": {},
   "source": [
    "Das Vorlesungsbeispiel zu TDD hat als Ziel die Erstellung einer Klasse, die überprüft ob zwei Daten übereinstimmen. Es gibt hierbei 2 Features:\n",
    "1. Feature: Exakte Übereinstimmung\n",
    "2. Feature: Wildcard-Matching auf Jahr, Monat, Tag"
   ]
  },
  {
   "cell_type": "markdown",
   "id": "980e1500",
   "metadata": {},
   "source": [
    "### Feature 1: Matching"
   ]
  },
  {
   "cell_type": "markdown",
   "id": "d9472121",
   "metadata": {},
   "source": [
    "Wir beginnen mit einem Red-Bar Pattern, welches die API unserer Klasse und einen einfachen Anwendungsfall angibt."
   ]
  },
  {
   "cell_type": "code",
   "execution_count": 28,
   "id": "f4464098",
   "metadata": {},
   "outputs": [],
   "source": [
    "import java.time.LocalDate;"
   ]
  },
  {
   "cell_type": "code",
   "execution_count": 29,
   "id": "93fa08b3",
   "metadata": {},
   "outputs": [],
   "source": [
    "class LocalDateTest {\n",
    "  @Test\n",
    "  public void testMatches() {\n",
    "      DatePattern pattern = new DatePattern(2022, 5, 9);\n",
    "      LocalDate date = LocalDate.of(2022, 5, 9);\n",
    "      assertTrue(pattern.matches(date));\n",
    "  }\n",
    "}"
   ]
  },
  {
   "cell_type": "code",
   "execution_count": 30,
   "id": "4ae88192",
   "metadata": {},
   "outputs": [
    {
     "name": "stdout",
     "output_type": "stream",
     "text": [
      ".E\n",
      "Time: 0,001\n",
      "There was 1 failure:\n",
      "1) testMatches(REPL.$JShell$39$LocalDateTest)\n",
      "jdk.jshell.spi.SPIResolutionException: resolution exception\n",
      "\tat REPL.$JShell$39$LocalDateTest.<init>($JShell$39.java:21)\n",
      "\n",
      "FAILURES!!!\n",
      "Tests run: 1,  Failures: 1\n",
      "\n"
     ]
    },
    {
     "data": {
      "text/plain": [
       "org.junit.runner.Result@322f404a"
      ]
     },
     "execution_count": 30,
     "metadata": {},
     "output_type": "execute_result"
    }
   ],
   "source": [
    "junit.run(LocalDateTest.class);"
   ]
  },
  {
   "cell_type": "markdown",
   "id": "9bcc7308",
   "metadata": {},
   "source": [
    "Wenn wir den Test das erste Mal ausführen, ist das initiale Problem, dass die Klasse `DatePattern` noch überhaupt nicht existiert. Dies lässt sich aber leicht beheben. Die initiale Implementierung soll dabei aber nur das minimale Verhalten haben, um den Test zu bestehen."
   ]
  },
  {
   "cell_type": "code",
   "execution_count": 31,
   "id": "e6e9a328",
   "metadata": {},
   "outputs": [],
   "source": [
    "class DatePattern {\n",
    "  public DatePattern(int year, int month, int day) {\n",
    "  \n",
    "  }\n",
    "  \n",
    "  public boolean matches(LocalDate otherDate) {\n",
    "    return true;\n",
    "  }\n",
    "}"
   ]
  },
  {
   "cell_type": "code",
   "execution_count": 32,
   "id": "b54dd4f4",
   "metadata": {
    "scrolled": true
   },
   "outputs": [
    {
     "name": "stdout",
     "output_type": "stream",
     "text": [
      ".\n",
      "Time: 0,001\n",
      "\n",
      "OK (1 test)\n",
      "\n"
     ]
    },
    {
     "data": {
      "text/plain": [
       "org.junit.runner.Result@15d94fa3"
      ]
     },
     "execution_count": 32,
     "metadata": {},
     "output_type": "execute_result"
    }
   ],
   "source": [
    "junit.run(LocalDateTest.class);"
   ]
  },
  {
   "cell_type": "markdown",
   "id": "4e4d8e7f",
   "metadata": {},
   "source": [
    "Nun verfeinern wir Schrittweise unser Feature mit neuen Szenarien, die noch nicht abgedeckt sind. Beispielsweise sollte der Tag von der `matches` Methode überprüft werden, und `false` zurückgeben, wenn hier keine Übereinstimmung herrscht. Beispielsweise so:"
   ]
  },
  {
   "cell_type": "code",
   "execution_count": 33,
   "id": "422cfc48",
   "metadata": {},
   "outputs": [],
   "source": [
    "class LocalDateTest {\n",
    "  @Test\n",
    "  public void testMatches() {\n",
    "      DatePattern pattern = new DatePattern(2022, 5, 9);\n",
    "      LocalDate date = LocalDate.of(2022, 5, 9);\n",
    "      assertTrue(pattern.matches(date));\n",
    "  }\n",
    "  \n",
    "  @Test\n",
    "  public void testMatchesOtherDay() {\n",
    "      DatePattern pattern = new DatePattern(2022, 5, 9);\n",
    "      LocalDate date = LocalDate.of(2022, 5, 8);\n",
    "      assertFalse(pattern.matches(date));\n",
    "  }\n",
    "}"
   ]
  },
  {
   "cell_type": "code",
   "execution_count": 34,
   "id": "24e75577",
   "metadata": {},
   "outputs": [
    {
     "name": "stdout",
     "output_type": "stream",
     "text": [
      ".E.\n",
      "Time: 0,001\n",
      "There was 1 failure:\n",
      "1) testMatchesOtherDay(REPL.$JShell$39C$LocalDateTest)\n",
      "java.lang.AssertionError\n",
      "\tat org.junit.Assert.fail(Assert.java:87)\n",
      "\tat org.junit.Assert.assertTrue(Assert.java:42)\n",
      "\tat org.junit.Assert.assertFalse(Assert.java:65)\n",
      "\tat org.junit.Assert.assertFalse(Assert.java:75)\n",
      "\tat REPL.$JShell$39C$LocalDateTest.testMatchesOtherDay($JShell$39C.java:27)\n",
      "\n",
      "FAILURES!!!\n",
      "Tests run: 2,  Failures: 1\n",
      "\n"
     ]
    },
    {
     "data": {
      "text/plain": [
       "org.junit.runner.Result@664b245"
      ]
     },
     "execution_count": 34,
     "metadata": {},
     "output_type": "execute_result"
    }
   ],
   "source": [
    "junit.run(LocalDateTest.class);"
   ]
  },
  {
   "cell_type": "markdown",
   "id": "05c1e3b0",
   "metadata": {},
   "source": [
    "Nun verfeinern wir die Implementierung von `DatePattern` um auch diesen Test zu bestehen."
   ]
  },
  {
   "cell_type": "code",
   "execution_count": 35,
   "id": "671745ce",
   "metadata": {},
   "outputs": [],
   "source": [
    "class DatePattern {\n",
    "  private int day;\n",
    "  \n",
    "  public DatePattern(int year, int month, int day) {\n",
    "      this.day = day;\n",
    "  }\n",
    "  \n",
    "  public boolean matches(LocalDate otherDate) {\n",
    "    return otherDate.getDayOfMonth() == day;\n",
    "  }\n",
    "}"
   ]
  },
  {
   "cell_type": "code",
   "execution_count": 36,
   "id": "269e6d49",
   "metadata": {},
   "outputs": [
    {
     "name": "stdout",
     "output_type": "stream",
     "text": [
      "..\n",
      "Time: 0,001\n",
      "\n",
      "OK (2 tests)\n",
      "\n"
     ]
    },
    {
     "data": {
      "text/plain": [
       "org.junit.runner.Result@64992112"
      ]
     },
     "execution_count": 36,
     "metadata": {},
     "output_type": "execute_result"
    }
   ],
   "source": [
    "junit.run(LocalDateTest.class);"
   ]
  },
  {
   "cell_type": "markdown",
   "id": "25dc2cee",
   "metadata": {},
   "source": [
    "Wir können ähnliche Tests auch zur Überprüfung des Monats und des Jahres hinzufügen."
   ]
  },
  {
   "cell_type": "code",
   "execution_count": 37,
   "id": "19979d25",
   "metadata": {},
   "outputs": [],
   "source": [
    "class LocalDateTest {\n",
    "  @Test\n",
    "  public void testMatches() {\n",
    "      DatePattern pattern = new DatePattern(2022, 5, 9);\n",
    "      LocalDate date = LocalDate.of(2022, 5, 9);\n",
    "      assertTrue(pattern.matches(date));\n",
    "  }\n",
    "  \n",
    "  @Test\n",
    "  public void testMatchesOtherDay() {\n",
    "      DatePattern pattern = new DatePattern(2022, 5, 9);\n",
    "      LocalDate date = LocalDate.of(2022, 5, 8);\n",
    "      assertFalse(pattern.matches(date));\n",
    "  }\n",
    "  \n",
    "  @Test\n",
    "  public void testMatchesOtherMonth() {\n",
    "      DatePattern pattern = new DatePattern(2022, 5, 9);\n",
    "      LocalDate date = LocalDate.of(2022, 4, 9);\n",
    "      assertFalse(pattern.matches(date));\n",
    "  }\n",
    "\n",
    "  @Test\n",
    "  public void testMatchesOtherYear() {\n",
    "      DatePattern pattern = new DatePattern(2022, 5, 9);\n",
    "      LocalDate date = LocalDate.of(2021, 5, 9);\n",
    "      assertFalse(pattern.matches(date));\n",
    "  }\n",
    "}"
   ]
  },
  {
   "cell_type": "code",
   "execution_count": 38,
   "id": "9296cbbc",
   "metadata": {
    "scrolled": true
   },
   "outputs": [
    {
     "name": "stdout",
     "output_type": "stream",
     "text": [
      ".E.E..\n",
      "Time: 0,002\n",
      "There were 2 failures:\n",
      "1) testMatchesOtherMonth(REPL.$JShell$39E$LocalDateTest)\n",
      "java.lang.AssertionError\n",
      "\tat org.junit.Assert.fail(Assert.java:87)\n",
      "\tat org.junit.Assert.assertTrue(Assert.java:42)\n",
      "\tat org.junit.Assert.assertFalse(Assert.java:65)\n",
      "\tat org.junit.Assert.assertFalse(Assert.java:75)\n",
      "\tat REPL.$JShell$39E$LocalDateTest.testMatchesOtherMonth($JShell$39E.java:34)\n",
      "2) testMatchesOtherYear(REPL.$JShell$39E$LocalDateTest)\n",
      "java.lang.AssertionError\n",
      "\tat org.junit.Assert.fail(Assert.java:87)\n",
      "\tat org.junit.Assert.assertTrue(Assert.java:42)\n",
      "\tat org.junit.Assert.assertFalse(Assert.java:65)\n",
      "\tat org.junit.Assert.assertFalse(Assert.java:75)\n",
      "\tat REPL.$JShell$39E$LocalDateTest.testMatchesOtherYear($JShell$39E.java:41)\n",
      "\n",
      "FAILURES!!!\n",
      "Tests run: 4,  Failures: 2\n",
      "\n"
     ]
    },
    {
     "data": {
      "text/plain": [
       "org.junit.runner.Result@26a473ba"
      ]
     },
     "execution_count": 38,
     "metadata": {},
     "output_type": "execute_result"
    }
   ],
   "source": [
    "junit.run(LocalDateTest.class);"
   ]
  },
  {
   "cell_type": "markdown",
   "id": "0c69c9a7",
   "metadata": {},
   "source": [
    "...und wiederum einfach implementieren."
   ]
  },
  {
   "cell_type": "code",
   "execution_count": 39,
   "id": "f57ebf70",
   "metadata": {},
   "outputs": [],
   "source": [
    "class DatePattern {\n",
    "  private int year;\n",
    "  private int month;\n",
    "  private int day;\n",
    "  \n",
    "  public DatePattern(int year, int month, int day) {\n",
    "      this.year = year;\n",
    "      this.month = month;\n",
    "      this.day = day;\n",
    "  }\n",
    "  \n",
    "  public boolean matches(LocalDate otherDate) {\n",
    "    return otherDate.getYear() == year &&\n",
    "           otherDate.getMonthValue() == month &&\n",
    "           otherDate.getDayOfMonth() == day;\n",
    "  }\n",
    "}"
   ]
  },
  {
   "cell_type": "code",
   "execution_count": 40,
   "id": "eba31f94",
   "metadata": {
    "scrolled": true
   },
   "outputs": [
    {
     "name": "stdout",
     "output_type": "stream",
     "text": [
      "....\n",
      "Time: 0,001\n",
      "\n",
      "OK (4 tests)\n",
      "\n"
     ]
    },
    {
     "data": {
      "text/plain": [
       "org.junit.runner.Result@25eecdba"
      ]
     },
     "execution_count": 40,
     "metadata": {},
     "output_type": "execute_result"
    }
   ],
   "source": [
    "junit.run(LocalDateTest.class);"
   ]
  },
  {
   "cell_type": "markdown",
   "id": "e5d46083",
   "metadata": {},
   "source": [
    "Wenn wir keine weiteren Tests mehr für das aktuelle Feature finden, können wir den Code noch verbessern, und dann mit dem nächsten Feature weitermachen. Nachdem unser Code so einfach ist, gehen wir direkt zum nächsten Feature über."
   ]
  },
  {
   "cell_type": "markdown",
   "id": "5323a287",
   "metadata": {},
   "source": [
    "### Feature 2: Wildcards"
   ]
  },
  {
   "cell_type": "markdown",
   "id": "f63b12aa",
   "metadata": {},
   "source": [
    "Wir definieren mit unseren Tests, dass eine `0` für die Jahreszahl dazu führen soll, dass Daten mit beliebigen Jahreszahlen gematched werden sollen."
   ]
  },
  {
   "cell_type": "code",
   "execution_count": 41,
   "id": "e729ee32",
   "metadata": {},
   "outputs": [],
   "source": [
    "class LocalDateTest {\n",
    "  @Test\n",
    "  public void testMatches() {\n",
    "      DatePattern pattern = new DatePattern(2022, 5, 9);\n",
    "      LocalDate date = LocalDate.of(2022, 5, 9);\n",
    "      assertTrue(pattern.matches(date));\n",
    "  }\n",
    "  \n",
    "  @Test\n",
    "  public void testMatchesOtherDay() {\n",
    "      DatePattern pattern = new DatePattern(2022, 5, 9);\n",
    "      LocalDate date = LocalDate.of(2022, 5, 8);\n",
    "      assertFalse(pattern.matches(date));\n",
    "  }\n",
    "  \n",
    "  @Test\n",
    "  public void testMatchesOtherMonth() {\n",
    "      DatePattern pattern = new DatePattern(2022, 5, 9);\n",
    "      LocalDate date = LocalDate.of(2022, 4, 9);\n",
    "      assertFalse(pattern.matches(date));\n",
    "  }\n",
    "\n",
    "  @Test\n",
    "  public void testMatchesOtherYear() {\n",
    "      DatePattern pattern = new DatePattern(2022, 5, 9);\n",
    "      LocalDate date = LocalDate.of(2021, 5, 9);\n",
    "      assertFalse(pattern.matches(date));\n",
    "  }\n",
    "  \n",
    "  @Test\n",
    "  public void testWildcardYear() {\n",
    "      DatePattern pattern = new DatePattern(0, 5, 9);\n",
    "      assertTrue(pattern.matches(LocalDate.of(2022, 5, 9)));\n",
    "      assertTrue(pattern.matches(LocalDate.of(1234, 5, 9)));\n",
    "  }\n",
    "}"
   ]
  },
  {
   "cell_type": "code",
   "execution_count": 42,
   "id": "0072f889",
   "metadata": {
    "scrolled": true
   },
   "outputs": [
    {
     "name": "stdout",
     "output_type": "stream",
     "text": [
      "..E...\n",
      "Time: 0,001\n",
      "There was 1 failure:\n",
      "1) testWildcardYear(REPL.$JShell$39G$LocalDateTest)\n",
      "java.lang.AssertionError\n",
      "\tat org.junit.Assert.fail(Assert.java:87)\n",
      "\tat org.junit.Assert.assertTrue(Assert.java:42)\n",
      "\tat org.junit.Assert.assertTrue(Assert.java:53)\n",
      "\tat REPL.$JShell$39G$LocalDateTest.testWildcardYear($JShell$39G.java:47)\n",
      "\n",
      "FAILURES!!!\n",
      "Tests run: 5,  Failures: 1\n",
      "\n"
     ]
    },
    {
     "data": {
      "text/plain": [
       "org.junit.runner.Result@2aa92cdc"
      ]
     },
     "execution_count": 42,
     "metadata": {},
     "output_type": "execute_result"
    }
   ],
   "source": [
    "junit.run(LocalDateTest.class);"
   ]
  },
  {
   "cell_type": "markdown",
   "id": "6a6b37ed",
   "metadata": {},
   "source": [
    "Die Implementierung wird wieder verfeinert um diesen Fall abzudecken."
   ]
  },
  {
   "cell_type": "code",
   "execution_count": 43,
   "id": "ba9272ab",
   "metadata": {},
   "outputs": [],
   "source": [
    "class DatePattern {\n",
    "  private int year;\n",
    "  private int month;\n",
    "  private int day;\n",
    "  \n",
    "  public DatePattern(int year, int month, int day) {\n",
    "      this.year = year;\n",
    "      this.month = month;\n",
    "      this.day = day;\n",
    "  }\n",
    "  \n",
    "  public boolean matches(LocalDate otherDate) {\n",
    "    return (year == 0 || otherDate.getYear() == year) &&\n",
    "           otherDate.getMonthValue() == month &&\n",
    "           otherDate.getDayOfMonth() == day;\n",
    "  }\n",
    "}"
   ]
  },
  {
   "cell_type": "code",
   "execution_count": 44,
   "id": "23d018df",
   "metadata": {
    "scrolled": false
   },
   "outputs": [
    {
     "name": "stdout",
     "output_type": "stream",
     "text": [
      ".....\n",
      "Time: 0,001\n",
      "\n",
      "OK (5 tests)\n",
      "\n"
     ]
    },
    {
     "data": {
      "text/plain": [
       "org.junit.runner.Result@6b775d88"
      ]
     },
     "execution_count": 44,
     "metadata": {},
     "output_type": "execute_result"
    }
   ],
   "source": [
    "junit.run(LocalDateTest.class);"
   ]
  },
  {
   "cell_type": "markdown",
   "id": "729f312e",
   "metadata": {},
   "source": [
    "Wir brauchen ähnliche Tests auch für Monat und Tag."
   ]
  },
  {
   "cell_type": "code",
   "execution_count": 45,
   "id": "ee5ea020",
   "metadata": {},
   "outputs": [],
   "source": [
    "class LocalDateTest {\n",
    "  @Test\n",
    "  public void testMatches() {\n",
    "      DatePattern pattern = new DatePattern(2022, 5, 9);\n",
    "      LocalDate date = LocalDate.of(2022, 5, 9);\n",
    "      assertTrue(pattern.matches(date));\n",
    "  }\n",
    "  \n",
    "  @Test\n",
    "  public void testMatchesOtherDay() {\n",
    "      DatePattern pattern = new DatePattern(2022, 5, 9);\n",
    "      LocalDate date = LocalDate.of(2022, 5, 8);\n",
    "      assertFalse(pattern.matches(date));\n",
    "  }\n",
    "  \n",
    "  @Test\n",
    "  public void testMatchesOtherMonth() {\n",
    "      DatePattern pattern = new DatePattern(2022, 5, 9);\n",
    "      LocalDate date = LocalDate.of(2022, 4, 9);\n",
    "      assertFalse(pattern.matches(date));\n",
    "  }\n",
    "\n",
    "  @Test\n",
    "  public void testMatchesOtherYear() {\n",
    "      DatePattern pattern = new DatePattern(2022, 5, 9);\n",
    "      LocalDate date = LocalDate.of(2021, 5, 9);\n",
    "      assertFalse(pattern.matches(date));\n",
    "  }\n",
    "  \n",
    "  @Test\n",
    "  public void testWildcardYear() {\n",
    "      DatePattern pattern = new DatePattern(0, 5, 9);\n",
    "      assertTrue(pattern.matches(LocalDate.of(2022, 5, 9)));\n",
    "      assertTrue(pattern.matches(LocalDate.of(1234, 5, 9)));\n",
    "  }\n",
    "  \n",
    "  @Test\n",
    "  public void testWildcardMonth() {\n",
    "      DatePattern pattern = new DatePattern(2022, 0, 9);\n",
    "      assertTrue(pattern.matches(LocalDate.of(2022, 4, 9)));\n",
    "      assertTrue(pattern.matches(LocalDate.of(2022, 7, 9)));\n",
    "  }\n",
    "  \n",
    "  @Test\n",
    "  public void testWildcardDay() {\n",
    "      DatePattern pattern = new DatePattern(2022, 5, 0);\n",
    "      assertTrue(pattern.matches(LocalDate.of(2022, 5, 6)));\n",
    "      assertTrue(pattern.matches(LocalDate.of(2022, 5, 10)));\n",
    "  }\n",
    "}"
   ]
  },
  {
   "cell_type": "code",
   "execution_count": 46,
   "id": "17fcb59d",
   "metadata": {},
   "outputs": [
    {
     "name": "stdout",
     "output_type": "stream",
     "text": [
      ".E..E....\n",
      "Time: 0,002\n",
      "There were 2 failures:\n",
      "1) testWildcardDay(REPL.$JShell$39I$LocalDateTest)\n",
      "java.lang.AssertionError\n",
      "\tat org.junit.Assert.fail(Assert.java:87)\n",
      "\tat org.junit.Assert.assertTrue(Assert.java:42)\n",
      "\tat org.junit.Assert.assertTrue(Assert.java:53)\n",
      "\tat REPL.$JShell$39I$LocalDateTest.testWildcardDay($JShell$39I.java:61)\n",
      "2) testWildcardMonth(REPL.$JShell$39I$LocalDateTest)\n",
      "java.lang.AssertionError\n",
      "\tat org.junit.Assert.fail(Assert.java:87)\n",
      "\tat org.junit.Assert.assertTrue(Assert.java:42)\n",
      "\tat org.junit.Assert.assertTrue(Assert.java:53)\n",
      "\tat REPL.$JShell$39I$LocalDateTest.testWildcardMonth($JShell$39I.java:54)\n",
      "\n",
      "FAILURES!!!\n",
      "Tests run: 7,  Failures: 2\n",
      "\n"
     ]
    },
    {
     "data": {
      "text/plain": [
       "org.junit.runner.Result@5ff57df5"
      ]
     },
     "execution_count": 46,
     "metadata": {},
     "output_type": "execute_result"
    }
   ],
   "source": [
    "junit.run(LocalDateTest.class);"
   ]
  },
  {
   "cell_type": "markdown",
   "id": "0f0e21c1",
   "metadata": {},
   "source": [
    "...und entsprechend auch eine verfeinerte Implementierung, die diese beiden Tests erfüllt."
   ]
  },
  {
   "cell_type": "code",
   "execution_count": 47,
   "id": "60dbb8a8",
   "metadata": {},
   "outputs": [],
   "source": [
    "class DatePattern {\n",
    "  private int year;\n",
    "  private int month;\n",
    "  private int day;\n",
    "  \n",
    "  public DatePattern(int year, int month, int day) {\n",
    "      this.year = year;\n",
    "      this.month = month;\n",
    "      this.day = day;\n",
    "  }\n",
    "  \n",
    "  public boolean matches(LocalDate otherDate) {\n",
    "    return (year == 0 || otherDate.getYear() == year) &&\n",
    "           (month == 0 || otherDate.getMonthValue() == month) &&\n",
    "           (day == 0 || otherDate.getDayOfMonth() == day);\n",
    "  }\n",
    "}"
   ]
  },
  {
   "cell_type": "code",
   "execution_count": 48,
   "id": "0e112146",
   "metadata": {
    "scrolled": true
   },
   "outputs": [
    {
     "name": "stdout",
     "output_type": "stream",
     "text": [
      ".......\n",
      "Time: 0,001\n",
      "\n",
      "OK (7 tests)\n",
      "\n"
     ]
    },
    {
     "data": {
      "text/plain": [
       "org.junit.runner.Result@33ad0e35"
      ]
     },
     "execution_count": 48,
     "metadata": {},
     "output_type": "execute_result"
    }
   ],
   "source": [
    "junit.run(LocalDateTest.class);"
   ]
  },
  {
   "cell_type": "markdown",
   "id": "8e9a06c0",
   "metadata": {},
   "source": [
    "Damit ist auch das zweite Feature fertig, aber besonders schön ist der Code nicht geworden. Der nächste Schritt ist nun, den Code zu verbessern ohne dabei die Funktionalität zu verändern -- was wir mithilfe der Tests jederzeit überprüfen können. Das _Refactoring_ ist etwas, mit dem wir uns in der kommenden Vorlesung genauer beschäftigen werden."
   ]
  },
  {
   "cell_type": "code",
   "execution_count": 49,
   "id": "95eeec43",
   "metadata": {},
   "outputs": [],
   "source": [
    "class DatePattern {\n",
    "  private int year;\n",
    "  private int month;\n",
    "  private int day;\n",
    "  \n",
    "  public DatePattern(int year, int month, int day) {\n",
    "      this.year = year;\n",
    "      this.month = month;\n",
    "      this.day = day;\n",
    "  }\n",
    "  \n",
    "  private boolean matchesYear(LocalDate otherDate) {\n",
    "    return year == 0 || otherDate.getYear() == year;\n",
    "  }\n",
    "  \n",
    "  private boolean matchesMonth(LocalDate otherDate) {\n",
    "    return month == 0 || otherDate.getMonthValue() == month;\n",
    "  }\n",
    "  \n",
    "  private boolean matchesDay(LocalDate otherDate) {\n",
    "    return day == 0 || otherDate.getDayOfMonth() == day;\n",
    "  }\n",
    "  \n",
    "  public boolean matches(LocalDate otherDate) {\n",
    "    return matchesYear(otherDate) && matchesMonth(otherDate) && matchesDay(otherDate);\n",
    "  }\n",
    "}"
   ]
  },
  {
   "cell_type": "code",
   "execution_count": 50,
   "id": "111b8309",
   "metadata": {},
   "outputs": [
    {
     "name": "stdout",
     "output_type": "stream",
     "text": [
      ".......\n",
      "Time: 0,002\n",
      "\n",
      "OK (7 tests)\n",
      "\n"
     ]
    },
    {
     "data": {
      "text/plain": [
       "org.junit.runner.Result@2145728a"
      ]
     },
     "execution_count": 50,
     "metadata": {},
     "output_type": "execute_result"
    }
   ],
   "source": [
    "junit.run(LocalDateTest.class);"
   ]
  },
  {
   "cell_type": "markdown",
   "id": "812e1d59",
   "metadata": {},
   "source": [
    "## Code Coverage"
   ]
  },
  {
   "cell_type": "markdown",
   "id": "1073d0cb",
   "metadata": {},
   "source": [
    "Testüberdeckung (Code Coverage) ist ein hilfreiches Mittel um abzuschätzen, wie gut der Code getestet ist, und um Schwachstellen in den Tests zu erkennen. In der Vorlesung haben Code Coverage anhand des Kontrollflussgraphen theoretisch definiert, in der Praxis implementieren die meisten IDEs und Build-Werkzeuge Approximationen dieser Kriterien. Beispielsweise verwendet Eclipse die Coverageanalyse-Bibliothek Jacoco. Leider eignet sich Jacoco nur begrenzt zur Demonstration in Jupyter. Wir zeigen kurz das Prinzip, aber für eine bessere Demonstration am besten einfach wie in der Vorlesung demonstriert Tests direkt in Eclipse oder IntelliJ mit Coverage ausführen. Angenommen wir testen weiterhin die `Maximum` Klasse."
   ]
  },
  {
   "cell_type": "code",
   "execution_count": 51,
   "id": "ec4063d7",
   "metadata": {},
   "outputs": [],
   "source": [
    "class Maximum {\n",
    "  public int get(int x, int y) {\n",
    "    if (x > y) {\n",
    "      return x;\n",
    "    } else {\n",
    "      return y;\n",
    "    }\n",
    "  }\n",
    "}"
   ]
  },
  {
   "cell_type": "markdown",
   "id": "1905ecb8",
   "metadata": {},
   "source": [
    "Um Code Coverage zu messen, muss Jacoco den Code mit zusätzlichen Instruktionen instrumentieren, welche protokollieren welche Zeilen ausgeführt wurden. In der IDE ist das ein einfacher Klick, in Jupyter bedarf es leider etwas Boilerplate Code, den wir aber getrost ignorieren können."
   ]
  },
  {
   "cell_type": "code",
   "execution_count": 52,
   "id": "72448cf6",
   "metadata": {},
   "outputs": [],
   "source": [
    "%maven org.jacoco:org.jacoco.core:0.8.8"
   ]
  },
  {
   "cell_type": "code",
   "execution_count": 53,
   "id": "14854a48",
   "metadata": {},
   "outputs": [],
   "source": [
    "// Imports für die Analyse in Jupyter\n",
    "import org.jacoco.core.instr.Instrumenter;\n",
    "import org.jacoco.core.runtime.IRuntime;\n",
    "import org.jacoco.core.runtime.LoggerRuntime;\n",
    "import org.jacoco.core.runtime.RuntimeData;\n",
    "import java.lang.reflect.Method;\n",
    "import org.jacoco.core.analysis.Analyzer;\n",
    "import org.jacoco.core.analysis.CoverageBuilder;\n",
    "import org.jacoco.core.analysis.IClassCoverage;\n",
    "import org.jacoco.core.analysis.ICounter;\n",
    "import org.jacoco.core.data.ExecutionDataStore;\n",
    "import org.jacoco.core.data.SessionInfoStore;"
   ]
  },
  {
   "cell_type": "markdown",
   "id": "f5c36f0d",
   "metadata": {},
   "source": [
    "Zunächst wird die instrumentierte Variante der Klasse `Maximum` erstellt."
   ]
  },
  {
   "cell_type": "code",
   "execution_count": 54,
   "id": "cbe612e7",
   "metadata": {},
   "outputs": [],
   "source": [
    "final IRuntime runtime = new LoggerRuntime();\n",
    "final Instrumenter instr = new Instrumenter(runtime);\n",
    "final String targetName = Maximum.class.getName();\n",
    "final String resource = \"/\" + Maximum.class.getName().replace('.', '/') + \".class\";\n",
    "\n",
    "InputStream original =  Maximum.class.getResourceAsStream(resource);\n",
    "final byte[] instrumented = instr.instrument(original, targetName);\n",
    "original.close();"
   ]
  },
  {
   "cell_type": "markdown",
   "id": "3cdbed9f",
   "metadata": {},
   "source": [
    "Das Byte-Array `instrumented` enthält die rohen Bytes der instrumentierten Klasse. Diese müssen noch geladen werden."
   ]
  },
  {
   "cell_type": "code",
   "execution_count": 55,
   "id": "ff349f83",
   "metadata": {},
   "outputs": [],
   "source": [
    "public class MemoryClassLoader extends ClassLoader {\n",
    "\n",
    "    private final Map<String, byte[]> definitions = new HashMap<String, byte[]>();\n",
    "\n",
    "    public void addDefinition(final String name, final byte[] bytes) {\n",
    "        definitions.put(name, bytes);\n",
    "    }\n",
    "\n",
    "    @Override\n",
    "    protected Class<?> loadClass(final String name, final boolean resolve) throws ClassNotFoundException {\n",
    "        final byte[] bytes = definitions.get(name);\n",
    "        if (bytes != null) {\n",
    "            return defineClass(name, bytes, 0, bytes.length);\n",
    "        }\n",
    "        return super.loadClass(name, resolve);\n",
    "    }\n",
    "}"
   ]
  },
  {
   "cell_type": "code",
   "execution_count": 56,
   "id": "1cda2176",
   "metadata": {},
   "outputs": [],
   "source": [
    "// In this tutorial we use a special class loader to directly load the\n",
    "// instrumented class definition from a byte[] instances.\n",
    "final MemoryClassLoader memoryClassLoader = new MemoryClassLoader();\n",
    "memoryClassLoader.addDefinition(targetName, instrumented);\n",
    "final Class<?> targetClass = memoryClassLoader.loadClass(targetName);"
   ]
  },
  {
   "cell_type": "markdown",
   "id": "b6c0cf4a",
   "metadata": {},
   "source": [
    "Die Klasse `targetClass` ist eine modifizierte Variante von `Maximum`, die zusätzliche Instruktionen für Jacoco enthält."
   ]
  },
  {
   "cell_type": "code",
   "execution_count": 57,
   "id": "172514e4",
   "metadata": {},
   "outputs": [],
   "source": [
    "// Jacoco initialisieren\n",
    "final RuntimeData data = new RuntimeData();\n",
    "runtime.startup(data);"
   ]
  },
  {
   "cell_type": "markdown",
   "id": "14403b1f",
   "metadata": {},
   "source": [
    "Wir simulieren nun die Ausführung eines Tests, bei dem der erste Parameter größer als der zweite ist."
   ]
  },
  {
   "cell_type": "code",
   "execution_count": 58,
   "id": "bcaedc7c",
   "metadata": {},
   "outputs": [
    {
     "data": {
      "text/plain": [
       "50"
      ]
     },
     "execution_count": 58,
     "metadata": {},
     "output_type": "execute_result"
    }
   ],
   "source": [
    "// Entspricht der Ausführung von new Maximum().get(50, 10);\n",
    "\n",
    "Object targetInstance = targetClass.newInstance();\n",
    "Method method = targetClass.getMethod(\"get\", int.class, int.class);\n",
    "method.invoke(targetInstance, 50, 10);"
   ]
  },
  {
   "cell_type": "markdown",
   "id": "7052290e",
   "metadata": {},
   "source": [
    "Danach kommt die Auswertung durch Jacoco (wie gesagt normal automatisch und ohne dass man sich explizit darum kümmern muss)."
   ]
  },
  {
   "cell_type": "code",
   "execution_count": 59,
   "id": "7d7dbc7b",
   "metadata": {},
   "outputs": [],
   "source": [
    "final ExecutionDataStore executionData = new ExecutionDataStore();\n",
    "final SessionInfoStore sessionInfos = new SessionInfoStore();\n",
    "data.collect(executionData, sessionInfos, false);\n",
    "//runtime.shutdown();"
   ]
  },
  {
   "cell_type": "code",
   "execution_count": 60,
   "id": "36a369b5",
   "metadata": {},
   "outputs": [],
   "source": [
    "final CoverageBuilder coverageBuilder = new CoverageBuilder();\n",
    "final Analyzer analyzer = new Analyzer(executionData, coverageBuilder);\n",
    "analyzer.analyzeClass(Maximum.class.getResourceAsStream(resource), \"Maximum\");\n",
    "original.close();"
   ]
  },
  {
   "cell_type": "code",
   "execution_count": 61,
   "id": "e5dcba4d",
   "metadata": {},
   "outputs": [],
   "source": [
    "void printCounter(final String unit, final ICounter counter) {\n",
    "    final Integer missed = Integer.valueOf(counter.getMissedCount());\n",
    "    final Integer total = Integer.valueOf(counter.getTotalCount());\n",
    "    System.out.printf(\"%s of %s %s missed%n\", missed, total, unit);\n",
    "}"
   ]
  },
  {
   "cell_type": "code",
   "execution_count": 62,
   "id": "370c5d22",
   "metadata": {},
   "outputs": [],
   "source": [
    "String getColor(final int status) {\n",
    "    switch (status) {\n",
    "    case ICounter.NOT_COVERED:\n",
    "        return \"red\";\n",
    "    case ICounter.PARTLY_COVERED:\n",
    "        return \"yellow\";\n",
    "    case ICounter.FULLY_COVERED:\n",
    "        return \"green\";\n",
    "    }\n",
    "    return \"\";\n",
    "}"
   ]
  },
  {
   "cell_type": "code",
   "execution_count": 63,
   "id": "7c1bb661",
   "metadata": {},
   "outputs": [
    {
     "name": "stdout",
     "output_type": "stream",
     "text": [
      "Coverage of class REPL/$JShell$12G$Maximum\n",
      "2 of 10 instructions missed\n",
      "1 of 2 branches missed\n",
      "1 of 4 lines missed\n",
      "0 of 2 methods missed\n",
      "1 of 3 complexity missed\n"
     ]
    }
   ],
   "source": [
    "for (final IClassCoverage cc : coverageBuilder.getClasses()) {\n",
    "    System.out.printf(\"Coverage of class %s%n\", cc.getName());\n",
    "\n",
    "    printCounter(\"instructions\", cc.getInstructionCounter());\n",
    "    printCounter(\"branches\", cc.getBranchCounter());\n",
    "    printCounter(\"lines\", cc.getLineCounter());\n",
    "    printCounter(\"methods\", cc.getMethodCounter());\n",
    "    printCounter(\"complexity\", cc.getComplexityCounter());\n",
    "}"
   ]
  },
  {
   "cell_type": "markdown",
   "id": "5f1ea349",
   "metadata": {},
   "source": [
    "Jacoco erzeugt an dieser Stelle einen Bericht der in etwa so aussieht:"
   ]
  },
  {
   "cell_type": "markdown",
   "id": "ce69eec8",
   "metadata": {},
   "source": [
    "![Jacoco coverage report](img/3/jacoco1.png)"
   ]
  },
  {
   "cell_type": "markdown",
   "id": "2b6698cc",
   "metadata": {},
   "source": [
    "Anhand dieser Information können wir erkennen, dass wir noch keinen Test für den Fall haben, dass der zweite Parameter der größere ist. Führen wir den nun auch noch aus:"
   ]
  },
  {
   "cell_type": "code",
   "execution_count": 64,
   "id": "f9c2cd36",
   "metadata": {},
   "outputs": [],
   "source": [
    "// Test 2\n",
    "method.invoke(targetInstance, 10, 50);\n",
    "\n",
    "// Jacoco abschliessen\n",
    "// final ExecutionDataStore executionData = new ExecutionDataStore();\n",
    "// final SessionInfoStore sessionInfos = new SessionInfoStore();\n",
    "data.collect(executionData, sessionInfos, false);\n",
    "// runtime.shutdown();\n",
    "\n",
    "// Coverageauswertung\n",
    "final CoverageBuilder coverageBuilder = new CoverageBuilder();\n",
    "final Analyzer analyzer = new Analyzer(executionData, coverageBuilder);\n",
    "analyzer.analyzeClass(Maximum.class.getResourceAsStream(resource), \"Maximum\");\n",
    "//original.close();"
   ]
  },
  {
   "cell_type": "code",
   "execution_count": 65,
   "id": "f9c5fbee",
   "metadata": {},
   "outputs": [
    {
     "name": "stdout",
     "output_type": "stream",
     "text": [
      "Coverage of class REPL/$JShell$12G$Maximum\n",
      "0 of 10 instructions missed\n",
      "0 of 2 branches missed\n",
      "0 of 4 lines missed\n",
      "0 of 2 methods missed\n",
      "0 of 3 complexity missed\n"
     ]
    }
   ],
   "source": [
    "for (final IClassCoverage cc : coverageBuilder.getClasses()) {\n",
    "    System.out.printf(\"Coverage of class %s%n\", cc.getName());\n",
    "\n",
    "    printCounter(\"instructions\", cc.getInstructionCounter());\n",
    "    printCounter(\"branches\", cc.getBranchCounter());\n",
    "    printCounter(\"lines\", cc.getLineCounter());\n",
    "    printCounter(\"methods\", cc.getMethodCounter());\n",
    "    printCounter(\"complexity\", cc.getComplexityCounter());\n",
    "}"
   ]
  },
  {
   "cell_type": "markdown",
   "id": "70b65155",
   "metadata": {},
   "source": [
    "![Jacoco coverage report](img/3/jacoco2.png)"
   ]
  }
 ],
 "metadata": {
  "kernelspec": {
   "display_name": "Java",
   "language": "java",
   "name": "java"
  },
  "language_info": {
   "codemirror_mode": "java",
   "file_extension": ".jshell",
   "mimetype": "text/x-java-source",
   "name": "Java",
   "pygments_lexer": "java",
   "version": "18.0.1+0"
  }
 },
 "nbformat": 4,
 "nbformat_minor": 5
}
