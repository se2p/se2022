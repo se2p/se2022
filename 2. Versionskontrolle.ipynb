{
 "cells": [
  {
   "cell_type": "markdown",
   "id": "c9176d68",
   "metadata": {
    "slideshow": {
     "slide_type": "slide"
    }
   },
   "source": [
    "# Versionskontrolle"
   ]
  },
  {
   "cell_type": "markdown",
   "id": "9fe7b6a2",
   "metadata": {
    "slideshow": {
     "slide_type": "skip"
    }
   },
   "source": [
    "Dieses Jupyter Notebook enthält die Beispiele zur Vorlesung Versionsverwaltung mit Git. Um dieses Notebook auszuführen benötigt man einen (Bash-Kernel)[https://github.com/takluyver/bash_kernel]. Alle Kommandos in diesem Notebook simulieren die Ausführung an der Kommandozeile."
   ]
  },
  {
   "cell_type": "markdown",
   "id": "7a3e8635",
   "metadata": {
    "slideshow": {
     "slide_type": "slide"
    }
   },
   "source": [
    "## Diff"
   ]
  },
  {
   "cell_type": "markdown",
   "id": "1b96cf50",
   "metadata": {
    "slideshow": {
     "slide_type": "skip"
    }
   },
   "source": [
    "Bevor wir uns Git zuwenden, müssen wir zunächst die Darstellung von Unterschieden zwischen Dateien betrachten. Man nennt so einen Unterschied einen *Diff*, und erstellt werden diese vom klassischen Werkzeug `diff`."
   ]
  },
  {
   "cell_type": "markdown",
   "id": "80566f2a",
   "metadata": {
    "slideshow": {
     "slide_type": "skip"
    }
   },
   "source": [
    "Gegeben seien zwei Beispieldateien (deren Inhalt wir uns mit `cat` ansehen können):"
   ]
  },
  {
   "cell_type": "code",
   "execution_count": 1,
   "id": "051ad174",
   "metadata": {
    "slideshow": {
     "slide_type": "fragment"
    }
   },
   "outputs": [
    {
     "name": "stdout",
     "output_type": "stream",
     "text": [
      "public class Example {\n",
      "  public boolean foo(int x, int y) {\n",
      "    if(x < y)\n",
      "      return true;\n",
      "\n",
      "    return false;\n",
      "  }\n",
      "}\n"
     ]
    }
   ],
   "source": [
    "cat data/git/Example1.java"
   ]
  },
  {
   "cell_type": "code",
   "execution_count": 2,
   "id": "687ee810",
   "metadata": {
    "slideshow": {
     "slide_type": "fragment"
    }
   },
   "outputs": [
    {
     "name": "stdout",
     "output_type": "stream",
     "text": [
      "public class Example {\n",
      "  public boolean foo(int v, int w) {\n",
      "    if(v < w)\n",
      "      return true;\n",
      "\n",
      "    return false;\n",
      "  }\n",
      "}\n"
     ]
    }
   ],
   "source": [
    "cat data/git/Example2.java"
   ]
  },
  {
   "cell_type": "markdown",
   "id": "5bf5f263",
   "metadata": {
    "slideshow": {
     "slide_type": "skip"
    }
   },
   "source": [
    "Der Unterschied zwischen den beiden Dateien kann mit `diff <datei1> <datei2>` angezeigt werden."
   ]
  },
  {
   "cell_type": "code",
   "execution_count": 3,
   "id": "1cd2bb40",
   "metadata": {
    "slideshow": {
     "slide_type": "slide"
    }
   },
   "outputs": [
    {
     "name": "stdout",
     "output_type": "stream",
     "text": [
      "2,3c2,3\n",
      "<   public boolean foo(int x, int y) {\n",
      "<     if(x < y)\n",
      "---\n",
      ">   public boolean foo(int v, int w) {\n",
      ">     if(v < w)\n"
     ]
    },
    {
     "ename": "",
     "evalue": "1",
     "output_type": "error",
     "traceback": []
    }
   ],
   "source": [
    "diff data/git/Example1.java data/git/Example2.java"
   ]
  },
  {
   "cell_type": "markdown",
   "id": "07e47968",
   "metadata": {
    "slideshow": {
     "slide_type": "skip"
    }
   },
   "source": [
    "Angezeigt werden nur jene Zeilen, bei denen sich die beiden Dateien unterscheiden. Zeilen mit dem Prefix `<` enstammen der ersten Datei, und jene mit dem Prefix `>` sind die entsprechenden Zeilen in der zweiten Datei."
   ]
  },
  {
   "cell_type": "markdown",
   "id": "deb455e3",
   "metadata": {
    "slideshow": {
     "slide_type": "skip"
    }
   },
   "source": [
    "Sehen wir uns ein Beispiel an, bei dem neue Zeilen im Vergleich zur ersten Datei hinzugefügt wurden:"
   ]
  },
  {
   "cell_type": "code",
   "execution_count": 4,
   "id": "03102b1a",
   "metadata": {
    "slideshow": {
     "slide_type": "slide"
    }
   },
   "outputs": [
    {
     "name": "stdout",
     "output_type": "stream",
     "text": [
      "public class Example {\n",
      "  public boolean foo(int x, int y) {\n",
      "    if(x < y)\n",
      "      return true;\n",
      "\n",
      "    if(x == y)\n",
      "      return true;\n",
      "\n",
      "    return false;\n",
      "  }\n",
      "}\n"
     ]
    }
   ],
   "source": [
    "cat data/git/Example3.java"
   ]
  },
  {
   "cell_type": "code",
   "execution_count": 5,
   "id": "71e8d336",
   "metadata": {
    "slideshow": {
     "slide_type": "fragment"
    }
   },
   "outputs": [
    {
     "name": "stdout",
     "output_type": "stream",
     "text": [
      "5a6,8\n",
      ">     if(x == y)\n",
      ">       return true;\n",
      "> \n"
     ]
    },
    {
     "ename": "",
     "evalue": "1",
     "output_type": "error",
     "traceback": []
    }
   ],
   "source": [
    "diff data/git/Example1.java data/git/Example3.java"
   ]
  },
  {
   "cell_type": "markdown",
   "id": "8d6f1e1f",
   "metadata": {
    "slideshow": {
     "slide_type": "skip"
    }
   },
   "source": [
    "Nun noch ein Beispiel bei dem Zeilen entfernt wurden."
   ]
  },
  {
   "cell_type": "code",
   "execution_count": 6,
   "id": "21b5da79",
   "metadata": {
    "slideshow": {
     "slide_type": "slide"
    }
   },
   "outputs": [
    {
     "name": "stdout",
     "output_type": "stream",
     "text": [
      "public class Example {\n",
      "  public boolean foo(int x, int y) {\n",
      "\n",
      "    return false;\n",
      "  }\n",
      "}\n"
     ]
    }
   ],
   "source": [
    "cat data/git/Example4.java"
   ]
  },
  {
   "cell_type": "code",
   "execution_count": 7,
   "id": "a04a73a1",
   "metadata": {
    "slideshow": {
     "slide_type": "fragment"
    }
   },
   "outputs": [
    {
     "name": "stdout",
     "output_type": "stream",
     "text": [
      "3,4d2\n",
      "<     if(x < y)\n",
      "<       return true;\n"
     ]
    },
    {
     "ename": "",
     "evalue": "1",
     "output_type": "error",
     "traceback": []
    }
   ],
   "source": [
    "diff data/git/Example1.java data/git/Example4.java"
   ]
  },
  {
   "cell_type": "markdown",
   "id": "4f96718a",
   "metadata": {
    "slideshow": {
     "slide_type": "slide"
    }
   },
   "source": [
    "### Context"
   ]
  },
  {
   "cell_type": "markdown",
   "id": "d6589922",
   "metadata": {
    "slideshow": {
     "slide_type": "skip"
    }
   },
   "source": [
    "Um einen Diff besser zu verstehen, kann man sich den Kontext, also die Zeilen rund um die Änderung, mitanzeigen lassen."
   ]
  },
  {
   "cell_type": "code",
   "execution_count": 8,
   "id": "9cdb2ac5",
   "metadata": {
    "slideshow": {
     "slide_type": "fragment"
    }
   },
   "outputs": [
    {
     "name": "stdout",
     "output_type": "stream",
     "text": [
      "*** data/git/Example1.java\tFri Apr 29 11:57:24 2022\n",
      "--- data/git/Example2.java\tFri Apr 29 11:57:37 2022\n",
      "***************\n",
      "*** 1,6 ****\n",
      "  public class Example {\n",
      "!   public boolean foo(int x, int y) {\n",
      "!     if(x < y)\n",
      "        return true;\n",
      "  \n",
      "      return false;\n",
      "--- 1,6 ----\n",
      "  public class Example {\n",
      "!   public boolean foo(int v, int w) {\n",
      "!     if(v < w)\n",
      "        return true;\n",
      "  \n",
      "      return false;\n"
     ]
    },
    {
     "ename": "",
     "evalue": "1",
     "output_type": "error",
     "traceback": []
    }
   ],
   "source": [
    "diff -c data/git/Example1.java data/git/Example2.java"
   ]
  },
  {
   "cell_type": "code",
   "execution_count": 9,
   "id": "ec3b1090",
   "metadata": {
    "slideshow": {
     "slide_type": "slide"
    }
   },
   "outputs": [
    {
     "name": "stdout",
     "output_type": "stream",
     "text": [
      "*** data/git/Example1.java\tFri Apr 29 11:57:24 2022\n",
      "--- data/git/Example3.java\tFri Apr 29 11:58:35 2022\n",
      "***************\n",
      "*** 3,8 ****\n",
      "--- 3,11 ----\n",
      "      if(x < y)\n",
      "        return true;\n",
      "  \n",
      "+     if(x == y)\n",
      "+       return true;\n",
      "+ \n",
      "      return false;\n",
      "    }\n",
      "  }\n"
     ]
    },
    {
     "ename": "",
     "evalue": "1",
     "output_type": "error",
     "traceback": []
    }
   ],
   "source": [
    "diff -c data/git/Example1.java data/git/Example3.java"
   ]
  },
  {
   "cell_type": "code",
   "execution_count": 10,
   "id": "5c580b83",
   "metadata": {
    "slideshow": {
     "slide_type": "fragment"
    }
   },
   "outputs": [
    {
     "name": "stdout",
     "output_type": "stream",
     "text": [
      "*** data/git/Example1.java\tFri Apr 29 11:57:24 2022\n",
      "--- data/git/Example4.java\tFri Apr 29 11:59:14 2022\n",
      "***************\n",
      "*** 1,7 ****\n",
      "  public class Example {\n",
      "    public boolean foo(int x, int y) {\n",
      "-     if(x < y)\n",
      "-       return true;\n",
      "  \n",
      "      return false;\n",
      "    }\n",
      "--- 1,5 ----\n"
     ]
    },
    {
     "ename": "",
     "evalue": "1",
     "output_type": "error",
     "traceback": []
    }
   ],
   "source": [
    "diff -c data/git/Example1.java data/git/Example4.java"
   ]
  },
  {
   "cell_type": "markdown",
   "id": "26ac9db9",
   "metadata": {
    "slideshow": {
     "slide_type": "slide"
    }
   },
   "source": [
    "### Unified diff format"
   ]
  },
  {
   "cell_type": "markdown",
   "id": "f2d0925d",
   "metadata": {
    "slideshow": {
     "slide_type": "skip"
    }
   },
   "source": [
    "Als Austauschformat wird das _Unified_-Diff-Format verwendet"
   ]
  },
  {
   "cell_type": "code",
   "execution_count": 11,
   "id": "6c396b1d",
   "metadata": {
    "slideshow": {
     "slide_type": "fragment"
    }
   },
   "outputs": [
    {
     "name": "stdout",
     "output_type": "stream",
     "text": [
      "--- data/git/Example1.java\t2022-04-29 11:57:24.000000000 +0200\n",
      "+++ data/git/Example2.java\t2022-04-29 11:57:37.000000000 +0200\n",
      "@@ -1,6 +1,6 @@\n",
      " public class Example {\n",
      "-  public boolean foo(int x, int y) {\n",
      "-    if(x < y)\n",
      "+  public boolean foo(int v, int w) {\n",
      "+    if(v < w)\n",
      "       return true;\n",
      " \n",
      "     return false;\n"
     ]
    },
    {
     "ename": "",
     "evalue": "1",
     "output_type": "error",
     "traceback": []
    }
   ],
   "source": [
    "diff -u data/git/Example1.java data/git/Example2.java"
   ]
  },
  {
   "cell_type": "markdown",
   "id": "dda1ce72",
   "metadata": {
    "slideshow": {
     "slide_type": "skip"
    }
   },
   "source": [
    "Zeilen mit Präfix `+` wurden hinzugefügt, mit Präfix `-` entfernt."
   ]
  },
  {
   "cell_type": "code",
   "execution_count": 12,
   "id": "891198f4",
   "metadata": {
    "slideshow": {
     "slide_type": "slide"
    }
   },
   "outputs": [
    {
     "name": "stdout",
     "output_type": "stream",
     "text": [
      "--- data/git/Example1.java\t2022-04-29 11:57:24.000000000 +0200\n",
      "+++ data/git/Example3.java\t2022-04-29 11:58:35.000000000 +0200\n",
      "@@ -3,6 +3,9 @@\n",
      "     if(x < y)\n",
      "       return true;\n",
      " \n",
      "+    if(x == y)\n",
      "+      return true;\n",
      "+\n",
      "     return false;\n",
      "   }\n",
      " }\n"
     ]
    },
    {
     "ename": "",
     "evalue": "1",
     "output_type": "error",
     "traceback": []
    }
   ],
   "source": [
    "diff -u data/git/Example1.java data/git/Example3.java"
   ]
  },
  {
   "cell_type": "code",
   "execution_count": 13,
   "id": "06980af3",
   "metadata": {
    "slideshow": {
     "slide_type": "fragment"
    }
   },
   "outputs": [
    {
     "name": "stdout",
     "output_type": "stream",
     "text": [
      "--- data/git/Example1.java\t2022-04-29 11:57:24.000000000 +0200\n",
      "+++ data/git/Example4.java\t2022-04-29 11:59:14.000000000 +0200\n",
      "@@ -1,7 +1,5 @@\n",
      " public class Example {\n",
      "   public boolean foo(int x, int y) {\n",
      "-    if(x < y)\n",
      "-      return true;\n",
      " \n",
      "     return false;\n",
      "   }\n"
     ]
    },
    {
     "ename": "",
     "evalue": "1",
     "output_type": "error",
     "traceback": []
    }
   ],
   "source": [
    "diff -u data/git/Example1.java data/git/Example4.java"
   ]
  },
  {
   "cell_type": "markdown",
   "id": "b9ffb621",
   "metadata": {
    "slideshow": {
     "slide_type": "slide"
    }
   },
   "source": [
    "## Patch"
   ]
  },
  {
   "cell_type": "markdown",
   "id": "e7230068",
   "metadata": {
    "slideshow": {
     "slide_type": "skip"
    }
   },
   "source": [
    "Das Unified Diff Format erlaubt es, bestehende Dateien anzupassen. Der Unterschied wird dazu in einem *Patch* gespeichert."
   ]
  },
  {
   "cell_type": "code",
   "execution_count": 14,
   "id": "480a0f7b",
   "metadata": {
    "slideshow": {
     "slide_type": "fragment"
    }
   },
   "outputs": [
    {
     "ename": "",
     "evalue": "1",
     "output_type": "error",
     "traceback": []
    }
   ],
   "source": [
    "diff -u data/git/Example1.java data/git/Example2.java > patch.txt"
   ]
  },
  {
   "cell_type": "code",
   "execution_count": 15,
   "id": "cde57469",
   "metadata": {
    "slideshow": {
     "slide_type": "fragment"
    }
   },
   "outputs": [
    {
     "name": "stdout",
     "output_type": "stream",
     "text": [
      "--- data/git/Example1.java\t2022-04-29 11:57:24.000000000 +0200\n",
      "+++ data/git/Example2.java\t2022-04-29 11:57:37.000000000 +0200\n",
      "@@ -1,6 +1,6 @@\n",
      " public class Example {\n",
      "-  public boolean foo(int x, int y) {\n",
      "-    if(x < y)\n",
      "+  public boolean foo(int v, int w) {\n",
      "+    if(v < w)\n",
      "       return true;\n",
      " \n",
      "     return false;\n"
     ]
    }
   ],
   "source": [
    "cat patch.txt"
   ]
  },
  {
   "cell_type": "code",
   "execution_count": 16,
   "id": "8793d2c8",
   "metadata": {
    "slideshow": {
     "slide_type": "slide"
    }
   },
   "outputs": [],
   "source": [
    "cp data/git/Example1.java Example.java"
   ]
  },
  {
   "cell_type": "code",
   "execution_count": 17,
   "id": "2f89274b",
   "metadata": {
    "slideshow": {
     "slide_type": "fragment"
    }
   },
   "outputs": [
    {
     "name": "stdout",
     "output_type": "stream",
     "text": [
      "public class Example {\n",
      "  public boolean foo(int x, int y) {\n",
      "    if(x < y)\n",
      "      return true;\n",
      "\n",
      "    return false;\n",
      "  }\n",
      "}\n"
     ]
    }
   ],
   "source": [
    "cat Example.java"
   ]
  },
  {
   "cell_type": "markdown",
   "id": "59517874",
   "metadata": {
    "slideshow": {
     "slide_type": "skip"
    }
   },
   "source": [
    "Um die Datei `Example.java` nun basierend auf unserem Patch zu verändern, benötigen wir das Kommando `patch`."
   ]
  },
  {
   "cell_type": "code",
   "execution_count": 18,
   "id": "c8fe975f",
   "metadata": {
    "slideshow": {
     "slide_type": "fragment"
    }
   },
   "outputs": [
    {
     "name": "stdout",
     "output_type": "stream",
     "text": [
      "patching file Example.java\n"
     ]
    }
   ],
   "source": [
    "patch -p0 Example.java < patch.txt"
   ]
  },
  {
   "cell_type": "code",
   "execution_count": 19,
   "id": "b2b72edb",
   "metadata": {
    "slideshow": {
     "slide_type": "fragment"
    }
   },
   "outputs": [
    {
     "name": "stdout",
     "output_type": "stream",
     "text": [
      "public class Example {\n",
      "  public boolean foo(int v, int w) {\n",
      "    if(v < w)\n",
      "      return true;\n",
      "\n",
      "    return false;\n",
      "  }\n",
      "}\n"
     ]
    }
   ],
   "source": [
    "cat Example.java"
   ]
  },
  {
   "cell_type": "code",
   "execution_count": 20,
   "id": "5cfbc40a",
   "metadata": {
    "slideshow": {
     "slide_type": "skip"
    }
   },
   "outputs": [],
   "source": [
    "# Nur um das Jupyter Notebook aufzuräumen...\n",
    "rm patch.txt\n",
    "rm Example.java"
   ]
  },
  {
   "cell_type": "markdown",
   "id": "1d5ef287",
   "metadata": {
    "slideshow": {
     "slide_type": "slide"
    }
   },
   "source": [
    "## Git"
   ]
  },
  {
   "cell_type": "markdown",
   "id": "0d0a5c69",
   "metadata": {
    "slideshow": {
     "slide_type": "skip"
    }
   },
   "source": [
    "Wir verwenden zur Versionsverwaltung das Programm `git`. Git ist in alle modernen IDEs direkt integriert, wir verwenden hier jedoch die Kommandozeilen-Version."
   ]
  },
  {
   "cell_type": "markdown",
   "id": "095eb052",
   "metadata": {
    "slideshow": {
     "slide_type": "skip"
    }
   },
   "source": [
    "Zunächst legen wir uns nur ein temporäres Verzeichnis an, damit das Jupyter Notebook nicht zugemüllt wird..."
   ]
  },
  {
   "cell_type": "code",
   "execution_count": 21,
   "id": "79e10ea8",
   "metadata": {
    "slideshow": {
     "slide_type": "skip"
    }
   },
   "outputs": [],
   "source": [
    "rm -rf tmp\n",
    "mkdir -p tmp\n",
    "cd tmp"
   ]
  },
  {
   "cell_type": "markdown",
   "id": "1e4be888",
   "metadata": {
    "slideshow": {
     "slide_type": "skip"
    }
   },
   "source": [
    "Wir nehmen an Entwickler 1 hat einen Workspace im Verzeichnis `dev1."
   ]
  },
  {
   "cell_type": "code",
   "execution_count": 22,
   "id": "e9283f6b",
   "metadata": {
    "slideshow": {
     "slide_type": "fragment"
    }
   },
   "outputs": [],
   "source": [
    "mkdir -p dev1\n",
    "cd dev1"
   ]
  },
  {
   "cell_type": "markdown",
   "id": "85462bb8",
   "metadata": {
    "slideshow": {
     "slide_type": "skip"
    }
   },
   "source": [
    "Wir legen hier nun ein neues Git Repository an."
   ]
  },
  {
   "cell_type": "code",
   "execution_count": 23,
   "id": "cc99a7b9",
   "metadata": {
    "slideshow": {
     "slide_type": "fragment"
    }
   },
   "outputs": [
    {
     "name": "stdout",
     "output_type": "stream",
     "text": [
      "Initialized empty Git repository in /Users/gordon/Documents/Notebooks/se2022/tmp/dev1/.git/\n"
     ]
    }
   ],
   "source": [
    "git init"
   ]
  },
  {
   "cell_type": "markdown",
   "id": "59084a13",
   "metadata": {
    "slideshow": {
     "slide_type": "skip"
    }
   },
   "source": [
    "Um Veränderungen im Workspace zu simulieren, fügen wir eine Datei `hello.txt` hinzu."
   ]
  },
  {
   "cell_type": "code",
   "execution_count": 24,
   "id": "6629bc0e",
   "metadata": {
    "slideshow": {
     "slide_type": "fragment"
    }
   },
   "outputs": [],
   "source": [
    "echo \"Hallo SE 2022\" > hello.txt"
   ]
  },
  {
   "cell_type": "code",
   "execution_count": 25,
   "id": "749cf46d",
   "metadata": {
    "slideshow": {
     "slide_type": "fragment"
    }
   },
   "outputs": [
    {
     "name": "stdout",
     "output_type": "stream",
     "text": [
      "hello.txt\n"
     ]
    }
   ],
   "source": [
    "ls"
   ]
  },
  {
   "cell_type": "markdown",
   "id": "aa6fc46c",
   "metadata": {
    "slideshow": {
     "slide_type": "skip"
    }
   },
   "source": [
    "Um diese neue Datei in die Versionsverwaltung aufzunehmen, dient das `add` Kommando in Git."
   ]
  },
  {
   "cell_type": "code",
   "execution_count": 26,
   "id": "bbdc1b26",
   "metadata": {
    "slideshow": {
     "slide_type": "fragment"
    }
   },
   "outputs": [],
   "source": [
    "git add hello.txt"
   ]
  },
  {
   "cell_type": "markdown",
   "id": "16e02e44",
   "metadata": {
    "slideshow": {
     "slide_type": "skip"
    }
   },
   "source": [
    "Damit befindet sich die Datei auf der \"Stage\". Um sie ins Repository einzuchecken, dient das `commit` Kommando."
   ]
  },
  {
   "cell_type": "code",
   "execution_count": 27,
   "id": "d1b8f119",
   "metadata": {
    "slideshow": {
     "slide_type": "fragment"
    }
   },
   "outputs": [
    {
     "name": "stdout",
     "output_type": "stream",
     "text": [
      "[master (root-commit) d5d76ff] Add hello\n",
      " 1 file changed, 1 insertion(+)\n",
      " create mode 100644 hello.txt\n"
     ]
    }
   ],
   "source": [
    "git commit -m \"Add hello\""
   ]
  },
  {
   "cell_type": "markdown",
   "id": "b4a67097",
   "metadata": {
    "slideshow": {
     "slide_type": "skip"
    }
   },
   "source": [
    "Git-Output wird mit einem \"Pager\" angezeigt, der per Default auf einen Tastendruck wartet. Nachdem das im Jupyter Notebook nicht geht, müssen wir den an dieser Stelle umkonfigurieren. Das ist normalerweise nicht notwendig."
   ]
  },
  {
   "cell_type": "code",
   "execution_count": 28,
   "id": "0f89a989",
   "metadata": {
    "slideshow": {
     "slide_type": "slide"
    }
   },
   "outputs": [],
   "source": [
    "# Only required for presenting in the Jupyter notebook\n",
    "export GIT_PAGER=cat"
   ]
  },
  {
   "cell_type": "markdown",
   "id": "9d030231",
   "metadata": {
    "slideshow": {
     "slide_type": "skip"
    }
   },
   "source": [
    "Die Historie unserers Repositories können wir mit `log` ansehen."
   ]
  },
  {
   "cell_type": "code",
   "execution_count": 29,
   "id": "3fa6c29c",
   "metadata": {
    "slideshow": {
     "slide_type": "fragment"
    }
   },
   "outputs": [
    {
     "name": "stdout",
     "output_type": "stream",
     "text": [
      "\u001b[33mcommit d5d76ffac5d4980c5cd31c5e30931741ba308d65\u001b[m\u001b[33m (\u001b[m\u001b[1;36mHEAD -> \u001b[m\u001b[1;32mmaster\u001b[m\u001b[33m)\u001b[m\n",
      "Author: Gordon Fraser <gordon.fraser@uni-passau.de>\n",
      "Date:   Sun May 1 11:28:42 2022 +0200\n",
      "\n",
      "    Add hello\n"
     ]
    }
   ],
   "source": [
    "git log"
   ]
  },
  {
   "cell_type": "markdown",
   "id": "19628b8d",
   "metadata": {
    "slideshow": {
     "slide_type": "skip"
    }
   },
   "source": [
    "Nun verändern wir die Datei nochmal (und simulieren damit, dass Entwickler 1 arbeitet)."
   ]
  },
  {
   "cell_type": "code",
   "execution_count": 30,
   "id": "cb078997",
   "metadata": {
    "slideshow": {
     "slide_type": "fragment"
    }
   },
   "outputs": [],
   "source": [
    "echo \"Hello again\" >> hello.txt"
   ]
  },
  {
   "cell_type": "markdown",
   "id": "89d470a9",
   "metadata": {
    "slideshow": {
     "slide_type": "skip"
    }
   },
   "source": [
    "Den Status unseres Workspaces können wir mit `status` einsehen."
   ]
  },
  {
   "cell_type": "code",
   "execution_count": 31,
   "id": "bd33c561",
   "metadata": {
    "slideshow": {
     "slide_type": "fragment"
    }
   },
   "outputs": [
    {
     "name": "stdout",
     "output_type": "stream",
     "text": [
      "On branch master\n",
      "Changes not staged for commit:\n",
      "  (use \"git add <file>...\" to update what will be committed)\n",
      "  (use \"git restore <file>...\" to discard changes in working directory)\n",
      "\t\u001b[31mmodified:   hello.txt\u001b[m\n",
      "\n",
      "no changes added to commit (use \"git add\" and/or \"git commit -a\")\n"
     ]
    }
   ],
   "source": [
    "git status"
   ]
  },
  {
   "cell_type": "markdown",
   "id": "d6ba813e",
   "metadata": {
    "slideshow": {
     "slide_type": "skip"
    }
   },
   "source": [
    "Wenn wir wissen wollen, was verändert wurde, können wir uns einen Diff anzeigen lassen."
   ]
  },
  {
   "cell_type": "code",
   "execution_count": 32,
   "id": "c29885ec",
   "metadata": {
    "slideshow": {
     "slide_type": "slide"
    }
   },
   "outputs": [
    {
     "name": "stdout",
     "output_type": "stream",
     "text": [
      "\u001b[1mdiff --git a/hello.txt b/hello.txt\u001b[m\n",
      "\u001b[1mindex 1e018b0..be11c11 100644\u001b[m\n",
      "\u001b[1m--- a/hello.txt\u001b[m\n",
      "\u001b[1m+++ b/hello.txt\u001b[m\n",
      "\u001b[36m@@ -1 +1,2 @@\u001b[m\n",
      " Hallo SE 2022\u001b[m\n",
      "\u001b[32m+\u001b[m\u001b[32mHello again\u001b[m\n"
     ]
    }
   ],
   "source": [
    "git diff"
   ]
  },
  {
   "cell_type": "markdown",
   "id": "2d5694dd",
   "metadata": {
    "slideshow": {
     "slide_type": "skip"
    }
   },
   "source": [
    "Das Committen der neuen Änderungen funktioniert wieder ähnlich."
   ]
  },
  {
   "cell_type": "code",
   "execution_count": 33,
   "id": "7b6d1f45",
   "metadata": {
    "slideshow": {
     "slide_type": "fragment"
    }
   },
   "outputs": [],
   "source": [
    "git add hello.txt"
   ]
  },
  {
   "cell_type": "code",
   "execution_count": 34,
   "id": "d50c63db",
   "metadata": {
    "slideshow": {
     "slide_type": "fragment"
    }
   },
   "outputs": [
    {
     "name": "stdout",
     "output_type": "stream",
     "text": [
      "[master 5c25393] Updated hello\n",
      " 1 file changed, 1 insertion(+)\n"
     ]
    }
   ],
   "source": [
    "git commit -m \"Updated hello\""
   ]
  },
  {
   "cell_type": "markdown",
   "id": "1334af9f",
   "metadata": {
    "slideshow": {
     "slide_type": "skip"
    }
   },
   "source": [
    "Die Historie zeigt uns nun zwei Änderungen."
   ]
  },
  {
   "cell_type": "code",
   "execution_count": 35,
   "id": "03fe6e07",
   "metadata": {
    "slideshow": {
     "slide_type": "slide"
    }
   },
   "outputs": [
    {
     "name": "stdout",
     "output_type": "stream",
     "text": [
      "\u001b[33mcommit 5c253932c176056e18725798219671e41e819d67\u001b[m\u001b[33m (\u001b[m\u001b[1;36mHEAD -> \u001b[m\u001b[1;32mmaster\u001b[m\u001b[33m)\u001b[m\n",
      "Author: Gordon Fraser <gordon.fraser@uni-passau.de>\n",
      "Date:   Sun May 1 11:28:46 2022 +0200\n",
      "\n",
      "    Updated hello\n",
      "\n",
      "\u001b[33mcommit d5d76ffac5d4980c5cd31c5e30931741ba308d65\u001b[m\n",
      "Author: Gordon Fraser <gordon.fraser@uni-passau.de>\n",
      "Date:   Sun May 1 11:28:42 2022 +0200\n",
      "\n",
      "    Add hello\n"
     ]
    }
   ],
   "source": [
    "git log"
   ]
  },
  {
   "cell_type": "markdown",
   "id": "649044ef",
   "metadata": {
    "slideshow": {
     "slide_type": "skip"
    }
   },
   "source": [
    "Wenn wir wissen wollen, wer zuletzt die Datei `hello.txt` geändert hat, dann finden wir das mit `blame` heraus."
   ]
  },
  {
   "cell_type": "code",
   "execution_count": 36,
   "id": "e72400ae",
   "metadata": {
    "slideshow": {
     "slide_type": "fragment"
    }
   },
   "outputs": [
    {
     "name": "stdout",
     "output_type": "stream",
     "text": [
      "^d5d76ff (Gordon Fraser 2022-05-01 11:28:42 +0200 1) Hallo SE 2022\n",
      "5c253932 (Gordon Fraser 2022-05-01 11:28:46 +0200 2) Hello again\n"
     ]
    }
   ],
   "source": [
    "git blame hello.txt"
   ]
  },
  {
   "cell_type": "markdown",
   "id": "2be9d695",
   "metadata": {
    "slideshow": {
     "slide_type": "slide"
    }
   },
   "source": [
    "### Nicht-committete Änderungen rückgängig machen"
   ]
  },
  {
   "cell_type": "markdown",
   "id": "57a458b6",
   "metadata": {
    "slideshow": {
     "slide_type": "skip"
    }
   },
   "source": [
    "Angenommen wir nehmen wieder eine lokale Änderung vor."
   ]
  },
  {
   "cell_type": "code",
   "execution_count": 37,
   "id": "c8c95c68",
   "metadata": {
    "slideshow": {
     "slide_type": "fragment"
    }
   },
   "outputs": [],
   "source": [
    "echo \"Hello yet again\" >> hello.txt"
   ]
  },
  {
   "cell_type": "code",
   "execution_count": 38,
   "id": "ab294fe8",
   "metadata": {
    "slideshow": {
     "slide_type": "fragment"
    }
   },
   "outputs": [
    {
     "name": "stdout",
     "output_type": "stream",
     "text": [
      "On branch master\n",
      "Changes not staged for commit:\n",
      "  (use \"git add <file>...\" to update what will be committed)\n",
      "  (use \"git restore <file>...\" to discard changes in working directory)\n",
      "\t\u001b[31mmodified:   hello.txt\u001b[m\n",
      "\n",
      "no changes added to commit (use \"git add\" and/or \"git commit -a\")\n"
     ]
    }
   ],
   "source": [
    "git status"
   ]
  },
  {
   "cell_type": "markdown",
   "id": "1a51c306",
   "metadata": {
    "slideshow": {
     "slide_type": "skip"
    }
   },
   "source": [
    "Wenn wir lokale Änderungen, die noch nicht \"staged\" oder \"committed\" sind, rückgängig machen wollen, dann können wir dazu einfach die Version in `HEAD` auschecken."
   ]
  },
  {
   "cell_type": "code",
   "execution_count": 39,
   "id": "e9d9bbe5",
   "metadata": {
    "slideshow": {
     "slide_type": "fragment"
    }
   },
   "outputs": [
    {
     "name": "stdout",
     "output_type": "stream",
     "text": [
      "Updated 1 path from the index\n"
     ]
    }
   ],
   "source": [
    "git checkout hello.txt"
   ]
  },
  {
   "cell_type": "code",
   "execution_count": 40,
   "id": "9ed8c718",
   "metadata": {
    "slideshow": {
     "slide_type": "fragment"
    }
   },
   "outputs": [
    {
     "name": "stdout",
     "output_type": "stream",
     "text": [
      "On branch master\n",
      "nothing to commit, working tree clean\n"
     ]
    }
   ],
   "source": [
    "git status"
   ]
  },
  {
   "cell_type": "code",
   "execution_count": 41,
   "id": "80a7a9fe",
   "metadata": {
    "slideshow": {
     "slide_type": "fragment"
    }
   },
   "outputs": [
    {
     "name": "stdout",
     "output_type": "stream",
     "text": [
      "Hallo SE 2022\n",
      "Hello again\n"
     ]
    }
   ],
   "source": [
    "cat hello.txt"
   ]
  },
  {
   "cell_type": "markdown",
   "id": "6ef43934",
   "metadata": {
    "slideshow": {
     "slide_type": "slide"
    }
   },
   "source": [
    "### Unstaging"
   ]
  },
  {
   "cell_type": "markdown",
   "id": "3995a55e",
   "metadata": {
    "slideshow": {
     "slide_type": "skip"
    }
   },
   "source": [
    "Nehmen wir noch eine Änderung vor:"
   ]
  },
  {
   "cell_type": "code",
   "execution_count": 42,
   "id": "358c297b",
   "metadata": {
    "slideshow": {
     "slide_type": "fragment"
    }
   },
   "outputs": [],
   "source": [
    "echo \"Hello yet again\" >> hello.txt\n",
    "git add hello.txt"
   ]
  },
  {
   "cell_type": "code",
   "execution_count": 43,
   "id": "27fae9d7",
   "metadata": {
    "slideshow": {
     "slide_type": "fragment"
    }
   },
   "outputs": [
    {
     "name": "stdout",
     "output_type": "stream",
     "text": [
      "On branch master\n",
      "Changes to be committed:\n",
      "  (use \"git restore --staged <file>...\" to unstage)\n",
      "\t\u001b[32mmodified:   hello.txt\u001b[m\n",
      "\n"
     ]
    }
   ],
   "source": [
    "git status"
   ]
  },
  {
   "cell_type": "markdown",
   "id": "41bf14d0",
   "metadata": {
    "slideshow": {
     "slide_type": "skip"
    }
   },
   "source": [
    "Diese Änderung ist nun schon \"staged\". Wenn wir diese Änderung rückgängig machen wollen, reicht ein \"checkout\" nicht aus:"
   ]
  },
  {
   "cell_type": "code",
   "execution_count": 44,
   "id": "837b4ba2",
   "metadata": {
    "slideshow": {
     "slide_type": "fragment"
    }
   },
   "outputs": [
    {
     "name": "stdout",
     "output_type": "stream",
     "text": [
      "Updated 0 paths from the index\n"
     ]
    }
   ],
   "source": [
    "git checkout hello.txt"
   ]
  },
  {
   "cell_type": "code",
   "execution_count": 45,
   "id": "352e894c",
   "metadata": {
    "slideshow": {
     "slide_type": "fragment"
    }
   },
   "outputs": [
    {
     "name": "stdout",
     "output_type": "stream",
     "text": [
      "On branch master\n",
      "Changes to be committed:\n",
      "  (use \"git restore --staged <file>...\" to unstage)\n",
      "\t\u001b[32mmodified:   hello.txt\u001b[m\n",
      "\n"
     ]
    }
   ],
   "source": [
    "git status"
   ]
  },
  {
   "cell_type": "markdown",
   "id": "c6767331",
   "metadata": {
    "slideshow": {
     "slide_type": "skip"
    }
   },
   "source": [
    "Zuvor müssen wir die Datei \"unstagen\":"
   ]
  },
  {
   "cell_type": "code",
   "execution_count": 46,
   "id": "cf62de98",
   "metadata": {
    "slideshow": {
     "slide_type": "subslide"
    }
   },
   "outputs": [
    {
     "name": "stdout",
     "output_type": "stream",
     "text": [
      "Unstaged changes after reset:\n",
      "M\thello.txt\n"
     ]
    }
   ],
   "source": [
    "git reset hello.txt"
   ]
  },
  {
   "cell_type": "code",
   "execution_count": 47,
   "id": "d254bea6",
   "metadata": {
    "slideshow": {
     "slide_type": "fragment"
    }
   },
   "outputs": [
    {
     "name": "stdout",
     "output_type": "stream",
     "text": [
      "On branch master\n",
      "Changes not staged for commit:\n",
      "  (use \"git add <file>...\" to update what will be committed)\n",
      "  (use \"git restore <file>...\" to discard changes in working directory)\n",
      "\t\u001b[31mmodified:   hello.txt\u001b[m\n",
      "\n",
      "no changes added to commit (use \"git add\" and/or \"git commit -a\")\n"
     ]
    }
   ],
   "source": [
    "git status"
   ]
  },
  {
   "cell_type": "markdown",
   "id": "a6c9447a",
   "metadata": {
    "slideshow": {
     "slide_type": "skip"
    }
   },
   "source": [
    "Aber committen wir die Änderung zunächst doch noch."
   ]
  },
  {
   "cell_type": "code",
   "execution_count": 48,
   "id": "81815ba8",
   "metadata": {
    "slideshow": {
     "slide_type": "fragment"
    }
   },
   "outputs": [
    {
     "name": "stdout",
     "output_type": "stream",
     "text": [
      "[master 1d29452] Hello the third\n",
      " 1 file changed, 1 insertion(+)\n"
     ]
    }
   ],
   "source": [
    "git add hello.txt\n",
    "git commit -m \"Hello the third\""
   ]
  },
  {
   "cell_type": "markdown",
   "id": "1290f378",
   "metadata": {
    "slideshow": {
     "slide_type": "slide"
    }
   },
   "source": [
    "### Reverting"
   ]
  },
  {
   "cell_type": "markdown",
   "id": "dd2792ec",
   "metadata": {
    "slideshow": {
     "slide_type": "skip"
    }
   },
   "source": [
    "Wir können eine beliebige Version der Datei `hello.txt` auschecken. Die folgenden Commits existieren:"
   ]
  },
  {
   "cell_type": "code",
   "execution_count": 49,
   "id": "085c3de7",
   "metadata": {
    "slideshow": {
     "slide_type": "fragment"
    }
   },
   "outputs": [
    {
     "name": "stdout",
     "output_type": "stream",
     "text": [
      "\u001b[33mcommit 1d294524aaf6159cebe7cee9a975e0ede76629bd\u001b[m\u001b[33m (\u001b[m\u001b[1;36mHEAD -> \u001b[m\u001b[1;32mmaster\u001b[m\u001b[33m)\u001b[m\n",
      "Author: Gordon Fraser <gordon.fraser@uni-passau.de>\n",
      "Date:   Sun May 1 11:28:55 2022 +0200\n",
      "\n",
      "    Hello the third\n",
      "\n",
      "\u001b[33mcommit 5c253932c176056e18725798219671e41e819d67\u001b[m\n",
      "Author: Gordon Fraser <gordon.fraser@uni-passau.de>\n",
      "Date:   Sun May 1 11:28:46 2022 +0200\n",
      "\n",
      "    Updated hello\n",
      "\n",
      "\u001b[33mcommit d5d76ffac5d4980c5cd31c5e30931741ba308d65\u001b[m\n",
      "Author: Gordon Fraser <gordon.fraser@uni-passau.de>\n",
      "Date:   Sun May 1 11:28:42 2022 +0200\n",
      "\n",
      "    Add hello\n"
     ]
    }
   ],
   "source": [
    "git log"
   ]
  },
  {
   "cell_type": "markdown",
   "id": "b1d22a82",
   "metadata": {
    "slideshow": {
     "slide_type": "skip"
    }
   },
   "source": [
    "Da sich Commit-Hashes bei jeder Ausführung ändern, holen wir uns den Commithash des ersten Commits (das ist normal nicht so notwendig, das passiert hier nur um mit dem Jupyter Notebook zu arbeiten)."
   ]
  },
  {
   "cell_type": "code",
   "execution_count": 50,
   "id": "376354f1",
   "metadata": {
    "slideshow": {
     "slide_type": "slide"
    }
   },
   "outputs": [],
   "source": [
    "# Normally you'd know the commit hash, we need to figure out this way for the Jupyter notebook\n",
    "COMMIT=$(git log --reverse --oneline | head -n 1 | cut -d ' ' -f1)"
   ]
  },
  {
   "cell_type": "markdown",
   "id": "c776c7a8",
   "metadata": {
    "slideshow": {
     "slide_type": "skip"
    }
   },
   "source": [
    "Wir können uns nun gezielt die Version von `hello.txt` mit diesem Commithash auschecken."
   ]
  },
  {
   "cell_type": "code",
   "execution_count": 51,
   "id": "0f590fc1",
   "metadata": {
    "slideshow": {
     "slide_type": "fragment"
    }
   },
   "outputs": [],
   "source": [
    "git checkout $COMMIT -- hello.txt"
   ]
  },
  {
   "cell_type": "code",
   "execution_count": 52,
   "id": "a1d77125",
   "metadata": {
    "slideshow": {
     "slide_type": "fragment"
    }
   },
   "outputs": [
    {
     "name": "stdout",
     "output_type": "stream",
     "text": [
      "On branch master\n",
      "Changes to be committed:\n",
      "  (use \"git restore --staged <file>...\" to unstage)\n",
      "\t\u001b[32mmodified:   hello.txt\u001b[m\n",
      "\n"
     ]
    }
   ],
   "source": [
    "git status"
   ]
  },
  {
   "cell_type": "code",
   "execution_count": 53,
   "id": "be489328",
   "metadata": {
    "slideshow": {
     "slide_type": "fragment"
    }
   },
   "outputs": [
    {
     "name": "stdout",
     "output_type": "stream",
     "text": [
      "Hallo SE 2022\n"
     ]
    }
   ],
   "source": [
    "cat hello.txt"
   ]
  },
  {
   "cell_type": "markdown",
   "id": "469da2ca",
   "metadata": {
    "slideshow": {
     "slide_type": "skip"
    }
   },
   "source": [
    "Die Datei zählt nun als geändert, wenn wir diese Änderung behalten wollen (und damit die letzten beiden Commits rückgängig machen), dann müssen wir sie commiten."
   ]
  },
  {
   "cell_type": "code",
   "execution_count": 54,
   "id": "4c7047c0",
   "metadata": {
    "slideshow": {
     "slide_type": "fragment"
    }
   },
   "outputs": [
    {
     "name": "stdout",
     "output_type": "stream",
     "text": [
      "[master 81e6c9a] Reverted to original version\n",
      " 1 file changed, 2 deletions(-)\n"
     ]
    }
   ],
   "source": [
    "git add hello.txt\n",
    "git commit -m \"Reverted to original version\""
   ]
  },
  {
   "cell_type": "code",
   "execution_count": 55,
   "id": "4c86d9f9",
   "metadata": {
    "slideshow": {
     "slide_type": "slide"
    }
   },
   "outputs": [
    {
     "name": "stdout",
     "output_type": "stream",
     "text": [
      "\u001b[33mcommit 81e6c9ad08ef9c52776d42423808cf023b4bd922\u001b[m\u001b[33m (\u001b[m\u001b[1;36mHEAD -> \u001b[m\u001b[1;32mmaster\u001b[m\u001b[33m)\u001b[m\n",
      "Author: Gordon Fraser <gordon.fraser@uni-passau.de>\n",
      "Date:   Sun May 1 11:28:59 2022 +0200\n",
      "\n",
      "    Reverted to original version\n",
      "\n",
      "\u001b[33mcommit 1d294524aaf6159cebe7cee9a975e0ede76629bd\u001b[m\n",
      "Author: Gordon Fraser <gordon.fraser@uni-passau.de>\n",
      "Date:   Sun May 1 11:28:55 2022 +0200\n",
      "\n",
      "    Hello the third\n",
      "\n",
      "\u001b[33mcommit 5c253932c176056e18725798219671e41e819d67\u001b[m\n",
      "Author: Gordon Fraser <gordon.fraser@uni-passau.de>\n",
      "Date:   Sun May 1 11:28:46 2022 +0200\n",
      "\n",
      "    Updated hello\n",
      "\n",
      "\u001b[33mcommit d5d76ffac5d4980c5cd31c5e30931741ba308d65\u001b[m\n",
      "Author: Gordon Fraser <gordon.fraser@uni-passau.de>\n",
      "Date:   Sun May 1 11:28:42 2022 +0200\n",
      "\n",
      "    Add hello\n"
     ]
    }
   ],
   "source": [
    "git log hello.txt"
   ]
  },
  {
   "cell_type": "markdown",
   "id": "8fc88a7d",
   "metadata": {
    "slideshow": {
     "slide_type": "slide"
    }
   },
   "source": [
    "### Detached Head"
   ]
  },
  {
   "cell_type": "markdown",
   "id": "8e4e59c1",
   "metadata": {
    "slideshow": {
     "slide_type": "skip"
    }
   },
   "source": [
    "Vorsichtig muss man sein, wenn man nicht nur eine Datei in einer alten Version auscheckt, sondern den ganzen Workspace in den Zustand versetzt."
   ]
  },
  {
   "cell_type": "code",
   "execution_count": 56,
   "id": "8e1b186a",
   "metadata": {
    "slideshow": {
     "slide_type": "fragment"
    }
   },
   "outputs": [
    {
     "name": "stdout",
     "output_type": "stream",
     "text": [
      "Note: switching to 'd5d76ff'.\n",
      "\n",
      "You are in 'detached HEAD' state. You can look around, make experimental\n",
      "changes and commit them, and you can discard any commits you make in this\n",
      "state without impacting any branches by switching back to a branch.\n",
      "\n",
      "If you want to create a new branch to retain commits you create, you may\n",
      "do so (now or later) by using -c with the switch command. Example:\n",
      "\n",
      "  git switch -c <new-branch-name>\n",
      "\n",
      "Or undo this operation with:\n",
      "\n",
      "  git switch -\n",
      "\n",
      "Turn off this advice by setting config variable advice.detachedHead to false\n",
      "\n",
      "HEAD is now at d5d76ff Add hello\n"
     ]
    }
   ],
   "source": [
    "git checkout $COMMIT"
   ]
  },
  {
   "cell_type": "markdown",
   "id": "bba95707",
   "metadata": {
    "slideshow": {
     "slide_type": "skip"
    }
   },
   "source": [
    "Wenn wir uns die Historie ansehen, sind die letzten beiden Commits nun verschwunden:"
   ]
  },
  {
   "cell_type": "code",
   "execution_count": 57,
   "id": "3065421a",
   "metadata": {
    "slideshow": {
     "slide_type": "fragment"
    }
   },
   "outputs": [
    {
     "name": "stdout",
     "output_type": "stream",
     "text": [
      "\u001b[33md5d76ff\u001b[m\u001b[33m (\u001b[m\u001b[1;36mHEAD\u001b[m\u001b[33m)\u001b[m Add hello\n"
     ]
    }
   ],
   "source": [
    "git log --oneline"
   ]
  },
  {
   "cell_type": "markdown",
   "id": "82ba2536",
   "metadata": {
    "slideshow": {
     "slide_type": "skip"
    }
   },
   "source": [
    "Noch ist nichts verloren, wir können einfach wieder die \"master\" Version auschecken."
   ]
  },
  {
   "cell_type": "code",
   "execution_count": 58,
   "id": "d9d4d03b",
   "metadata": {
    "slideshow": {
     "slide_type": "slide"
    }
   },
   "outputs": [
    {
     "name": "stdout",
     "output_type": "stream",
     "text": [
      "Previous HEAD position was d5d76ff Add hello\n",
      "Switched to branch 'master'\n"
     ]
    }
   ],
   "source": [
    "git checkout master"
   ]
  },
  {
   "cell_type": "code",
   "execution_count": 59,
   "id": "d0241e01",
   "metadata": {
    "slideshow": {
     "slide_type": "fragment"
    }
   },
   "outputs": [
    {
     "name": "stdout",
     "output_type": "stream",
     "text": [
      "\u001b[33m81e6c9a\u001b[m\u001b[33m (\u001b[m\u001b[1;36mHEAD -> \u001b[m\u001b[1;32mmaster\u001b[m\u001b[33m)\u001b[m Reverted to original version\n",
      "\u001b[33m1d29452\u001b[m Hello the third\n",
      "\u001b[33m5c25393\u001b[m Updated hello\n",
      "\u001b[33md5d76ff\u001b[m Add hello\n"
     ]
    }
   ],
   "source": [
    "git log --oneline"
   ]
  },
  {
   "cell_type": "markdown",
   "id": "06f21ab6",
   "metadata": {
    "slideshow": {
     "slide_type": "skip"
    }
   },
   "source": [
    "`master` ist ein Branch. Um zu sehen, wie wir dieses Problem umgehen können, schauen wir uns zunächst wie man mit Branches arbeitet."
   ]
  },
  {
   "cell_type": "markdown",
   "id": "560f2197",
   "metadata": {
    "slideshow": {
     "slide_type": "slide"
    }
   },
   "source": [
    "## Branches"
   ]
  },
  {
   "cell_type": "markdown",
   "id": "74fc4bd0",
   "metadata": {
    "slideshow": {
     "slide_type": "skip"
    }
   },
   "source": [
    "Zwischen Branches wechselt man mit dem Kommando `checkout`; einen neuen Branch erstellt man mit `checkout -b`."
   ]
  },
  {
   "cell_type": "code",
   "execution_count": 60,
   "id": "5381e3d2",
   "metadata": {
    "slideshow": {
     "slide_type": "fragment"
    }
   },
   "outputs": [
    {
     "name": "stdout",
     "output_type": "stream",
     "text": [
      "Switched to a new branch 'se2'\n"
     ]
    }
   ],
   "source": [
    "git checkout -b se2"
   ]
  },
  {
   "cell_type": "markdown",
   "id": "bd663425",
   "metadata": {
    "slideshow": {
     "slide_type": "skip"
    }
   },
   "source": [
    "Nun können wir in unserem `se2` Branch arbeiten."
   ]
  },
  {
   "cell_type": "code",
   "execution_count": 61,
   "id": "b34dd46e",
   "metadata": {
    "slideshow": {
     "slide_type": "fragment"
    }
   },
   "outputs": [],
   "source": [
    "echo \"Hello in the se2 branch\" >> hello.txt"
   ]
  },
  {
   "cell_type": "code",
   "execution_count": 62,
   "id": "5548ed61",
   "metadata": {
    "slideshow": {
     "slide_type": "fragment"
    }
   },
   "outputs": [],
   "source": [
    "git add hello.txt"
   ]
  },
  {
   "cell_type": "code",
   "execution_count": 63,
   "id": "84dfbb74",
   "metadata": {
    "slideshow": {
     "slide_type": "fragment"
    }
   },
   "outputs": [
    {
     "name": "stdout",
     "output_type": "stream",
     "text": [
      "[se2 3a787c7] Add branch hello\n",
      " 1 file changed, 1 insertion(+)\n"
     ]
    }
   ],
   "source": [
    "git commit -m \"Add branch hello\""
   ]
  },
  {
   "cell_type": "code",
   "execution_count": 64,
   "id": "23a9a8fc",
   "metadata": {
    "slideshow": {
     "slide_type": "fragment"
    }
   },
   "outputs": [
    {
     "name": "stdout",
     "output_type": "stream",
     "text": [
      "\u001b[33m3a787c7\u001b[m\u001b[33m (\u001b[m\u001b[1;36mHEAD -> \u001b[m\u001b[1;32mse2\u001b[m\u001b[33m)\u001b[m Add branch hello\n",
      "\u001b[33m81e6c9a\u001b[m\u001b[33m (\u001b[m\u001b[1;32mmaster\u001b[m\u001b[33m)\u001b[m Reverted to original version\n",
      "\u001b[33m1d29452\u001b[m Hello the third\n",
      "\u001b[33m5c25393\u001b[m Updated hello\n",
      "\u001b[33md5d76ff\u001b[m Add hello\n"
     ]
    }
   ],
   "source": [
    "git log --oneline"
   ]
  },
  {
   "cell_type": "markdown",
   "id": "86a89a6a",
   "metadata": {
    "slideshow": {
     "slide_type": "skip"
    }
   },
   "source": [
    "Wenn wir zurück in den `master` Branch wechseln, dann ist die letzte Änderung hier nicht vorhanden."
   ]
  },
  {
   "cell_type": "code",
   "execution_count": 65,
   "id": "078c9b38",
   "metadata": {
    "slideshow": {
     "slide_type": "slide"
    }
   },
   "outputs": [
    {
     "name": "stdout",
     "output_type": "stream",
     "text": [
      "Switched to branch 'master'\n"
     ]
    }
   ],
   "source": [
    "git checkout master"
   ]
  },
  {
   "cell_type": "code",
   "execution_count": 66,
   "id": "618f9d09",
   "metadata": {
    "slideshow": {
     "slide_type": "fragment"
    }
   },
   "outputs": [
    {
     "name": "stdout",
     "output_type": "stream",
     "text": [
      "Hallo SE 2022\n"
     ]
    }
   ],
   "source": [
    "cat hello.txt"
   ]
  },
  {
   "cell_type": "code",
   "execution_count": 67,
   "id": "4effe3f5",
   "metadata": {
    "slideshow": {
     "slide_type": "fragment"
    }
   },
   "outputs": [
    {
     "name": "stdout",
     "output_type": "stream",
     "text": [
      "\u001b[33m81e6c9a\u001b[m\u001b[33m (\u001b[m\u001b[1;36mHEAD -> \u001b[m\u001b[1;32mmaster\u001b[m\u001b[33m)\u001b[m Reverted to original version\n",
      "\u001b[33m1d29452\u001b[m Hello the third\n",
      "\u001b[33m5c25393\u001b[m Updated hello\n",
      "\u001b[33md5d76ff\u001b[m Add hello\n"
     ]
    }
   ],
   "source": [
    "git log --oneline"
   ]
  },
  {
   "cell_type": "markdown",
   "id": "a07e3168",
   "metadata": {
    "slideshow": {
     "slide_type": "skip"
    }
   },
   "source": [
    "Um Branches zusammenzuführen, dient das Kommando \"merge\". Mergen wir also `se2` nach `master`:"
   ]
  },
  {
   "cell_type": "code",
   "execution_count": 68,
   "id": "1f3d6411",
   "metadata": {
    "slideshow": {
     "slide_type": "fragment"
    }
   },
   "outputs": [
    {
     "name": "stdout",
     "output_type": "stream",
     "text": [
      "Updating 81e6c9a..3a787c7\n",
      "Fast-forward\n",
      " hello.txt | 1 \u001b[32m+\u001b[m\n",
      " 1 file changed, 1 insertion(+)\n"
     ]
    }
   ],
   "source": [
    "git merge se2"
   ]
  },
  {
   "cell_type": "markdown",
   "id": "1b324356",
   "metadata": {
    "slideshow": {
     "slide_type": "skip"
    }
   },
   "source": [
    "Nun sind die Änderungen wieder zusammengeführt."
   ]
  },
  {
   "cell_type": "code",
   "execution_count": 69,
   "id": "5405d690",
   "metadata": {
    "slideshow": {
     "slide_type": "fragment"
    }
   },
   "outputs": [
    {
     "name": "stdout",
     "output_type": "stream",
     "text": [
      "Hallo SE 2022\n",
      "Hello in the se2 branch\n"
     ]
    }
   ],
   "source": [
    "cat hello.txt"
   ]
  },
  {
   "cell_type": "markdown",
   "id": "4b29455c",
   "metadata": {
    "slideshow": {
     "slide_type": "skip"
    }
   },
   "source": [
    "Änderungen in master sind in `se2` nicht sichtbar:"
   ]
  },
  {
   "cell_type": "code",
   "execution_count": 70,
   "id": "b62fcdeb",
   "metadata": {
    "slideshow": {
     "slide_type": "slide"
    }
   },
   "outputs": [
    {
     "name": "stdout",
     "output_type": "stream",
     "text": [
      "[master a3e4052] Added hello master\n",
      " 1 file changed, 1 insertion(+)\n"
     ]
    }
   ],
   "source": [
    "echo \"Hello added in master\" >> hello.txt\n",
    "git add hello.txt\n",
    "git commit -m \"Added hello master\""
   ]
  },
  {
   "cell_type": "code",
   "execution_count": 71,
   "id": "c86a3c20",
   "metadata": {
    "slideshow": {
     "slide_type": "fragment"
    }
   },
   "outputs": [
    {
     "name": "stdout",
     "output_type": "stream",
     "text": [
      "Switched to branch 'se2'\n"
     ]
    }
   ],
   "source": [
    "git checkout se2"
   ]
  },
  {
   "cell_type": "code",
   "execution_count": 72,
   "id": "7a73d65e",
   "metadata": {
    "slideshow": {
     "slide_type": "fragment"
    }
   },
   "outputs": [
    {
     "name": "stdout",
     "output_type": "stream",
     "text": [
      "Hallo SE 2022\n",
      "Hello in the se2 branch\n"
     ]
    }
   ],
   "source": [
    "cat hello.txt"
   ]
  },
  {
   "cell_type": "markdown",
   "id": "f6c3e059",
   "metadata": {
    "slideshow": {
     "slide_type": "skip"
    }
   },
   "source": [
    "Wir führen nun auch in `se2` eine Änderung durch und committen."
   ]
  },
  {
   "cell_type": "code",
   "execution_count": 73,
   "id": "b2104b53",
   "metadata": {
    "slideshow": {
     "slide_type": "fragment"
    }
   },
   "outputs": [
    {
     "name": "stdout",
     "output_type": "stream",
     "text": [
      "[se2 a401d3d] Added hello to se2 again\n",
      " 1 file changed, 1 insertion(+)\n"
     ]
    }
   ],
   "source": [
    "echo \"Hello added again in se2\" >> hello.txt\n",
    "git add hello.txt\n",
    "git commit -m \"Added hello to se2 again\""
   ]
  },
  {
   "cell_type": "markdown",
   "id": "25a966e8",
   "metadata": {
    "slideshow": {
     "slide_type": "skip"
    }
   },
   "source": [
    "Diese Änderung ist natürlich in `master` nicht sichtbar."
   ]
  },
  {
   "cell_type": "code",
   "execution_count": 74,
   "id": "f0e017de",
   "metadata": {
    "slideshow": {
     "slide_type": "slide"
    }
   },
   "outputs": [
    {
     "name": "stdout",
     "output_type": "stream",
     "text": [
      "Switched to branch 'master'\n"
     ]
    }
   ],
   "source": [
    "git checkout master"
   ]
  },
  {
   "cell_type": "code",
   "execution_count": 75,
   "id": "b3d15029",
   "metadata": {
    "slideshow": {
     "slide_type": "fragment"
    }
   },
   "outputs": [
    {
     "name": "stdout",
     "output_type": "stream",
     "text": [
      "Hallo SE 2022\n",
      "Hello in the se2 branch\n",
      "Hello added in master\n"
     ]
    }
   ],
   "source": [
    "cat hello.txt"
   ]
  },
  {
   "cell_type": "markdown",
   "id": "60d5367c",
   "metadata": {
    "slideshow": {
     "slide_type": "skip"
    }
   },
   "source": [
    "Wenn wir nun allerdings einen Merge probieren, gibt es ein Problem: Die Datei `hello.txt` wurde in beiden Branches editiert."
   ]
  },
  {
   "cell_type": "code",
   "execution_count": 76,
   "id": "083ab2cb",
   "metadata": {
    "slideshow": {
     "slide_type": "fragment"
    }
   },
   "outputs": [
    {
     "name": "stdout",
     "output_type": "stream",
     "text": [
      "Auto-merging hello.txt\n",
      "CONFLICT (content): Merge conflict in hello.txt\n",
      "Automatic merge failed; fix conflicts and then commit the result.\n"
     ]
    },
    {
     "ename": "",
     "evalue": "1",
     "output_type": "error",
     "traceback": []
    }
   ],
   "source": [
    "git merge se2"
   ]
  },
  {
   "cell_type": "markdown",
   "id": "f478923d",
   "metadata": {
    "slideshow": {
     "slide_type": "skip"
    }
   },
   "source": [
    "Der Merge-Conflict wird in der Datei angezeigt."
   ]
  },
  {
   "cell_type": "code",
   "execution_count": 77,
   "id": "5c617710",
   "metadata": {
    "slideshow": {
     "slide_type": "fragment"
    }
   },
   "outputs": [
    {
     "name": "stdout",
     "output_type": "stream",
     "text": [
      "Hallo SE 2022\n",
      "Hello in the se2 branch\n",
      "<<<<<<< HEAD\n",
      "Hello added in master\n",
      "=======\n",
      "Hello added again in se2\n",
      ">>>>>>> se2\n"
     ]
    }
   ],
   "source": [
    "cat hello.txt"
   ]
  },
  {
   "cell_type": "code",
   "execution_count": 78,
   "id": "7ff0bf07",
   "metadata": {
    "slideshow": {
     "slide_type": "slide"
    }
   },
   "outputs": [
    {
     "name": "stdout",
     "output_type": "stream",
     "text": [
      "On branch master\n",
      "You have unmerged paths.\n",
      "  (fix conflicts and run \"git commit\")\n",
      "  (use \"git merge --abort\" to abort the merge)\n",
      "\n",
      "Unmerged paths:\n",
      "  (use \"git add <file>...\" to mark resolution)\n",
      "\t\u001b[31mboth modified:   hello.txt\u001b[m\n",
      "\n",
      "no changes added to commit (use \"git add\" and/or \"git commit -a\")\n"
     ]
    }
   ],
   "source": [
    "git status"
   ]
  },
  {
   "cell_type": "markdown",
   "id": "543db1d8",
   "metadata": {
    "slideshow": {
     "slide_type": "skip"
    }
   },
   "source": [
    "Hier hat der automatische Merge nicht geklappt. Wir müssen also per Hand in unserem Editor das Problem lösen."
   ]
  },
  {
   "cell_type": "code",
   "execution_count": 79,
   "id": "c801b8bf",
   "metadata": {
    "slideshow": {
     "slide_type": "fragment"
    }
   },
   "outputs": [],
   "source": [
    "cat > hello.txt << EOM\n",
    "Hallo SE 2022\n",
    "Hello in the se2 branch\n",
    "Hello added in master\n",
    "Hello added again in se2\n",
    "EOM"
   ]
  },
  {
   "cell_type": "code",
   "execution_count": 80,
   "id": "82f58af1",
   "metadata": {
    "slideshow": {
     "slide_type": "fragment"
    }
   },
   "outputs": [
    {
     "name": "stdout",
     "output_type": "stream",
     "text": [
      "Hallo SE 2022\n",
      "Hello in the se2 branch\n",
      "Hello added in master\n",
      "Hello added again in se2\n"
     ]
    }
   ],
   "source": [
    "cat hello.txt"
   ]
  },
  {
   "cell_type": "markdown",
   "id": "92a771d4",
   "metadata": {
    "slideshow": {
     "slide_type": "skip"
    }
   },
   "source": [
    "Wir befinden uns noch im Merge, und müssen diesen abschliessen indem wir die Datei, in der wir den Merge-Conflict behoben haben, stagen und dann committen."
   ]
  },
  {
   "cell_type": "code",
   "execution_count": 81,
   "id": "77bfbb96",
   "metadata": {
    "slideshow": {
     "slide_type": "slide"
    }
   },
   "outputs": [
    {
     "name": "stdout",
     "output_type": "stream",
     "text": [
      "On branch master\n",
      "You have unmerged paths.\n",
      "  (fix conflicts and run \"git commit\")\n",
      "  (use \"git merge --abort\" to abort the merge)\n",
      "\n",
      "Unmerged paths:\n",
      "  (use \"git add <file>...\" to mark resolution)\n",
      "\t\u001b[31mboth modified:   hello.txt\u001b[m\n",
      "\n",
      "no changes added to commit (use \"git add\" and/or \"git commit -a\")\n"
     ]
    }
   ],
   "source": [
    "git status"
   ]
  },
  {
   "cell_type": "code",
   "execution_count": 82,
   "id": "5e1b38f0",
   "metadata": {
    "slideshow": {
     "slide_type": "fragment"
    }
   },
   "outputs": [],
   "source": [
    "git add hello.txt"
   ]
  },
  {
   "cell_type": "markdown",
   "id": "3258bcd8",
   "metadata": {
    "slideshow": {
     "slide_type": "skip"
    }
   },
   "source": [
    "Ein Merge-Commit braucht keine explizite Commit-Message."
   ]
  },
  {
   "cell_type": "code",
   "execution_count": 83,
   "id": "364abc41",
   "metadata": {
    "slideshow": {
     "slide_type": "fragment"
    }
   },
   "outputs": [
    {
     "name": "stdout",
     "output_type": "stream",
     "text": [
      "[master b14e0a1] Merge branch 'se2'\n"
     ]
    }
   ],
   "source": [
    "git commit --no-edit"
   ]
  },
  {
   "cell_type": "code",
   "execution_count": 84,
   "id": "2af20539",
   "metadata": {
    "slideshow": {
     "slide_type": "slide"
    }
   },
   "outputs": [
    {
     "name": "stdout",
     "output_type": "stream",
     "text": [
      "\u001b[33mb14e0a1\u001b[m\u001b[33m (\u001b[m\u001b[1;36mHEAD -> \u001b[m\u001b[1;32mmaster\u001b[m\u001b[33m)\u001b[m Merge branch 'se2'\n",
      "\u001b[33ma401d3d\u001b[m\u001b[33m (\u001b[m\u001b[1;32mse2\u001b[m\u001b[33m)\u001b[m Added hello to se2 again\n",
      "\u001b[33ma3e4052\u001b[m Added hello master\n",
      "\u001b[33m3a787c7\u001b[m Add branch hello\n",
      "\u001b[33m81e6c9a\u001b[m Reverted to original version\n",
      "\u001b[33m1d29452\u001b[m Hello the third\n",
      "\u001b[33m5c25393\u001b[m Updated hello\n",
      "\u001b[33md5d76ff\u001b[m Add hello\n"
     ]
    }
   ],
   "source": [
    "git log --oneline"
   ]
  },
  {
   "cell_type": "markdown",
   "id": "68109eb9",
   "metadata": {
    "slideshow": {
     "slide_type": "skip"
    }
   },
   "source": [
    "Wir können uns hierzu auch einen Commit-Graphen anzeigen lassen."
   ]
  },
  {
   "cell_type": "code",
   "execution_count": 85,
   "id": "e39fad05",
   "metadata": {
    "slideshow": {
     "slide_type": "fragment"
    }
   },
   "outputs": [
    {
     "name": "stdout",
     "output_type": "stream",
     "text": [
      "*   \u001b[33mb14e0a1\u001b[m\u001b[33m (\u001b[m\u001b[1;36mHEAD -> \u001b[m\u001b[1;32mmaster\u001b[m\u001b[33m)\u001b[m Merge branch 'se2'\n",
      "\u001b[31m|\u001b[m\u001b[32m\\\u001b[m  \n",
      "\u001b[31m|\u001b[m * \u001b[33ma401d3d\u001b[m\u001b[33m (\u001b[m\u001b[1;32mse2\u001b[m\u001b[33m)\u001b[m Added hello to se2 again\n",
      "* \u001b[32m|\u001b[m \u001b[33ma3e4052\u001b[m Added hello master\n",
      "\u001b[32m|\u001b[m\u001b[32m/\u001b[m  \n",
      "* \u001b[33m3a787c7\u001b[m Add branch hello\n",
      "* \u001b[33m81e6c9a\u001b[m Reverted to original version\n",
      "* \u001b[33m1d29452\u001b[m Hello the third\n",
      "* \u001b[33m5c25393\u001b[m Updated hello\n",
      "* \u001b[33md5d76ff\u001b[m Add hello\n"
     ]
    }
   ],
   "source": [
    "git log --oneline --graph"
   ]
  },
  {
   "cell_type": "markdown",
   "id": "09c2a4c3",
   "metadata": {
    "slideshow": {
     "slide_type": "slide"
    }
   },
   "source": [
    "### Detached Head reparieren"
   ]
  },
  {
   "cell_type": "markdown",
   "id": "941c15ba",
   "metadata": {
    "slideshow": {
     "slide_type": "skip"
    }
   },
   "source": [
    "Erstellen wir nochmal den problematischen Detached Head:"
   ]
  },
  {
   "cell_type": "code",
   "execution_count": 86,
   "id": "6d18cd14",
   "metadata": {
    "slideshow": {
     "slide_type": "fragment"
    }
   },
   "outputs": [
    {
     "name": "stdout",
     "output_type": "stream",
     "text": [
      "Note: switching to 'd5d76ff'.\n",
      "\n",
      "You are in 'detached HEAD' state. You can look around, make experimental\n",
      "changes and commit them, and you can discard any commits you make in this\n",
      "state without impacting any branches by switching back to a branch.\n",
      "\n",
      "If you want to create a new branch to retain commits you create, you may\n",
      "do so (now or later) by using -c with the switch command. Example:\n",
      "\n",
      "  git switch -c <new-branch-name>\n",
      "\n",
      "Or undo this operation with:\n",
      "\n",
      "  git switch -\n",
      "\n",
      "Turn off this advice by setting config variable advice.detachedHead to false\n",
      "\n",
      "HEAD is now at d5d76ff Add hello\n"
     ]
    }
   ],
   "source": [
    "# Checkout first commit\n",
    "git checkout $COMMIT"
   ]
  },
  {
   "cell_type": "markdown",
   "id": "870eedfa",
   "metadata": {
    "slideshow": {
     "slide_type": "skip"
    }
   },
   "source": [
    "Die Lösung des Problems liegt darin, für den aktuellen Zustand einen neuen Branch anzulegen."
   ]
  },
  {
   "cell_type": "code",
   "execution_count": 87,
   "id": "ceab11f1",
   "metadata": {
    "slideshow": {
     "slide_type": "slide"
    }
   },
   "outputs": [
    {
     "name": "stdout",
     "output_type": "stream",
     "text": [
      "Switched to a new branch 'new_feature'\n"
     ]
    }
   ],
   "source": [
    "git checkout -b new_feature"
   ]
  },
  {
   "cell_type": "code",
   "execution_count": 88,
   "id": "e90af1e6",
   "metadata": {
    "slideshow": {
     "slide_type": "fragment"
    }
   },
   "outputs": [],
   "source": [
    "echo \"Adding hello to initial hello\" >> hello.txt"
   ]
  },
  {
   "cell_type": "code",
   "execution_count": 89,
   "id": "fb686dad",
   "metadata": {
    "slideshow": {
     "slide_type": "fragment"
    }
   },
   "outputs": [],
   "source": [
    "git add hello.txt"
   ]
  },
  {
   "cell_type": "code",
   "execution_count": 90,
   "id": "85b92949",
   "metadata": {
    "slideshow": {
     "slide_type": "fragment"
    }
   },
   "outputs": [
    {
     "name": "stdout",
     "output_type": "stream",
     "text": [
      "[new_feature b8b6f79] Added hello in branch\n",
      " 1 file changed, 1 insertion(+)\n"
     ]
    }
   ],
   "source": [
    "git commit -m \"Added hello in branch\""
   ]
  },
  {
   "cell_type": "code",
   "execution_count": 91,
   "id": "7475d5da",
   "metadata": {
    "slideshow": {
     "slide_type": "fragment"
    }
   },
   "outputs": [
    {
     "name": "stdout",
     "output_type": "stream",
     "text": [
      "* \u001b[33mb8b6f79\u001b[m\u001b[33m (\u001b[m\u001b[1;36mHEAD -> \u001b[m\u001b[1;32mnew_feature\u001b[m\u001b[33m)\u001b[m Added hello in branch\n",
      "* \u001b[33md5d76ff\u001b[m Add hello\n"
     ]
    }
   ],
   "source": [
    "git log --oneline --graph"
   ]
  },
  {
   "cell_type": "markdown",
   "id": "f5e217c3",
   "metadata": {
    "slideshow": {
     "slide_type": "skip"
    }
   },
   "source": [
    "Diese Änderung ist natürlich noch nicht im Master-Branch:"
   ]
  },
  {
   "cell_type": "code",
   "execution_count": 92,
   "id": "c6b02c8b",
   "metadata": {
    "slideshow": {
     "slide_type": "fragment"
    }
   },
   "outputs": [
    {
     "name": "stdout",
     "output_type": "stream",
     "text": [
      "Switched to branch 'master'\n"
     ]
    }
   ],
   "source": [
    "git checkout master"
   ]
  },
  {
   "cell_type": "code",
   "execution_count": 93,
   "id": "a2b200b6",
   "metadata": {
    "slideshow": {
     "slide_type": "fragment"
    }
   },
   "outputs": [
    {
     "name": "stdout",
     "output_type": "stream",
     "text": [
      "Hallo SE 2022\n",
      "Hello in the se2 branch\n",
      "Hello added in master\n",
      "Hello added again in se2\n"
     ]
    }
   ],
   "source": [
    "cat hello.txt"
   ]
  },
  {
   "cell_type": "markdown",
   "id": "671a593f",
   "metadata": {
    "slideshow": {
     "slide_type": "slide"
    }
   },
   "source": [
    "## Rebase"
   ]
  },
  {
   "cell_type": "markdown",
   "id": "cf21eb3b",
   "metadata": {
    "slideshow": {
     "slide_type": "skip"
    }
   },
   "source": [
    "Ein Merge erzeugt einen expliziten Merge-Commit und eine Verzweigung in der Commit-Historie. Eine Alternative dazu ist ein Rebase, welches die Commits eines Branches auf einen alternativen Startpunkt anwendet. Wir erzeugen uns dazu wieder einen Branch der von dem ersten Commit verzweigt."
   ]
  },
  {
   "cell_type": "code",
   "execution_count": 94,
   "id": "13cc7565",
   "metadata": {
    "slideshow": {
     "slide_type": "fragment"
    }
   },
   "outputs": [
    {
     "name": "stdout",
     "output_type": "stream",
     "text": [
      "Note: switching to 'd5d76ff'.\n",
      "\n",
      "You are in 'detached HEAD' state. You can look around, make experimental\n",
      "changes and commit them, and you can discard any commits you make in this\n",
      "state without impacting any branches by switching back to a branch.\n",
      "\n",
      "If you want to create a new branch to retain commits you create, you may\n",
      "do so (now or later) by using -c with the switch command. Example:\n",
      "\n",
      "  git switch -c <new-branch-name>\n",
      "\n",
      "Or undo this operation with:\n",
      "\n",
      "  git switch -\n",
      "\n",
      "Turn off this advice by setting config variable advice.detachedHead to false\n",
      "\n",
      "HEAD is now at d5d76ff Add hello\n"
     ]
    }
   ],
   "source": [
    "git checkout $COMMIT"
   ]
  },
  {
   "cell_type": "code",
   "execution_count": 95,
   "id": "a786c858",
   "metadata": {
    "slideshow": {
     "slide_type": "slide"
    }
   },
   "outputs": [
    {
     "name": "stdout",
     "output_type": "stream",
     "text": [
      "Switched to a new branch 'rebase_feature'\n"
     ]
    }
   ],
   "source": [
    "git checkout -b rebase_feature"
   ]
  },
  {
   "cell_type": "markdown",
   "id": "6003703b",
   "metadata": {
    "slideshow": {
     "slide_type": "skip"
    }
   },
   "source": [
    "In diesem Branch erzeugen wir eine neue Datei `hello2.txt`."
   ]
  },
  {
   "cell_type": "code",
   "execution_count": 96,
   "id": "03f57d52",
   "metadata": {
    "slideshow": {
     "slide_type": "fragment"
    }
   },
   "outputs": [],
   "source": [
    "echo \"Hello again\" > hello2.txt"
   ]
  },
  {
   "cell_type": "code",
   "execution_count": 97,
   "id": "ee0a83e8",
   "metadata": {
    "slideshow": {
     "slide_type": "fragment"
    }
   },
   "outputs": [
    {
     "name": "stdout",
     "output_type": "stream",
     "text": [
      "[rebase_feature 1144f74] Add new hello file\n",
      " 1 file changed, 1 insertion(+)\n",
      " create mode 100644 hello2.txt\n"
     ]
    }
   ],
   "source": [
    "git add hello2.txt\n",
    "git commit -m \"Add new hello file\""
   ]
  },
  {
   "cell_type": "markdown",
   "id": "64ad7f33",
   "metadata": {
    "slideshow": {
     "slide_type": "skip"
    }
   },
   "source": [
    "In diesem Branch fehlen uns nun aber die ganzen Änderungen, die an der Datei `hello.txt` angwendet wurden:"
   ]
  },
  {
   "cell_type": "code",
   "execution_count": 98,
   "id": "d8f847d7",
   "metadata": {
    "slideshow": {
     "slide_type": "fragment"
    }
   },
   "outputs": [
    {
     "name": "stdout",
     "output_type": "stream",
     "text": [
      "Hallo SE 2022\n"
     ]
    }
   ],
   "source": [
    "cat hello.txt"
   ]
  },
  {
   "cell_type": "code",
   "execution_count": 99,
   "id": "32653e71",
   "metadata": {
    "slideshow": {
     "slide_type": "fragment"
    }
   },
   "outputs": [
    {
     "name": "stdout",
     "output_type": "stream",
     "text": [
      "* \u001b[33m1144f74\u001b[m\u001b[33m (\u001b[m\u001b[1;36mHEAD -> \u001b[m\u001b[1;32mrebase_feature\u001b[m\u001b[33m)\u001b[m Add new hello file\n",
      "* \u001b[33md5d76ff\u001b[m Add hello\n"
     ]
    }
   ],
   "source": [
    "git log --oneline --graph"
   ]
  },
  {
   "cell_type": "markdown",
   "id": "e3c35b51",
   "metadata": {
    "slideshow": {
     "slide_type": "skip"
    }
   },
   "source": [
    "Wir können den Branch `rebase_feature` aber mit dem aktuellen Master rebasen:"
   ]
  },
  {
   "cell_type": "code",
   "execution_count": 100,
   "id": "8a675a16",
   "metadata": {
    "slideshow": {
     "slide_type": "slide"
    }
   },
   "outputs": [
    {
     "name": "stdout",
     "output_type": "stream",
     "text": [
      "Rebasing (1/1)\r",
      "\r",
      "\u001b[KSuccessfully rebased and updated refs/heads/rebase_feature.\n"
     ]
    }
   ],
   "source": [
    "git rebase master"
   ]
  },
  {
   "cell_type": "markdown",
   "id": "4f577993",
   "metadata": {
    "slideshow": {
     "slide_type": "skip"
    }
   },
   "source": [
    "Hierdurch wird der Commit, mit dem `hello2.txt` erstellt wurde, auf den Master angewendet."
   ]
  },
  {
   "cell_type": "code",
   "execution_count": 101,
   "id": "ebeab1ec",
   "metadata": {
    "slideshow": {
     "slide_type": "fragment"
    }
   },
   "outputs": [
    {
     "name": "stdout",
     "output_type": "stream",
     "text": [
      "Hallo SE 2022\n",
      "Hello in the se2 branch\n",
      "Hello added in master\n",
      "Hello added again in se2\n"
     ]
    }
   ],
   "source": [
    "cat hello.txt"
   ]
  },
  {
   "cell_type": "code",
   "execution_count": 102,
   "id": "0cf758ff",
   "metadata": {
    "slideshow": {
     "slide_type": "fragment"
    }
   },
   "outputs": [
    {
     "name": "stdout",
     "output_type": "stream",
     "text": [
      "* \u001b[33m2c68eb8\u001b[m\u001b[33m (\u001b[m\u001b[1;36mHEAD -> \u001b[m\u001b[1;32mrebase_feature\u001b[m\u001b[33m)\u001b[m Add new hello file\n",
      "*   \u001b[33mb14e0a1\u001b[m\u001b[33m (\u001b[m\u001b[1;32mmaster\u001b[m\u001b[33m)\u001b[m Merge branch 'se2'\n",
      "\u001b[32m|\u001b[m\u001b[33m\\\u001b[m  \n",
      "\u001b[32m|\u001b[m * \u001b[33ma401d3d\u001b[m\u001b[33m (\u001b[m\u001b[1;32mse2\u001b[m\u001b[33m)\u001b[m Added hello to se2 again\n",
      "* \u001b[33m|\u001b[m \u001b[33ma3e4052\u001b[m Added hello master\n",
      "\u001b[33m|\u001b[m\u001b[33m/\u001b[m  \n",
      "* \u001b[33m3a787c7\u001b[m Add branch hello\n",
      "* \u001b[33m81e6c9a\u001b[m Reverted to original version\n",
      "* \u001b[33m1d29452\u001b[m Hello the third\n",
      "* \u001b[33m5c25393\u001b[m Updated hello\n",
      "* \u001b[33md5d76ff\u001b[m Add hello\n"
     ]
    }
   ],
   "source": [
    "git log --oneline --graph"
   ]
  },
  {
   "cell_type": "markdown",
   "id": "da83e40b",
   "metadata": {
    "slideshow": {
     "slide_type": "skip"
    }
   },
   "source": [
    "Die Datei `hello2.txt` existiert aber noch nicht im Master:"
   ]
  },
  {
   "cell_type": "code",
   "execution_count": 103,
   "id": "53b1bafa",
   "metadata": {
    "slideshow": {
     "slide_type": "fragment"
    }
   },
   "outputs": [
    {
     "name": "stdout",
     "output_type": "stream",
     "text": [
      "Switched to branch 'master'\n"
     ]
    }
   ],
   "source": [
    "git checkout master"
   ]
  },
  {
   "cell_type": "code",
   "execution_count": 104,
   "id": "ed5f2ebb",
   "metadata": {
    "slideshow": {
     "slide_type": "fragment"
    }
   },
   "outputs": [
    {
     "name": "stdout",
     "output_type": "stream",
     "text": [
      "hello.txt\n"
     ]
    }
   ],
   "source": [
    "ls"
   ]
  },
  {
   "cell_type": "markdown",
   "id": "0760d1b3",
   "metadata": {
    "slideshow": {
     "slide_type": "skip"
    }
   },
   "source": [
    "Wir müssen den Branch dazu nach Master mergen."
   ]
  },
  {
   "cell_type": "code",
   "execution_count": 105,
   "id": "30493aa0",
   "metadata": {
    "slideshow": {
     "slide_type": "slide"
    }
   },
   "outputs": [
    {
     "name": "stdout",
     "output_type": "stream",
     "text": [
      "Updating b14e0a1..2c68eb8\n",
      "Fast-forward\n",
      " hello2.txt | 1 \u001b[32m+\u001b[m\n",
      " 1 file changed, 1 insertion(+)\n",
      " create mode 100644 hello2.txt\n"
     ]
    }
   ],
   "source": [
    "git merge rebase_feature"
   ]
  },
  {
   "cell_type": "code",
   "execution_count": 106,
   "id": "61be8e35",
   "metadata": {
    "slideshow": {
     "slide_type": "fragment"
    }
   },
   "outputs": [
    {
     "name": "stdout",
     "output_type": "stream",
     "text": [
      "hello.txt  hello2.txt\n"
     ]
    }
   ],
   "source": [
    "ls"
   ]
  },
  {
   "cell_type": "markdown",
   "id": "19f2a9bc",
   "metadata": {
    "slideshow": {
     "slide_type": "skip"
    }
   },
   "source": [
    "Nachdem der Branch `rebase_feature` auf Master rebased war, wird ein Fast-Forward-Merge angewendet, d.h. es benötigt keinen eigenen Merge-Commit."
   ]
  },
  {
   "cell_type": "code",
   "execution_count": 107,
   "id": "bb4ebc94",
   "metadata": {
    "slideshow": {
     "slide_type": "fragment"
    }
   },
   "outputs": [
    {
     "name": "stdout",
     "output_type": "stream",
     "text": [
      "* \u001b[33m2c68eb8\u001b[m\u001b[33m (\u001b[m\u001b[1;36mHEAD -> \u001b[m\u001b[1;32mmaster\u001b[m\u001b[33m, \u001b[m\u001b[1;32mrebase_feature\u001b[m\u001b[33m)\u001b[m Add new hello file\n",
      "*   \u001b[33mb14e0a1\u001b[m Merge branch 'se2'\n",
      "\u001b[32m|\u001b[m\u001b[33m\\\u001b[m  \n",
      "\u001b[32m|\u001b[m * \u001b[33ma401d3d\u001b[m\u001b[33m (\u001b[m\u001b[1;32mse2\u001b[m\u001b[33m)\u001b[m Added hello to se2 again\n",
      "* \u001b[33m|\u001b[m \u001b[33ma3e4052\u001b[m Added hello master\n",
      "\u001b[33m|\u001b[m\u001b[33m/\u001b[m  \n",
      "* \u001b[33m3a787c7\u001b[m Add branch hello\n",
      "* \u001b[33m81e6c9a\u001b[m Reverted to original version\n",
      "* \u001b[33m1d29452\u001b[m Hello the third\n",
      "* \u001b[33m5c25393\u001b[m Updated hello\n",
      "* \u001b[33md5d76ff\u001b[m Add hello\n"
     ]
    }
   ],
   "source": [
    "git log --oneline --graph"
   ]
  },
  {
   "cell_type": "markdown",
   "id": "4a81e55d",
   "metadata": {
    "slideshow": {
     "slide_type": "slide"
    }
   },
   "source": [
    "## Stashing"
   ]
  },
  {
   "cell_type": "markdown",
   "id": "25bf834e",
   "metadata": {
    "slideshow": {
     "slide_type": "skip"
    }
   },
   "source": [
    "Es kann vorkommen, dass man Änderungen von anderer Stelle einpflegen muss, bevor das Feature, an dem man gerade arbeitet, fertig ist, sodass man es noch nicht committen will. Man kann die Änderungen, die noch nicht committed sind, auf einen \"Stash\" schieben."
   ]
  },
  {
   "cell_type": "code",
   "execution_count": 108,
   "id": "fd4b82a2",
   "metadata": {
    "slideshow": {
     "slide_type": "fragment"
    }
   },
   "outputs": [],
   "source": [
    "echo \"Some unfinished change\" >> hello.txt"
   ]
  },
  {
   "cell_type": "code",
   "execution_count": 109,
   "id": "872c2a74",
   "metadata": {
    "slideshow": {
     "slide_type": "fragment"
    }
   },
   "outputs": [
    {
     "name": "stdout",
     "output_type": "stream",
     "text": [
      "Hallo SE 2022\n",
      "Hello in the se2 branch\n",
      "Hello added in master\n",
      "Hello added again in se2\n",
      "Some unfinished change\n"
     ]
    }
   ],
   "source": [
    "cat hello.txt"
   ]
  },
  {
   "cell_type": "code",
   "execution_count": 110,
   "id": "2f285479",
   "metadata": {
    "slideshow": {
     "slide_type": "fragment"
    }
   },
   "outputs": [
    {
     "name": "stdout",
     "output_type": "stream",
     "text": [
      "On branch master\n",
      "Changes not staged for commit:\n",
      "  (use \"git add <file>...\" to update what will be committed)\n",
      "  (use \"git restore <file>...\" to discard changes in working directory)\n",
      "\t\u001b[31mmodified:   hello.txt\u001b[m\n",
      "\n",
      "no changes added to commit (use \"git add\" and/or \"git commit -a\")\n"
     ]
    }
   ],
   "source": [
    "git status"
   ]
  },
  {
   "cell_type": "code",
   "execution_count": 111,
   "id": "53bd7174",
   "metadata": {
    "slideshow": {
     "slide_type": "fragment"
    }
   },
   "outputs": [
    {
     "name": "stdout",
     "output_type": "stream",
     "text": [
      "Saved working directory and index state WIP on master: 2c68eb8 Add new hello file\n"
     ]
    }
   ],
   "source": [
    "git stash"
   ]
  },
  {
   "cell_type": "markdown",
   "id": "59f1ffa9",
   "metadata": {
    "slideshow": {
     "slide_type": "skip"
    }
   },
   "source": [
    "Damit sind nun alle Dateien wieder am gleichen Stand wie `master`."
   ]
  },
  {
   "cell_type": "code",
   "execution_count": 112,
   "id": "9cde9576",
   "metadata": {
    "slideshow": {
     "slide_type": "slide"
    }
   },
   "outputs": [
    {
     "name": "stdout",
     "output_type": "stream",
     "text": [
      "On branch master\n",
      "nothing to commit, working tree clean\n"
     ]
    }
   ],
   "source": [
    "git status"
   ]
  },
  {
   "cell_type": "code",
   "execution_count": 113,
   "id": "a6c85d63",
   "metadata": {
    "slideshow": {
     "slide_type": "fragment"
    }
   },
   "outputs": [
    {
     "name": "stdout",
     "output_type": "stream",
     "text": [
      "Hallo SE 2022\n",
      "Hello in the se2 branch\n",
      "Hello added in master\n",
      "Hello added again in se2\n"
     ]
    }
   ],
   "source": [
    "cat hello.txt"
   ]
  },
  {
   "cell_type": "markdown",
   "id": "a7cca125",
   "metadata": {
    "slideshow": {
     "slide_type": "skip"
    }
   },
   "source": [
    "Um die lokalen Änderungen wieder einzufügen, verwendet man `stash apply`:"
   ]
  },
  {
   "cell_type": "code",
   "execution_count": 114,
   "id": "f2ceca2d",
   "metadata": {
    "slideshow": {
     "slide_type": "fragment"
    }
   },
   "outputs": [
    {
     "name": "stdout",
     "output_type": "stream",
     "text": [
      "On branch master\n",
      "Changes not staged for commit:\n",
      "  (use \"git add <file>...\" to update what will be committed)\n",
      "  (use \"git restore <file>...\" to discard changes in working directory)\n",
      "\t\u001b[31mmodified:   hello.txt\u001b[m\n",
      "\n",
      "no changes added to commit (use \"git add\" and/or \"git commit -a\")\n"
     ]
    }
   ],
   "source": [
    "git stash apply"
   ]
  },
  {
   "cell_type": "code",
   "execution_count": 115,
   "id": "8fb34848",
   "metadata": {
    "slideshow": {
     "slide_type": "fragment"
    }
   },
   "outputs": [
    {
     "name": "stdout",
     "output_type": "stream",
     "text": [
      "Hallo SE 2022\n",
      "Hello in the se2 branch\n",
      "Hello added in master\n",
      "Hello added again in se2\n",
      "Some unfinished change\n"
     ]
    }
   ],
   "source": [
    "cat hello.txt"
   ]
  },
  {
   "cell_type": "code",
   "execution_count": 116,
   "id": "8714094a",
   "metadata": {
    "slideshow": {
     "slide_type": "fragment"
    }
   },
   "outputs": [],
   "source": [
    "# Houskeeping for Jupyter notebook\n",
    "cd ..\n",
    "rm -rf dev1"
   ]
  },
  {
   "cell_type": "markdown",
   "id": "7c2c4ed0",
   "metadata": {
    "slideshow": {
     "slide_type": "slide"
    }
   },
   "source": [
    "## Mehrere Benutzer und Remote Repositories"
   ]
  },
  {
   "cell_type": "markdown",
   "id": "503a4051",
   "metadata": {
    "slideshow": {
     "slide_type": "skip"
    }
   },
   "source": [
    "Git ist ein verteiles Versionskontrollsystem, d.h. es kann mehrere Klone des Repositories geben, und man kann Änderungen dazwischen austauschen. Wir legen uns für das Notebook ein neues \"Remote\" Repository an, auf welches 2 simulierte Entwickler Zugriff haben sollen:"
   ]
  },
  {
   "cell_type": "code",
   "execution_count": 117,
   "id": "0d112c5c",
   "metadata": {
    "slideshow": {
     "slide_type": "fragment"
    }
   },
   "outputs": [
    {
     "name": "stdout",
     "output_type": "stream",
     "text": [
      "Initialized empty Git repository in /Users/gordon/Documents/Notebooks/se2022/tmp/remote_repo/\n"
     ]
    }
   ],
   "source": [
    "mkdir remote_repo\n",
    "cd remote_repo\n",
    "git init --bare"
   ]
  },
  {
   "cell_type": "markdown",
   "id": "24311f93",
   "metadata": {
    "slideshow": {
     "slide_type": "skip"
    }
   },
   "source": [
    "Entwickler 1 und Entwickler 2 können sich Klone des Repositories mit dem \"clone\" Befehl erstellen. (Der Befehl wird aktuell noch meckern dass das Repository leer ist)."
   ]
  },
  {
   "cell_type": "code",
   "execution_count": 118,
   "id": "f822fd20",
   "metadata": {
    "slideshow": {
     "slide_type": "fragment"
    }
   },
   "outputs": [],
   "source": [
    "cd .."
   ]
  },
  {
   "cell_type": "code",
   "execution_count": 119,
   "id": "5f84242b",
   "metadata": {
    "slideshow": {
     "slide_type": "fragment"
    }
   },
   "outputs": [
    {
     "name": "stdout",
     "output_type": "stream",
     "text": [
      "Cloning into 'dev1'...\n",
      "warning: You appear to have cloned an empty repository.\n",
      "done.\n"
     ]
    }
   ],
   "source": [
    "git clone remote_repo dev1"
   ]
  },
  {
   "cell_type": "code",
   "execution_count": 120,
   "id": "79b80efa",
   "metadata": {
    "slideshow": {
     "slide_type": "fragment"
    }
   },
   "outputs": [
    {
     "name": "stdout",
     "output_type": "stream",
     "text": [
      "Cloning into 'dev2'...\n",
      "warning: You appear to have cloned an empty repository.\n",
      "done.\n"
     ]
    }
   ],
   "source": [
    "git clone remote_repo dev2"
   ]
  },
  {
   "cell_type": "markdown",
   "id": "3180c697",
   "metadata": {
    "slideshow": {
     "slide_type": "skip"
    }
   },
   "source": [
    "Zunächst simulieren wir, dass Entwickler 1 in seinem Workspace arbeitet."
   ]
  },
  {
   "cell_type": "code",
   "execution_count": 121,
   "id": "28bd6023",
   "metadata": {
    "slideshow": {
     "slide_type": "slide"
    }
   },
   "outputs": [],
   "source": [
    "cd dev1"
   ]
  },
  {
   "cell_type": "code",
   "execution_count": 122,
   "id": "3ba71bc1",
   "metadata": {
    "slideshow": {
     "slide_type": "fragment"
    }
   },
   "outputs": [
    {
     "name": "stdout",
     "output_type": "stream",
     "text": [
      "[master (root-commit) 421e613] Hello 1\n",
      " 1 file changed, 1 insertion(+)\n",
      " create mode 100644 hello.txt\n"
     ]
    }
   ],
   "source": [
    "echo \"I am developer 1\" >> hello.txt\n",
    "git add hello.txt\n",
    "git commit -m \"Hello 1\""
   ]
  },
  {
   "cell_type": "markdown",
   "id": "f7c699c9",
   "metadata": {
    "slideshow": {
     "slide_type": "skip"
    }
   },
   "source": [
    "Um die Änderungen im eigenen Repository an das \"Remote\" Repository zu schieben, dient der \"push\" Befehl:"
   ]
  },
  {
   "cell_type": "code",
   "execution_count": 123,
   "id": "2d0703b0",
   "metadata": {
    "slideshow": {
     "slide_type": "fragment"
    }
   },
   "outputs": [
    {
     "name": "stdout",
     "output_type": "stream",
     "text": [
      "Enumerating objects: 3, done.\n",
      "Counting objects: 100% (3/3), done.\n",
      "Writing objects: 100% (3/3), 233 bytes | 233.00 KiB/s, done.\n",
      "Total 3 (delta 0), reused 0 (delta 0), pack-reused 0\n",
      "To /Users/gordon/Documents/Notebooks/se2022/tmp/remote_repo\n",
      " * [new branch]      master -> master\n"
     ]
    }
   ],
   "source": [
    "git push"
   ]
  },
  {
   "cell_type": "markdown",
   "id": "0bb2861f",
   "metadata": {
    "slideshow": {
     "slide_type": "skip"
    }
   },
   "source": [
    "Entwickler 2 kann nun diese Änderungen vom Remote Repository in das eigene \"pullen\":"
   ]
  },
  {
   "cell_type": "code",
   "execution_count": 124,
   "id": "77b68b8a",
   "metadata": {
    "slideshow": {
     "slide_type": "slide"
    }
   },
   "outputs": [],
   "source": [
    "cd ..\n",
    "cd dev2"
   ]
  },
  {
   "cell_type": "markdown",
   "id": "9a8e44f9",
   "metadata": {
    "slideshow": {
     "slide_type": "skip"
    }
   },
   "source": [
    "Noch ist das Repository leer:"
   ]
  },
  {
   "cell_type": "code",
   "execution_count": 125,
   "id": "b0dab774",
   "metadata": {
    "slideshow": {
     "slide_type": "fragment"
    }
   },
   "outputs": [],
   "source": [
    "ls"
   ]
  },
  {
   "cell_type": "markdown",
   "id": "4313f0c8",
   "metadata": {
    "slideshow": {
     "slide_type": "skip"
    }
   },
   "source": [
    "Änderungen ziehen passiert mit \"pull\":"
   ]
  },
  {
   "cell_type": "code",
   "execution_count": 126,
   "id": "52c20ceb",
   "metadata": {
    "slideshow": {
     "slide_type": "fragment"
    }
   },
   "outputs": [
    {
     "name": "stdout",
     "output_type": "stream",
     "text": [
      "remote: Enumerating objects: 3, done.\u001b[K\n",
      "remote: Counting objects: 100% (3/3), done.\u001b[K\n",
      "remote: Total 3 (delta 0), reused 0 (delta 0), pack-reused 0\u001b[K\n",
      "Unpacking objects: 100% (3/3), 213 bytes | 106.00 KiB/s, done.\n",
      "From /Users/gordon/Documents/Notebooks/se2022/tmp/remote_repo\n",
      " * [new branch]      master     -> origin/master\n"
     ]
    }
   ],
   "source": [
    "git pull"
   ]
  },
  {
   "cell_type": "code",
   "execution_count": 127,
   "id": "d3da8999",
   "metadata": {
    "slideshow": {
     "slide_type": "fragment"
    }
   },
   "outputs": [
    {
     "name": "stdout",
     "output_type": "stream",
     "text": [
      "I am developer 1\n"
     ]
    }
   ],
   "source": [
    "cat hello.txt"
   ]
  },
  {
   "cell_type": "markdown",
   "id": "3782b076",
   "metadata": {
    "slideshow": {
     "slide_type": "skip"
    }
   },
   "source": [
    "Nun arbeitet auch Entwickler 2 im eigenen Workspace."
   ]
  },
  {
   "cell_type": "code",
   "execution_count": 128,
   "id": "e722571a",
   "metadata": {
    "slideshow": {
     "slide_type": "slide"
    }
   },
   "outputs": [
    {
     "name": "stdout",
     "output_type": "stream",
     "text": [
      "[master 0373cc4] Add hello from developer 2\n",
      " 1 file changed, 1 insertion(+)\n"
     ]
    }
   ],
   "source": [
    "echo \"I am developer 2\" >> hello.txt\n",
    "git add hello.txt\n",
    "git commit -m \"Add hello from developer 2\""
   ]
  },
  {
   "cell_type": "markdown",
   "id": "661e64c2",
   "metadata": {
    "slideshow": {
     "slide_type": "skip"
    }
   },
   "source": [
    "Die Änderungen können per \"push\" wieder geteilt werden."
   ]
  },
  {
   "cell_type": "code",
   "execution_count": 129,
   "id": "4744230e",
   "metadata": {
    "slideshow": {
     "slide_type": "fragment"
    }
   },
   "outputs": [
    {
     "name": "stdout",
     "output_type": "stream",
     "text": [
      "Enumerating objects: 5, done.\n",
      "Counting objects: 100% (5/5), done.\n",
      "Writing objects: 100% (3/3), 280 bytes | 280.00 KiB/s, done.\n",
      "Total 3 (delta 0), reused 0 (delta 0), pack-reused 0\n",
      "To /Users/gordon/Documents/Notebooks/se2022/tmp/remote_repo\n",
      "   421e613..0373cc4  master -> master\n"
     ]
    }
   ],
   "source": [
    "git push"
   ]
  },
  {
   "cell_type": "markdown",
   "id": "008492cc",
   "metadata": {
    "slideshow": {
     "slide_type": "skip"
    }
   },
   "source": [
    "Entwickler 1 kann sich diese Änderungen mit \"pull\" holen."
   ]
  },
  {
   "cell_type": "code",
   "execution_count": 130,
   "id": "82815047",
   "metadata": {
    "slideshow": {
     "slide_type": "slide"
    }
   },
   "outputs": [],
   "source": [
    "cd ..\n",
    "cd dev1"
   ]
  },
  {
   "cell_type": "code",
   "execution_count": 131,
   "id": "13509c41",
   "metadata": {
    "slideshow": {
     "slide_type": "fragment"
    }
   },
   "outputs": [
    {
     "name": "stdout",
     "output_type": "stream",
     "text": [
      "I am developer 1\n"
     ]
    }
   ],
   "source": [
    "cat hello.txt"
   ]
  },
  {
   "cell_type": "code",
   "execution_count": 132,
   "id": "3841a042",
   "metadata": {
    "slideshow": {
     "slide_type": "fragment"
    }
   },
   "outputs": [
    {
     "name": "stdout",
     "output_type": "stream",
     "text": [
      "remote: Enumerating objects: 5, done.\u001b[K\n",
      "remote: Counting objects: 100% (5/5), done.\u001b[K\n",
      "remote: Total 3 (delta 0), reused 0 (delta 0), pack-reused 0\u001b[K\n",
      "Unpacking objects: 100% (3/3), 260 bytes | 86.00 KiB/s, done.\n",
      "From /Users/gordon/Documents/Notebooks/se2022/tmp/remote_repo\n",
      "   421e613..0373cc4  master     -> origin/master\n",
      "Updating 421e613..0373cc4\n",
      "Fast-forward\n",
      " hello.txt | 1 \u001b[32m+\u001b[m\n",
      " 1 file changed, 1 insertion(+)\n"
     ]
    }
   ],
   "source": [
    "git pull"
   ]
  },
  {
   "cell_type": "code",
   "execution_count": 133,
   "id": "315bc534",
   "metadata": {
    "slideshow": {
     "slide_type": "subslide"
    }
   },
   "outputs": [
    {
     "name": "stdout",
     "output_type": "stream",
     "text": [
      "\u001b[33mcommit 0373cc4ec83ee4edba8df8856171e6f3d8ab11a1\u001b[m\u001b[33m (\u001b[m\u001b[1;36mHEAD -> \u001b[m\u001b[1;32mmaster\u001b[m\u001b[33m, \u001b[m\u001b[1;31morigin/master\u001b[m\u001b[33m)\u001b[m\n",
      "Author: Gordon Fraser <gordon.fraser@uni-passau.de>\n",
      "Date:   Sun May 1 11:29:53 2022 +0200\n",
      "\n",
      "    Add hello from developer 2\n",
      "\n",
      "\u001b[33mcommit 421e6130ec75a642800c86f198206f8a0dac2709\u001b[m\n",
      "Author: Gordon Fraser <gordon.fraser@uni-passau.de>\n",
      "Date:   Sun May 1 11:29:48 2022 +0200\n",
      "\n",
      "    Hello 1\n"
     ]
    }
   ],
   "source": [
    "git log"
   ]
  },
  {
   "cell_type": "code",
   "execution_count": 134,
   "id": "49d066ed",
   "metadata": {
    "slideshow": {
     "slide_type": "fragment"
    }
   },
   "outputs": [
    {
     "name": "stdout",
     "output_type": "stream",
     "text": [
      "I am developer 1\n",
      "I am developer 2\n"
     ]
    }
   ],
   "source": [
    "cat hello.txt"
   ]
  },
  {
   "cell_type": "code",
   "execution_count": 135,
   "id": "c73e6b44",
   "metadata": {
    "slideshow": {
     "slide_type": "fragment"
    }
   },
   "outputs": [],
   "source": [
    "cd .."
   ]
  },
  {
   "cell_type": "markdown",
   "id": "7b3c2bba",
   "metadata": {
    "slideshow": {
     "slide_type": "slide"
    }
   },
   "source": [
    "## Remotes"
   ]
  },
  {
   "cell_type": "markdown",
   "id": "acf8b26c",
   "metadata": {
    "slideshow": {
     "slide_type": "skip"
    }
   },
   "source": [
    "Ein Git Repository ist nicht an ein einzelnes Remote-Repository gebunden, sondern kann sich mit beliebig vielen anderen Repositories austauschen. Klonen wir zunächst ein Repository von GitHub:"
   ]
  },
  {
   "cell_type": "code",
   "execution_count": 136,
   "id": "35031c1a",
   "metadata": {
    "slideshow": {
     "slide_type": "fragment"
    }
   },
   "outputs": [
    {
     "name": "stdout",
     "output_type": "stream",
     "text": [
      "Cloning into 'se2022-gitexample'...\n",
      "warning: You appear to have cloned an empty repository.\n"
     ]
    }
   ],
   "source": [
    "git clone https://github.com/se2p/se2022-gitexample.git"
   ]
  },
  {
   "cell_type": "code",
   "execution_count": 137,
   "id": "dd76cbb9",
   "metadata": {
    "slideshow": {
     "slide_type": "fragment"
    }
   },
   "outputs": [],
   "source": [
    "cd se2022-gitexample"
   ]
  },
  {
   "cell_type": "markdown",
   "id": "e2b1bfe5",
   "metadata": {
    "slideshow": {
     "slide_type": "skip"
    }
   },
   "source": [
    "Wenn ein Repository per \"clone\" erstellt wird, dann heisst das Upstream-Repository `origin`. Wir können uns ansehen, wo `origin` liegt:"
   ]
  },
  {
   "cell_type": "code",
   "execution_count": 138,
   "id": "19d62bcb",
   "metadata": {
    "slideshow": {
     "slide_type": "fragment"
    }
   },
   "outputs": [
    {
     "name": "stdout",
     "output_type": "stream",
     "text": [
      "https://github.com/se2p/se2022-gitexample.git\n"
     ]
    }
   ],
   "source": [
    "git remote get-url origin"
   ]
  },
  {
   "cell_type": "markdown",
   "id": "707fe34e",
   "metadata": {
    "slideshow": {
     "slide_type": "skip"
    }
   },
   "source": [
    "Legen wir uns noch einen Klon des neuen Repositories an:"
   ]
  },
  {
   "cell_type": "code",
   "execution_count": 139,
   "id": "0361f90b",
   "metadata": {
    "slideshow": {
     "slide_type": "slide"
    }
   },
   "outputs": [
    {
     "name": "stdout",
     "output_type": "stream",
     "text": [
      "Cloning into 'another_clone'...\n",
      "warning: You appear to have cloned an empty repository.\n",
      "done.\n"
     ]
    }
   ],
   "source": [
    "cd ..\n",
    "git clone se2022-gitexample another_clone"
   ]
  },
  {
   "cell_type": "code",
   "execution_count": 140,
   "id": "8c8d9a54",
   "metadata": {
    "slideshow": {
     "slide_type": "fragment"
    }
   },
   "outputs": [],
   "source": [
    "cd another_clone"
   ]
  },
  {
   "cell_type": "markdown",
   "id": "65c43b1d",
   "metadata": {
    "slideshow": {
     "slide_type": "skip"
    }
   },
   "source": [
    "`origin` ist nun einfach das Verzeichnis unseres lokalen Git-Repositories, das wir eben geklont haben:"
   ]
  },
  {
   "cell_type": "code",
   "execution_count": 141,
   "id": "bf57dbc0",
   "metadata": {
    "slideshow": {
     "slide_type": "fragment"
    }
   },
   "outputs": [
    {
     "name": "stdout",
     "output_type": "stream",
     "text": [
      "/Users/gordon/Documents/Notebooks/se2022/tmp/se2022-gitexample\n"
     ]
    }
   ],
   "source": [
    "git remote get-url origin"
   ]
  },
  {
   "cell_type": "markdown",
   "id": "9500b385",
   "metadata": {
    "slideshow": {
     "slide_type": "skip"
    }
   },
   "source": [
    "Wir aber nun auch das GitHub-Repository als Remote hinzufügen:"
   ]
  },
  {
   "cell_type": "code",
   "execution_count": 142,
   "id": "28114bd4",
   "metadata": {
    "slideshow": {
     "slide_type": "fragment"
    }
   },
   "outputs": [],
   "source": [
    "git remote add github https://github.com/se2p/se2022-gitexample.git"
   ]
  },
  {
   "cell_type": "markdown",
   "id": "918b6c91",
   "metadata": {
    "slideshow": {
     "slide_type": "skip"
    }
   },
   "source": [
    "Unser Repository hat nun zwei Remotes:"
   ]
  },
  {
   "cell_type": "code",
   "execution_count": 143,
   "id": "01419bea",
   "metadata": {
    "slideshow": {
     "slide_type": "fragment"
    }
   },
   "outputs": [
    {
     "name": "stdout",
     "output_type": "stream",
     "text": [
      "github\n",
      "origin\n"
     ]
    }
   ],
   "source": [
    "git remote"
   ]
  },
  {
   "cell_type": "markdown",
   "id": "22d2c9c6",
   "metadata": {
    "slideshow": {
     "slide_type": "skip"
    }
   },
   "source": [
    "Der Name des Remotes kann bei einem `push` angegeben werden."
   ]
  },
  {
   "cell_type": "markdown",
   "id": "d9a1a1de",
   "metadata": {
    "slideshow": {
     "slide_type": "skip"
    }
   },
   "source": [
    "### Hinweis zum Pushen von Branches an Remotes\n",
    "\n",
    "Befindet man sich in einem Branch, der auf einem Remote noch nicht existiert, so resultiert ein `git push` in der folgenden Fehlermeldung:\n",
    "\n",
    "```\n",
    "fatal: The current branch Foo has no upstream branch.\n",
    "To push the current branch and set the remote as upstream, use\n",
    "\n",
    "    git push --set-upstream origin <branchname>\n",
    "```\n",
    "\n",
    "Durch Eingabe des vorgegebenen Befehls `git push --set-upstream origin <branchname>` wird der Branch am Remote `origin` angelegt. Danach kann man Dateiänderungen direkt in den Remote-Branch pushen. Alternativ erlaubt auch `git push --all` dass _alle_ Branches gepushed werden."
   ]
  },
  {
   "cell_type": "markdown",
   "id": "3b30d5d6",
   "metadata": {
    "slideshow": {
     "slide_type": "skip"
    }
   },
   "source": [
    "### Hinweis zum Pushen von Tags an Remotes\n",
    "\n",
    "Wenn nicht nur Dateiänderungen sondern auch Tags gepushed werden sollen, so muss man den Tagnamen der gepushed werden soll angeben: `git push origin <tagname>`. Alternativ pushed `git push --follow-tags` einfach alle Tags.\n"
   ]
  },
  {
   "cell_type": "code",
   "execution_count": 144,
   "id": "34e0a7f9",
   "metadata": {
    "slideshow": {
     "slide_type": "skip"
    }
   },
   "outputs": [],
   "source": [
    "# Clean up notebook\n",
    "cd ../..\n",
    "rm -rf tmp"
   ]
  }
 ],
 "metadata": {
  "kernelspec": {
   "display_name": "Bash",
   "language": "bash",
   "name": "bash"
  },
  "language_info": {
   "codemirror_mode": "shell",
   "file_extension": ".sh",
   "mimetype": "text/x-sh",
   "name": "bash"
  }
 },
 "nbformat": 4,
 "nbformat_minor": 5
}
